{
 "cells": [
  {
   "cell_type": "markdown",
   "metadata": {},
   "source": [
    "# Исследование надёжности заёмщиков – анализ банковских данных"
   ]
  },
  {
   "cell_type": "markdown",
   "metadata": {},
   "source": [
    "## Описание проекта\n",
    "\n",
    "**Задачи проекта:** На основе статистики о платёжеспособности клиентов исследовать влияние семейного положения, количества детей, уровня дохода и целей кредитования на факт возврата кредита в срок.\n",
    "\n",
    "**Данные для анализа:** Статистика о платёжеспособности клиентов.\n",
    "\n",
    "**Этапы проекта:** \n",
    "- [загрузка данных](#uploading)\n",
    "- [предобработка данных](#preprocessing)\n",
    ">- [обработка пропусков](#nan)\n",
    ">- [обработка дубликатов](#duplicates)\n",
    ">- [обработка прочих ошибок данных](#mistakes)\n",
    ">- [обработка полных дубликатов](#full_duplicates)\n",
    "- [исследовательский анализ данных](#correlation)\n",
    ">- [анализ зависимости между семейным положением и возвратом кредита в срок](#family_status_cor)\n",
    ">- [анализ зависимости между количеством детей и возвратом кредита в срок](#children_cor)\n",
    ">- [анализ зависимости между уровнем дохода и возвратом кредита в срок](#income_cor)\n",
    ">- [анализ влияния цели кредитования на возврат кредита в срок](#purpose_cor)\n",
    "- [Общий вывод и рекомендации](#conclusion)"
   ]
  },
  {
   "cell_type": "markdown",
   "metadata": {},
   "source": [
    "<a id=\"uploading\"></a> \n",
    "## Открытие файла с данными и изучение общей информации"
   ]
  },
  {
   "cell_type": "code",
   "execution_count": 1,
   "metadata": {},
   "outputs": [],
   "source": [
    "# импортируем необходимые библиотеки\n",
    "import pandas as pd"
   ]
  },
  {
   "cell_type": "code",
   "execution_count": 2,
   "metadata": {},
   "outputs": [
    {
     "name": "stdout",
     "output_type": "stream",
     "text": [
      "<class 'pandas.core.frame.DataFrame'>\n",
      "RangeIndex: 21525 entries, 0 to 21524\n",
      "Data columns (total 12 columns):\n",
      " #   Column            Non-Null Count  Dtype  \n",
      "---  ------            --------------  -----  \n",
      " 0   children          21525 non-null  int64  \n",
      " 1   days_employed     19351 non-null  float64\n",
      " 2   dob_years         21525 non-null  int64  \n",
      " 3   education         21525 non-null  object \n",
      " 4   education_id      21525 non-null  int64  \n",
      " 5   family_status     21525 non-null  object \n",
      " 6   family_status_id  21525 non-null  int64  \n",
      " 7   gender            21525 non-null  object \n",
      " 8   income_type       21525 non-null  object \n",
      " 9   debt              21525 non-null  int64  \n",
      " 10  total_income      19351 non-null  float64\n",
      " 11  purpose           21525 non-null  object \n",
      "dtypes: float64(2), int64(5), object(5)\n",
      "memory usage: 2.0+ MB\n"
     ]
    },
    {
     "data": {
      "text/html": [
       "<div>\n",
       "<style scoped>\n",
       "    .dataframe tbody tr th:only-of-type {\n",
       "        vertical-align: middle;\n",
       "    }\n",
       "\n",
       "    .dataframe tbody tr th {\n",
       "        vertical-align: top;\n",
       "    }\n",
       "\n",
       "    .dataframe thead th {\n",
       "        text-align: right;\n",
       "    }\n",
       "</style>\n",
       "<table border=\"1\" class=\"dataframe\">\n",
       "  <thead>\n",
       "    <tr style=\"text-align: right;\">\n",
       "      <th></th>\n",
       "      <th>children</th>\n",
       "      <th>days_employed</th>\n",
       "      <th>dob_years</th>\n",
       "      <th>education</th>\n",
       "      <th>education_id</th>\n",
       "      <th>family_status</th>\n",
       "      <th>family_status_id</th>\n",
       "      <th>gender</th>\n",
       "      <th>income_type</th>\n",
       "      <th>debt</th>\n",
       "      <th>total_income</th>\n",
       "      <th>purpose</th>\n",
       "    </tr>\n",
       "  </thead>\n",
       "  <tbody>\n",
       "    <tr>\n",
       "      <th>0</th>\n",
       "      <td>1</td>\n",
       "      <td>-8437.673028</td>\n",
       "      <td>42</td>\n",
       "      <td>высшее</td>\n",
       "      <td>0</td>\n",
       "      <td>женат / замужем</td>\n",
       "      <td>0</td>\n",
       "      <td>F</td>\n",
       "      <td>сотрудник</td>\n",
       "      <td>0</td>\n",
       "      <td>253875.639453</td>\n",
       "      <td>покупка жилья</td>\n",
       "    </tr>\n",
       "    <tr>\n",
       "      <th>1</th>\n",
       "      <td>1</td>\n",
       "      <td>-4024.803754</td>\n",
       "      <td>36</td>\n",
       "      <td>среднее</td>\n",
       "      <td>1</td>\n",
       "      <td>женат / замужем</td>\n",
       "      <td>0</td>\n",
       "      <td>F</td>\n",
       "      <td>сотрудник</td>\n",
       "      <td>0</td>\n",
       "      <td>112080.014102</td>\n",
       "      <td>приобретение автомобиля</td>\n",
       "    </tr>\n",
       "    <tr>\n",
       "      <th>2</th>\n",
       "      <td>0</td>\n",
       "      <td>-5623.422610</td>\n",
       "      <td>33</td>\n",
       "      <td>Среднее</td>\n",
       "      <td>1</td>\n",
       "      <td>женат / замужем</td>\n",
       "      <td>0</td>\n",
       "      <td>M</td>\n",
       "      <td>сотрудник</td>\n",
       "      <td>0</td>\n",
       "      <td>145885.952297</td>\n",
       "      <td>покупка жилья</td>\n",
       "    </tr>\n",
       "    <tr>\n",
       "      <th>3</th>\n",
       "      <td>3</td>\n",
       "      <td>-4124.747207</td>\n",
       "      <td>32</td>\n",
       "      <td>среднее</td>\n",
       "      <td>1</td>\n",
       "      <td>женат / замужем</td>\n",
       "      <td>0</td>\n",
       "      <td>M</td>\n",
       "      <td>сотрудник</td>\n",
       "      <td>0</td>\n",
       "      <td>267628.550329</td>\n",
       "      <td>дополнительное образование</td>\n",
       "    </tr>\n",
       "    <tr>\n",
       "      <th>4</th>\n",
       "      <td>0</td>\n",
       "      <td>340266.072047</td>\n",
       "      <td>53</td>\n",
       "      <td>среднее</td>\n",
       "      <td>1</td>\n",
       "      <td>гражданский брак</td>\n",
       "      <td>1</td>\n",
       "      <td>F</td>\n",
       "      <td>пенсионер</td>\n",
       "      <td>0</td>\n",
       "      <td>158616.077870</td>\n",
       "      <td>сыграть свадьбу</td>\n",
       "    </tr>\n",
       "  </tbody>\n",
       "</table>\n",
       "</div>"
      ],
      "text/plain": [
       "   children  days_employed  dob_years education  education_id  \\\n",
       "0         1   -8437.673028         42    высшее             0   \n",
       "1         1   -4024.803754         36   среднее             1   \n",
       "2         0   -5623.422610         33   Среднее             1   \n",
       "3         3   -4124.747207         32   среднее             1   \n",
       "4         0  340266.072047         53   среднее             1   \n",
       "\n",
       "      family_status  family_status_id gender income_type  debt   total_income  \\\n",
       "0   женат / замужем                 0      F   сотрудник     0  253875.639453   \n",
       "1   женат / замужем                 0      F   сотрудник     0  112080.014102   \n",
       "2   женат / замужем                 0      M   сотрудник     0  145885.952297   \n",
       "3   женат / замужем                 0      M   сотрудник     0  267628.550329   \n",
       "4  гражданский брак                 1      F   пенсионер     0  158616.077870   \n",
       "\n",
       "                      purpose  \n",
       "0               покупка жилья  \n",
       "1     приобретение автомобиля  \n",
       "2               покупка жилья  \n",
       "3  дополнительное образование  \n",
       "4             сыграть свадьбу  "
      ]
     },
     "execution_count": 2,
     "metadata": {},
     "output_type": "execute_result"
    }
   ],
   "source": [
    "# загружаем датасет, выводим первые 5 строк и читаем info по датасету\n",
    "df = pd.read_csv('data_borrowers.csv')\n",
    "df.info()\n",
    "df.head(5)"
   ]
  },
  {
   "cell_type": "markdown",
   "metadata": {},
   "source": [
    "### Вывод\n",
    "\n",
    "В таблице 21 525 строк и 12 столбцов, в т.ч.:\n",
    "- тип данных float64 – 2 столбца:\n",
    "> days_employed / общий трудовой стаж в днях,   \n",
    "> total_income / ежемесячный доход,\n",
    "- тип данных int64 – 5 столбцов:\n",
    "> children / кол-во детей в семье,    \n",
    "> dob_years / возраст клиента в годах,   \n",
    "> education_id / идентификатор уровня образования,    \n",
    "> family_status_id / идентификатор семейного положения,    \n",
    "> debt / имел ли задолженность по возврату кредитов,   \n",
    "- тип данных object – 5 столбцов:\n",
    "> education / уровень образования клиента,   \n",
    "> family_status / семейное положение,   \n",
    "> gender / пол клиента,   \n",
    "> income_type / тип занятости,   \n",
    "> purpose / цель получения кредита.\n",
    "\n",
    "Визуальный анализ данных выявил следующие ошибки данных:\n",
    "- В столбцах 'days_employed' и 'total_income' есть пропущенные значения.\n",
    "\n",
    "- Значения в столбце 'days_employed' представлены в десятичном формате и во многих случаях являются отрицательным. А в тех случаях когда значения положительные, порядок чисел существенно больше, чем у отрицательных. Это позволяет предположить, что положительные значения являются не днями, а какими-то более мелкими единицах измерения.\n",
    "\n",
    "- Значения в столбце 'education' написаны с использованием разного регистра."
   ]
  },
  {
   "cell_type": "markdown",
   "metadata": {},
   "source": [
    "<a id=\"preprocessing\"></a> \n",
    "## Предобработка данных"
   ]
  },
  {
   "cell_type": "markdown",
   "metadata": {},
   "source": [
    "<a id=\"nan\"></a> \n",
    "### Пропуски"
   ]
  },
  {
   "cell_type": "markdown",
   "metadata": {},
   "source": [
    "Значения отсутствуют в столбцах 'days_employed' и 'total_income'. Посчитаем кол-во пропусков в каждом столбце."
   ]
  },
  {
   "cell_type": "code",
   "execution_count": 3,
   "metadata": {},
   "outputs": [
    {
     "name": "stdout",
     "output_type": "stream",
     "text": [
      "Кол-во пропусков в days_employed: 2174\n",
      "Кол-во пропусков в total_income: 2174\n"
     ]
    }
   ],
   "source": [
    "print('Кол-во пропусков в days_employed:', df['days_employed'].isnull().sum())\n",
    "print('Кол-во пропусков в total_income:', df['total_income'].isnull().sum())"
   ]
  },
  {
   "cell_type": "markdown",
   "metadata": {},
   "source": [
    "Количество отсутствующих значений одинаково для обоих столбцов – 2174. Можно предположить, что значения отсутствуют симметрично.\n",
    "\n",
    "Проверим, вызвав список строк с пропусками значений."
   ]
  },
  {
   "cell_type": "code",
   "execution_count": 4,
   "metadata": {
    "scrolled": true
   },
   "outputs": [
    {
     "name": "stdout",
     "output_type": "stream",
     "text": [
      "Всего строк с пропусками: 2174\n"
     ]
    },
    {
     "data": {
      "text/html": [
       "<div>\n",
       "<style scoped>\n",
       "    .dataframe tbody tr th:only-of-type {\n",
       "        vertical-align: middle;\n",
       "    }\n",
       "\n",
       "    .dataframe tbody tr th {\n",
       "        vertical-align: top;\n",
       "    }\n",
       "\n",
       "    .dataframe thead th {\n",
       "        text-align: right;\n",
       "    }\n",
       "</style>\n",
       "<table border=\"1\" class=\"dataframe\">\n",
       "  <thead>\n",
       "    <tr style=\"text-align: right;\">\n",
       "      <th></th>\n",
       "      <th>children</th>\n",
       "      <th>days_employed</th>\n",
       "      <th>dob_years</th>\n",
       "      <th>education</th>\n",
       "      <th>education_id</th>\n",
       "      <th>family_status</th>\n",
       "      <th>family_status_id</th>\n",
       "      <th>gender</th>\n",
       "      <th>income_type</th>\n",
       "      <th>debt</th>\n",
       "      <th>total_income</th>\n",
       "      <th>purpose</th>\n",
       "    </tr>\n",
       "  </thead>\n",
       "  <tbody>\n",
       "    <tr>\n",
       "      <th>12</th>\n",
       "      <td>0</td>\n",
       "      <td>NaN</td>\n",
       "      <td>65</td>\n",
       "      <td>среднее</td>\n",
       "      <td>1</td>\n",
       "      <td>гражданский брак</td>\n",
       "      <td>1</td>\n",
       "      <td>M</td>\n",
       "      <td>пенсионер</td>\n",
       "      <td>0</td>\n",
       "      <td>NaN</td>\n",
       "      <td>сыграть свадьбу</td>\n",
       "    </tr>\n",
       "    <tr>\n",
       "      <th>26</th>\n",
       "      <td>0</td>\n",
       "      <td>NaN</td>\n",
       "      <td>41</td>\n",
       "      <td>среднее</td>\n",
       "      <td>1</td>\n",
       "      <td>женат / замужем</td>\n",
       "      <td>0</td>\n",
       "      <td>M</td>\n",
       "      <td>госслужащий</td>\n",
       "      <td>0</td>\n",
       "      <td>NaN</td>\n",
       "      <td>образование</td>\n",
       "    </tr>\n",
       "    <tr>\n",
       "      <th>29</th>\n",
       "      <td>0</td>\n",
       "      <td>NaN</td>\n",
       "      <td>63</td>\n",
       "      <td>среднее</td>\n",
       "      <td>1</td>\n",
       "      <td>Не женат / не замужем</td>\n",
       "      <td>4</td>\n",
       "      <td>F</td>\n",
       "      <td>пенсионер</td>\n",
       "      <td>0</td>\n",
       "      <td>NaN</td>\n",
       "      <td>строительство жилой недвижимости</td>\n",
       "    </tr>\n",
       "    <tr>\n",
       "      <th>41</th>\n",
       "      <td>0</td>\n",
       "      <td>NaN</td>\n",
       "      <td>50</td>\n",
       "      <td>среднее</td>\n",
       "      <td>1</td>\n",
       "      <td>женат / замужем</td>\n",
       "      <td>0</td>\n",
       "      <td>F</td>\n",
       "      <td>госслужащий</td>\n",
       "      <td>0</td>\n",
       "      <td>NaN</td>\n",
       "      <td>сделка с подержанным автомобилем</td>\n",
       "    </tr>\n",
       "    <tr>\n",
       "      <th>55</th>\n",
       "      <td>0</td>\n",
       "      <td>NaN</td>\n",
       "      <td>54</td>\n",
       "      <td>среднее</td>\n",
       "      <td>1</td>\n",
       "      <td>гражданский брак</td>\n",
       "      <td>1</td>\n",
       "      <td>F</td>\n",
       "      <td>пенсионер</td>\n",
       "      <td>1</td>\n",
       "      <td>NaN</td>\n",
       "      <td>сыграть свадьбу</td>\n",
       "    </tr>\n",
       "  </tbody>\n",
       "</table>\n",
       "</div>"
      ],
      "text/plain": [
       "    children  days_employed  dob_years education  education_id  \\\n",
       "12         0            NaN         65   среднее             1   \n",
       "26         0            NaN         41   среднее             1   \n",
       "29         0            NaN         63   среднее             1   \n",
       "41         0            NaN         50   среднее             1   \n",
       "55         0            NaN         54   среднее             1   \n",
       "\n",
       "            family_status  family_status_id gender  income_type  debt  \\\n",
       "12       гражданский брак                 1      M    пенсионер     0   \n",
       "26        женат / замужем                 0      M  госслужащий     0   \n",
       "29  Не женат / не замужем                 4      F    пенсионер     0   \n",
       "41        женат / замужем                 0      F  госслужащий     0   \n",
       "55       гражданский брак                 1      F    пенсионер     1   \n",
       "\n",
       "    total_income                           purpose  \n",
       "12           NaN                   сыграть свадьбу  \n",
       "26           NaN                       образование  \n",
       "29           NaN  строительство жилой недвижимости  \n",
       "41           NaN  сделка с подержанным автомобилем  \n",
       "55           NaN                   сыграть свадьбу  "
      ]
     },
     "execution_count": 4,
     "metadata": {},
     "output_type": "execute_result"
    }
   ],
   "source": [
    "print('Всего строк с пропусками:', len(df[df['days_employed'].isnull()]))\n",
    "df[df['days_employed'].isnull()].head()"
   ]
  },
  {
   "cell_type": "markdown",
   "metadata": {},
   "source": [
    "Предположение подтвердилось: где нет данных о стаже, там нет данных о доходе."
   ]
  },
  {
   "cell_type": "markdown",
   "metadata": {},
   "source": [
    "#### Трудовой стаж в днях"
   ]
  },
  {
   "cell_type": "markdown",
   "metadata": {},
   "source": [
    "Кроме пропусков в столбце 'days_employed' есть еще ряд ошибок:\n",
    "- данные имеют формат float, хотя из логики данных должен быть int, потому что это кол-во дней,\n",
    "- часть данных является отрицательными значениями,\n",
    "- положительные значения имеют порядок чисел, который существенно больше возможного для стажа в днях и не поддается интерпретации.\n",
    "\n",
    "Поскольку данные о стаже вызывают много вопросов к их качеству и не входят в перечень параметров, которые необходимо проанализировать с точки зрения влияния на возврат кредита в срок, то можно оставить эти ошибки без обработки, заполнив только пропуски на условное значение – маркер – -1.\n",
    "\n",
    "После операции замены убедимся, что в столбце 'days_employed' больше нет пропусков."
   ]
  },
  {
   "cell_type": "code",
   "execution_count": 5,
   "metadata": {},
   "outputs": [
    {
     "name": "stdout",
     "output_type": "stream",
     "text": [
      "Кол-во пропусков в days_employed: 0\n"
     ]
    }
   ],
   "source": [
    "df['days_employed'] = df['days_employed'].fillna(-1)\n",
    "print('Кол-во пропусков в days_employed:', df['days_employed'].isnull().sum())"
   ]
  },
  {
   "cell_type": "markdown",
   "metadata": {},
   "source": [
    "#### Ежемесячный доход"
   ]
  },
  {
   "cell_type": "markdown",
   "metadata": {},
   "source": [
    "Доля пропущенных значений в 'total_income' существенна – 10%.  \n",
    "Заменять данные о доходе на условный ноль нельзя, потому что это может исказить зависимость между уровнем дохода и возвратом кредита в срок. \n",
    "\n",
    "Правильнее будет заменить пустые значения медианными исходя их типа занятости и уровня образования (education_id и income_type), предполагая, что доход потенциально может зависеть от этих параметров.\n",
    "\n",
    "Воспользуемся комбинацией groupby() и transform(), чтобы заполнить отсутствующие значения медианой."
   ]
  },
  {
   "cell_type": "code",
   "execution_count": 6,
   "metadata": {},
   "outputs": [
    {
     "name": "stdout",
     "output_type": "stream",
     "text": [
      "Кол-во пропусков в total_income: 0\n"
     ]
    }
   ],
   "source": [
    "df['total_income'] = df['total_income'].fillna(df.groupby(['education_id', 'income_type'])['total_income'].transform('median'))\n",
    "print('Кол-во пропусков в total_income:', df['total_income'].isnull().sum())"
   ]
  },
  {
   "cell_type": "markdown",
   "metadata": {},
   "source": [
    "#### Вывод\n",
    "\n",
    "На этапе предобработки данных были обнаружены синхронно отсутствующие значения в столбцах total_income и days_employed.\n",
    "\n",
    "Отсутствие данных может быть вызвано:\n",
    "- либо ошибками выгрузки данных из базы, \n",
    "- либо более вероятно, что кредит был выдан по упрощенной процедуре без необходимости предоставления данных о доходе и трудовом стаже.\n",
    "\n",
    "Отсутствующие значения в трудовом стаже были заменены на условное значение -1, отличное от нуля, чтобы не искажать статистику данных по заемщикам с реальным нулевым стажем. Поскольку вопросы заказчика не предполагают выявление зависимости между продолжительностью трудового стажа и возвратом кредита в срок, то было принято решение не обрабатывать данные о стаже на предмет отрицательных значений и положительных значений большой разрядности.\n",
    "\n",
    "Отсутствующие значения в уровне дохода были заменены на медиану уровня дохода исходя из типа занятости и уровня образования. Использование медианы обосновано тем, что средняя может быть искажена, если есть аномальные значения дохода внутри группы."
   ]
  },
  {
   "cell_type": "markdown",
   "metadata": {},
   "source": [
    "<a id=\"duplicates\"></a> \n",
    "### Дубликаты"
   ]
  },
  {
   "cell_type": "markdown",
   "metadata": {},
   "source": [
    "#### Дубликаты, связанные с использованием разных регистров написания"
   ]
  },
  {
   "cell_type": "markdown",
   "metadata": {},
   "source": [
    "Чтобы исключить дубликаты, связанные с использованием разных регистров написания, приведем значения столбцов:\n",
    "- 'education',\n",
    "- 'family_status',\n",
    "- 'income_type',\n",
    "- 'gender'   \n",
    "\n",
    "к нижнему регистру, воспользовавшись методом str.lower(). И после обработки вызовем списки уникальных значений в этих столбцах."
   ]
  },
  {
   "cell_type": "code",
   "execution_count": 7,
   "metadata": {},
   "outputs": [
    {
     "name": "stdout",
     "output_type": "stream",
     "text": [
      "Список уникальных значений\n",
      "--------------\n",
      "education ['высшее' 'среднее' 'неоконченное высшее' 'начальное' 'ученая степень']\n",
      " \n",
      "family_status ['женат / замужем' 'гражданский брак' 'вдовец / вдова' 'в разводе'\n",
      " 'не женат / не замужем']\n",
      " \n",
      "income_type ['сотрудник' 'пенсионер' 'компаньон' 'госслужащий' 'безработный'\n",
      " 'предприниматель' 'студент' 'в декрете']\n",
      " \n",
      "gender ['f' 'm' 'xna']\n",
      " \n"
     ]
    }
   ],
   "source": [
    "object_columns = ['education', 'family_status', 'income_type', 'gender']\n",
    "\n",
    "print('Список уникальных значений')\n",
    "print('--------------')\n",
    "\n",
    "for column in object_columns:\n",
    "    df[column] = df[column].str.lower()\n",
    "    print(column, df[column].unique())\n",
    "    print(' ')"
   ]
  },
  {
   "cell_type": "markdown",
   "metadata": {},
   "source": [
    "Дубликаты, вызванные использованием разных регистров написания, отсуствуют."
   ]
  },
  {
   "cell_type": "markdown",
   "metadata": {},
   "source": [
    "#### Скрытые дубликаты"
   ]
  },
  {
   "cell_type": "markdown",
   "metadata": {},
   "source": [
    "Проверим, нет ли скрытых дубликатов такого типа: одно и то же значение в 'education_id' соответствует разным значениям в столбце 'education'. Аналогичную проверку на скрытые дубликаты сделаем для пары столбцов 'family_status_id' – 'family_status'. \n",
    "\n",
    "Для этого отдельно сгруппируем данные по 'education_id' и 'family_status_id' и для каждого id найдем список уникальных значений в столбцах 'education' и 'family_status' соответственно."
   ]
  },
  {
   "cell_type": "code",
   "execution_count": 8,
   "metadata": {},
   "outputs": [
    {
     "data": {
      "text/html": [
       "<div>\n",
       "<style scoped>\n",
       "    .dataframe tbody tr th:only-of-type {\n",
       "        vertical-align: middle;\n",
       "    }\n",
       "\n",
       "    .dataframe tbody tr th {\n",
       "        vertical-align: top;\n",
       "    }\n",
       "\n",
       "    .dataframe thead th {\n",
       "        text-align: right;\n",
       "    }\n",
       "</style>\n",
       "<table border=\"1\" class=\"dataframe\">\n",
       "  <thead>\n",
       "    <tr style=\"text-align: right;\">\n",
       "      <th></th>\n",
       "      <th>education</th>\n",
       "    </tr>\n",
       "    <tr>\n",
       "      <th>education_id</th>\n",
       "      <th></th>\n",
       "    </tr>\n",
       "  </thead>\n",
       "  <tbody>\n",
       "    <tr>\n",
       "      <th>0</th>\n",
       "      <td>[высшее]</td>\n",
       "    </tr>\n",
       "    <tr>\n",
       "      <th>1</th>\n",
       "      <td>[среднее]</td>\n",
       "    </tr>\n",
       "    <tr>\n",
       "      <th>2</th>\n",
       "      <td>[неоконченное высшее]</td>\n",
       "    </tr>\n",
       "    <tr>\n",
       "      <th>3</th>\n",
       "      <td>[начальное]</td>\n",
       "    </tr>\n",
       "    <tr>\n",
       "      <th>4</th>\n",
       "      <td>[ученая степень]</td>\n",
       "    </tr>\n",
       "  </tbody>\n",
       "</table>\n",
       "</div>"
      ],
      "text/plain": [
       "                          education\n",
       "education_id                       \n",
       "0                          [высшее]\n",
       "1                         [среднее]\n",
       "2             [неоконченное высшее]\n",
       "3                       [начальное]\n",
       "4                  [ученая степень]"
      ]
     },
     "execution_count": 8,
     "metadata": {},
     "output_type": "execute_result"
    }
   ],
   "source": [
    "df.groupby('education_id').agg({'education': 'unique'})"
   ]
  },
  {
   "cell_type": "code",
   "execution_count": 9,
   "metadata": {},
   "outputs": [
    {
     "data": {
      "text/html": [
       "<div>\n",
       "<style scoped>\n",
       "    .dataframe tbody tr th:only-of-type {\n",
       "        vertical-align: middle;\n",
       "    }\n",
       "\n",
       "    .dataframe tbody tr th {\n",
       "        vertical-align: top;\n",
       "    }\n",
       "\n",
       "    .dataframe thead th {\n",
       "        text-align: right;\n",
       "    }\n",
       "</style>\n",
       "<table border=\"1\" class=\"dataframe\">\n",
       "  <thead>\n",
       "    <tr style=\"text-align: right;\">\n",
       "      <th></th>\n",
       "      <th>family_status</th>\n",
       "    </tr>\n",
       "    <tr>\n",
       "      <th>family_status_id</th>\n",
       "      <th></th>\n",
       "    </tr>\n",
       "  </thead>\n",
       "  <tbody>\n",
       "    <tr>\n",
       "      <th>0</th>\n",
       "      <td>[женат / замужем]</td>\n",
       "    </tr>\n",
       "    <tr>\n",
       "      <th>1</th>\n",
       "      <td>[гражданский брак]</td>\n",
       "    </tr>\n",
       "    <tr>\n",
       "      <th>2</th>\n",
       "      <td>[вдовец / вдова]</td>\n",
       "    </tr>\n",
       "    <tr>\n",
       "      <th>3</th>\n",
       "      <td>[в разводе]</td>\n",
       "    </tr>\n",
       "    <tr>\n",
       "      <th>4</th>\n",
       "      <td>[не женат / не замужем]</td>\n",
       "    </tr>\n",
       "  </tbody>\n",
       "</table>\n",
       "</div>"
      ],
      "text/plain": [
       "                            family_status\n",
       "family_status_id                         \n",
       "0                       [женат / замужем]\n",
       "1                      [гражданский брак]\n",
       "2                        [вдовец / вдова]\n",
       "3                             [в разводе]\n",
       "4                 [не женат / не замужем]"
      ]
     },
     "execution_count": 9,
     "metadata": {},
     "output_type": "execute_result"
    }
   ],
   "source": [
    "df.groupby('family_status_id').agg({'family_status': 'unique'})"
   ]
  },
  {
   "cell_type": "markdown",
   "metadata": {},
   "source": [
    "Скрытых дубликатов нет."
   ]
  },
  {
   "cell_type": "markdown",
   "metadata": {},
   "source": [
    "#### Вывод\n",
    "\n",
    "На этапе визуального анализа данных в столбце 'education' были обнаружены значения, написанные с использованием разных регистов. Можно предположить, что причиной их возникновения является тот факт, что поле 'education' заполняется сотрудниками банка вручную, а не путем выбора необходимого параметра из ограниченного списка.\n",
    "\n",
    "Все значения в столбце 'education' приведены к нижнему регистру.\n",
    "\n",
    "Аналогичная процедура также применена еще к 3-м столбцам типа object – 'family_status', 'income_type', 'gender', – чтобы исключить вероятность дублирования значений с разным написанием.\n",
    "\n",
    "Проверка на скрытые дубликаты в 2-х парах столбцов  'education_id' – 'education' и 'family_status_id' – 'family_status' показала отсутствие таковых.\n",
    "\n",
    "На основе выявленных ошибок можно рекомендовать банку доработку к форме ввода данных, чтобы поля типа object (текстовые поля) по возможности заполнялись путем выбора необходимого варианта из ограниченного списка, а не путем ручного ввода данных. "
   ]
  },
  {
   "cell_type": "markdown",
   "metadata": {},
   "source": [
    "<a id=\"mistakes\"></a> \n",
    "### Прочие ошибки данных"
   ]
  },
  {
   "cell_type": "markdown",
   "metadata": {},
   "source": [
    "Выведем максимальное и минимальное значения в столбцах типа int, чтобы исключить аномалии в данных:\n",
    "- children, \n",
    "- dob_years,\n",
    "- debt."
   ]
  },
  {
   "cell_type": "code",
   "execution_count": 10,
   "metadata": {},
   "outputs": [
    {
     "name": "stdout",
     "output_type": "stream",
     "text": [
      "children\n",
      "max: 20\n",
      "min: -1\n",
      " \n",
      "dob_years\n",
      "max: 75\n",
      "min: 0\n",
      " \n",
      "debt\n",
      "max: 1\n",
      "min: 0\n",
      " \n"
     ]
    }
   ],
   "source": [
    "int_columns = ['children', 'dob_years', 'debt']\n",
    "for column in int_columns:\n",
    "    print(column)\n",
    "    print('max:', df[column].max())\n",
    "    print('min:', df[column].min())\n",
    "    print(' ')"
   ]
  },
  {
   "cell_type": "markdown",
   "metadata": {},
   "source": [
    "- В столбце 'children' есть явные ошибки данных – -1 ребенок. 20 детей скорее всего тоже является ошибкой.\n",
    "- В столбце 'dob_years' встречается значение 0, что является ошибкой, поскольку кредитование начинается с 18 лет.\n",
    "\n",
    "Возможно, это ошибки выгрузки или ошибка ручного ввода данных на этапе заполнения анкеты клиента.\n",
    "\n",
    "- В солбце 'debt' с данными все нормально.\n",
    "\n",
    "Далее обработаем найденные ошибки."
   ]
  },
  {
   "cell_type": "markdown",
   "metadata": {},
   "source": [
    "#### Количество детей\n",
    "\n",
    "Посмотрим на распределение заемщиков по группам в зависимости от кол-ва детей."
   ]
  },
  {
   "cell_type": "code",
   "execution_count": 11,
   "metadata": {},
   "outputs": [
    {
     "data": {
      "text/html": [
       "<div>\n",
       "<style scoped>\n",
       "    .dataframe tbody tr th:only-of-type {\n",
       "        vertical-align: middle;\n",
       "    }\n",
       "\n",
       "    .dataframe tbody tr th {\n",
       "        vertical-align: top;\n",
       "    }\n",
       "\n",
       "    .dataframe thead th {\n",
       "        text-align: right;\n",
       "    }\n",
       "</style>\n",
       "<table border=\"1\" class=\"dataframe\">\n",
       "  <thead>\n",
       "    <tr style=\"text-align: right;\">\n",
       "      <th></th>\n",
       "      <th>children</th>\n",
       "      <th>clients_qty</th>\n",
       "      <th>clients_ratio, %</th>\n",
       "    </tr>\n",
       "  </thead>\n",
       "  <tbody>\n",
       "    <tr>\n",
       "      <th>0</th>\n",
       "      <td>-1</td>\n",
       "      <td>47</td>\n",
       "      <td>0.2</td>\n",
       "    </tr>\n",
       "    <tr>\n",
       "      <th>1</th>\n",
       "      <td>0</td>\n",
       "      <td>14149</td>\n",
       "      <td>65.7</td>\n",
       "    </tr>\n",
       "    <tr>\n",
       "      <th>2</th>\n",
       "      <td>1</td>\n",
       "      <td>4818</td>\n",
       "      <td>22.4</td>\n",
       "    </tr>\n",
       "    <tr>\n",
       "      <th>3</th>\n",
       "      <td>2</td>\n",
       "      <td>2055</td>\n",
       "      <td>9.5</td>\n",
       "    </tr>\n",
       "    <tr>\n",
       "      <th>4</th>\n",
       "      <td>3</td>\n",
       "      <td>330</td>\n",
       "      <td>1.5</td>\n",
       "    </tr>\n",
       "    <tr>\n",
       "      <th>5</th>\n",
       "      <td>4</td>\n",
       "      <td>41</td>\n",
       "      <td>0.2</td>\n",
       "    </tr>\n",
       "    <tr>\n",
       "      <th>6</th>\n",
       "      <td>5</td>\n",
       "      <td>9</td>\n",
       "      <td>0.0</td>\n",
       "    </tr>\n",
       "    <tr>\n",
       "      <th>7</th>\n",
       "      <td>20</td>\n",
       "      <td>76</td>\n",
       "      <td>0.4</td>\n",
       "    </tr>\n",
       "  </tbody>\n",
       "</table>\n",
       "</div>"
      ],
      "text/plain": [
       "   children  clients_qty  clients_ratio, %\n",
       "0        -1           47               0.2\n",
       "1         0        14149              65.7\n",
       "2         1         4818              22.4\n",
       "3         2         2055               9.5\n",
       "4         3          330               1.5\n",
       "5         4           41               0.2\n",
       "6         5            9               0.0\n",
       "7        20           76               0.4"
      ]
     },
     "execution_count": 11,
     "metadata": {},
     "output_type": "execute_result"
    }
   ],
   "source": [
    "childrens = df.groupby('children').agg(clients_qty = ('children', 'count')).reset_index()\n",
    "childrens['clients_ratio, %'] = round(childrens['clients_qty'] / childrens['clients_qty'].sum() * 100, ndigits=1)\n",
    "childrens"
   ]
  },
  {
   "cell_type": "markdown",
   "metadata": {},
   "source": [
    "Доля клиентов с ошибочными данными в количестве детей (-1 и 20 детей) меньше 1%.  \n",
    "Можно предположить, что -1 – на самом деле 1, а 20 – на самом деле 2. Поэтому заменим строки с -1 на 1, а 20 на 2. Статистику по заемщикам с 1-м и 2-мя детьми мы не исказим, потому что доля добавленных случаев 0.2% и 0.4% от числа заемщиков с 1-м и 2-мя детьми соответственно."
   ]
  },
  {
   "cell_type": "code",
   "execution_count": 12,
   "metadata": {
    "scrolled": true
   },
   "outputs": [
    {
     "data": {
      "text/html": [
       "<div>\n",
       "<style scoped>\n",
       "    .dataframe tbody tr th:only-of-type {\n",
       "        vertical-align: middle;\n",
       "    }\n",
       "\n",
       "    .dataframe tbody tr th {\n",
       "        vertical-align: top;\n",
       "    }\n",
       "\n",
       "    .dataframe thead th {\n",
       "        text-align: right;\n",
       "    }\n",
       "</style>\n",
       "<table border=\"1\" class=\"dataframe\">\n",
       "  <thead>\n",
       "    <tr style=\"text-align: right;\">\n",
       "      <th></th>\n",
       "      <th>clients_qty</th>\n",
       "    </tr>\n",
       "    <tr>\n",
       "      <th>children</th>\n",
       "      <th></th>\n",
       "    </tr>\n",
       "  </thead>\n",
       "  <tbody>\n",
       "    <tr>\n",
       "      <th>0</th>\n",
       "      <td>14149</td>\n",
       "    </tr>\n",
       "    <tr>\n",
       "      <th>1</th>\n",
       "      <td>4865</td>\n",
       "    </tr>\n",
       "    <tr>\n",
       "      <th>2</th>\n",
       "      <td>2131</td>\n",
       "    </tr>\n",
       "    <tr>\n",
       "      <th>3</th>\n",
       "      <td>330</td>\n",
       "    </tr>\n",
       "    <tr>\n",
       "      <th>4</th>\n",
       "      <td>41</td>\n",
       "    </tr>\n",
       "    <tr>\n",
       "      <th>5</th>\n",
       "      <td>9</td>\n",
       "    </tr>\n",
       "  </tbody>\n",
       "</table>\n",
       "</div>"
      ],
      "text/plain": [
       "          clients_qty\n",
       "children             \n",
       "0               14149\n",
       "1                4865\n",
       "2                2131\n",
       "3                 330\n",
       "4                  41\n",
       "5                   9"
      ]
     },
     "execution_count": 12,
     "metadata": {},
     "output_type": "execute_result"
    }
   ],
   "source": [
    "df['children'] = df['children'].replace(-1, 1) \n",
    "df['children'] = df['children'].replace(20, 2) \n",
    "df.groupby('children').agg(clients_qty = ('children', 'count'))"
   ]
  },
  {
   "cell_type": "markdown",
   "metadata": {},
   "source": [
    "#### Возраст клиента"
   ]
  },
  {
   "cell_type": "markdown",
   "metadata": {},
   "source": [
    "Посмотрим, какие еще значения возраста менее 18 лет присутствует в данных и сколько строк имеют возраст меньше 18 лет."
   ]
  },
  {
   "cell_type": "code",
   "execution_count": 13,
   "metadata": {},
   "outputs": [
    {
     "name": "stdout",
     "output_type": "stream",
     "text": [
      "Перечень возрастов до 18 лет: [0]\n",
      "Кол-во строк с возрастом до 18 лет: 101\n",
      "% строк с возрастом до 18 лет: 0.5\n"
     ]
    }
   ],
   "source": [
    "print('Перечень возрастов до 18 лет:', df.query('dob_years < 18')['dob_years'].unique())\n",
    "print('Кол-во строк с возрастом до 18 лет:', len(df.query('dob_years < 18')))\n",
    "print('% строк с возрастом до 18 лет:', round(len(df.query('dob_years < 18')) / len(df) * 100, ndigits=1))"
   ]
  },
  {
   "cell_type": "markdown",
   "metadata": {},
   "source": [
    "0 лет – это единственное значение возраста, которое меньше 18 лет. В данных 101 строка с указанным возрастом 0 лет – это менее 1% данных. Причина данной ошибки может быть либо ошибка выгрузки данных, либо ошибка ручного ввода на этапе заполнения анкеты клиента.\n",
    "\n",
    "Оставим эту ошибку без обработки, поскольку она не влияет на выводы, которые необходимо сделать по результатам анализа данных."
   ]
  },
  {
   "cell_type": "markdown",
   "metadata": {},
   "source": [
    "#### Вывод\n",
    "\n",
    "Дальнейший визуальный анализ данных показал наличие следующих ошибок в данных:   \n",
    "\n",
    "- -1 и 20 в значениях кол-ва детей (столбец 'children')    \n",
    "Ошибочные значения были исправлены на реально возможные – 1 и 2 соответственно.\n",
    "\n",
    "\n",
    "- 0 в значении возраста клиента (столбец 'dob_years')    \n",
    "Ошибка оставлена без обработки, поскольку она не влияет на выводы, которые необходимо сделать по результатам анализа данных.\n",
    "\n",
    "Вероятно, причиной данных ошибок является ручной ввод данных на этапе заполнения анкеты клиента. Можно рекомендовать банку доработку к форме ввода данных, чтобы данные поля проходили определенную автоматическую проверку:\n",
    "- 'children' – на отсутствие отрицательных значений,\n",
    "- 'dob_years' – на полное отсутствие значения или на значение меньше 18."
   ]
  },
  {
   "cell_type": "markdown",
   "metadata": {},
   "source": [
    "<a id=\"full_duplicates\"></a> \n",
    "### Полные дубликаты"
   ]
  },
  {
   "cell_type": "markdown",
   "metadata": {},
   "source": [
    "После проведенной на предыдущих шагах предобработки данных необходимо проверить данные на наличие полных дубликатов – строк с абсолютно идентичными данными во всех столбцах."
   ]
  },
  {
   "cell_type": "code",
   "execution_count": 14,
   "metadata": {},
   "outputs": [
    {
     "name": "stdout",
     "output_type": "stream",
     "text": [
      "Кол-во полных дубликатов строк: 71\n",
      "% полных дубликатов строк: 0.3\n"
     ]
    }
   ],
   "source": [
    "print('Кол-во полных дубликатов строк:', len(df[df.duplicated()]))\n",
    "print('% полных дубликатов строк:', round(len(df[df.duplicated()]) / len(df) * 100, ndigits=1))"
   ]
  },
  {
   "cell_type": "markdown",
   "metadata": {},
   "source": [
    "Процент полных дубликатов строк менее 1%. Удалим их из данных методом drop_duplicates()."
   ]
  },
  {
   "cell_type": "code",
   "execution_count": 15,
   "metadata": {},
   "outputs": [
    {
     "name": "stdout",
     "output_type": "stream",
     "text": [
      "Кол-во строк после удаления полных дубликатов: 21454\n"
     ]
    }
   ],
   "source": [
    "df = df.drop_duplicates()\n",
    "print('Кол-во строк после удаления полных дубликатов:', len(df))"
   ]
  },
  {
   "cell_type": "code",
   "execution_count": 16,
   "metadata": {},
   "outputs": [
    {
     "name": "stdout",
     "output_type": "stream",
     "text": [
      "<class 'pandas.core.frame.DataFrame'>\n",
      "Int64Index: 21454 entries, 0 to 21524\n",
      "Data columns (total 12 columns):\n",
      " #   Column            Non-Null Count  Dtype  \n",
      "---  ------            --------------  -----  \n",
      " 0   children          21454 non-null  int64  \n",
      " 1   days_employed     21454 non-null  float64\n",
      " 2   dob_years         21454 non-null  int64  \n",
      " 3   education         21454 non-null  object \n",
      " 4   education_id      21454 non-null  int64  \n",
      " 5   family_status     21454 non-null  object \n",
      " 6   family_status_id  21454 non-null  int64  \n",
      " 7   gender            21454 non-null  object \n",
      " 8   income_type       21454 non-null  object \n",
      " 9   debt              21454 non-null  int64  \n",
      " 10  total_income      21454 non-null  float64\n",
      " 11  purpose           21454 non-null  object \n",
      "dtypes: float64(2), int64(5), object(5)\n",
      "memory usage: 2.1+ MB\n"
     ]
    }
   ],
   "source": [
    "df.info()"
   ]
  },
  {
   "cell_type": "markdown",
   "metadata": {},
   "source": [
    "#### Вывод\n",
    "\n",
    "Предобработанные данные были проверены на наличие полных дубликатов – строк с абсолютно идентичным набором данных во всех столбцах.\n",
    "Было обнаружено 71 строка, имеющие абсолютные дубли. Это менее 1% от всех данных. Полные дубли были удалены из таблицы.\n",
    "\n",
    "Причиной возникновения полных дублей может быть как ошибка выгрузки данных, так и случайное совпадение в данных у разных клиентов. Случайное совпадение данных у разные клиентов проверить невозможно, поскольку отсутствуют данные по id заемщика.\n",
    "\n",
    "На будущее можно рекомендовать предоставлять выгрузку с включенным столбцом 'id_заемщика'."
   ]
  },
  {
   "cell_type": "markdown",
   "metadata": {},
   "source": [
    "<a id=\"correlation\"></a> \n",
    "## Исследовательский анализ данных"
   ]
  },
  {
   "cell_type": "markdown",
   "metadata": {},
   "source": [
    "Напишем пользовательскую функцию, которая на выходе будет получать таблицу с данными, сгруппированными по столбцу, указанному в аргументе функции, и рассчитанными для каждой группы значениями:\n",
    "- общее кол-во клиентов – clients_qty,\n",
    "- кол-во клиентов с задолженностью – debts_qty,\n",
    "- % клиентов с задолженностью – debts_ratio.\n",
    "- % клиентов в данной группе  – clients_ratio."
   ]
  },
  {
   "cell_type": "code",
   "execution_count": 17,
   "metadata": {},
   "outputs": [],
   "source": [
    "def correlation(metrics):\n",
    "    df_grouped = (df.groupby(metrics) # группировка данных\n",
    "                    .agg(clients_qty=('debt', 'count'), # расчет кол-ва заемщиков в группе\n",
    "                         debts_qty=('debt', 'sum'), #расчет кол-ва заемщиков с задолженностью\n",
    "                         debts_ratio=('debt', 'mean') # расчет доли заемщиков с задолженностью\n",
    "                        )\n",
    "                    .sort_values(by=('debts_ratio'), ascending=False) # сортировка по убыванию доли заемщиков с задолженностью\n",
    "                 )\n",
    "    df_grouped['clients_ratio, %'] = round(df_grouped['clients_qty'] / df_grouped['clients_qty'].sum() * 100, ndigits=1) # расчет значений столбца 'clients_ratio'\n",
    "    df_grouped['debts_ratio'] = round(df_grouped['debts_ratio'] * 100, ndigits=1) # перевод значений столбца 'debts_ratio' в проценты\n",
    "    df_grouped = df_grouped.rename(columns={'debts_ratio': 'debts_ratio, %'}) # переименование столбца 'debts_ratio'\n",
    "    return df_grouped # вывод созданной таблицы"
   ]
  },
  {
   "cell_type": "markdown",
   "metadata": {},
   "source": [
    "<a id=\"family_status_cor\"></a>\n",
    "### Анализ зависимости между семейным положением и возвратом кредита в срок"
   ]
  },
  {
   "cell_type": "markdown",
   "metadata": {},
   "source": [
    "Применим созданную функцию correlation(metrics) к столбцу 'family_status'."
   ]
  },
  {
   "cell_type": "code",
   "execution_count": 18,
   "metadata": {},
   "outputs": [
    {
     "data": {
      "text/html": [
       "<div>\n",
       "<style scoped>\n",
       "    .dataframe tbody tr th:only-of-type {\n",
       "        vertical-align: middle;\n",
       "    }\n",
       "\n",
       "    .dataframe tbody tr th {\n",
       "        vertical-align: top;\n",
       "    }\n",
       "\n",
       "    .dataframe thead th {\n",
       "        text-align: right;\n",
       "    }\n",
       "</style>\n",
       "<table border=\"1\" class=\"dataframe\">\n",
       "  <thead>\n",
       "    <tr style=\"text-align: right;\">\n",
       "      <th></th>\n",
       "      <th>clients_qty</th>\n",
       "      <th>debts_qty</th>\n",
       "      <th>debts_ratio, %</th>\n",
       "      <th>clients_ratio, %</th>\n",
       "    </tr>\n",
       "    <tr>\n",
       "      <th>family_status</th>\n",
       "      <th></th>\n",
       "      <th></th>\n",
       "      <th></th>\n",
       "      <th></th>\n",
       "    </tr>\n",
       "  </thead>\n",
       "  <tbody>\n",
       "    <tr>\n",
       "      <th>не женат / не замужем</th>\n",
       "      <td>2810</td>\n",
       "      <td>274</td>\n",
       "      <td>9.8</td>\n",
       "      <td>13.1</td>\n",
       "    </tr>\n",
       "    <tr>\n",
       "      <th>гражданский брак</th>\n",
       "      <td>4151</td>\n",
       "      <td>388</td>\n",
       "      <td>9.3</td>\n",
       "      <td>19.3</td>\n",
       "    </tr>\n",
       "    <tr>\n",
       "      <th>женат / замужем</th>\n",
       "      <td>12339</td>\n",
       "      <td>931</td>\n",
       "      <td>7.5</td>\n",
       "      <td>57.5</td>\n",
       "    </tr>\n",
       "    <tr>\n",
       "      <th>в разводе</th>\n",
       "      <td>1195</td>\n",
       "      <td>85</td>\n",
       "      <td>7.1</td>\n",
       "      <td>5.6</td>\n",
       "    </tr>\n",
       "    <tr>\n",
       "      <th>вдовец / вдова</th>\n",
       "      <td>959</td>\n",
       "      <td>63</td>\n",
       "      <td>6.6</td>\n",
       "      <td>4.5</td>\n",
       "    </tr>\n",
       "  </tbody>\n",
       "</table>\n",
       "</div>"
      ],
      "text/plain": [
       "                       clients_qty  debts_qty  debts_ratio, %  \\\n",
       "family_status                                                   \n",
       "не женат / не замужем         2810        274             9.8   \n",
       "гражданский брак              4151        388             9.3   \n",
       "женат / замужем              12339        931             7.5   \n",
       "в разводе                     1195         85             7.1   \n",
       "вдовец / вдова                 959         63             6.6   \n",
       "\n",
       "                       clients_ratio, %  \n",
       "family_status                            \n",
       "не женат / не замужем              13.1  \n",
       "гражданский брак                   19.3  \n",
       "женат / замужем                    57.5  \n",
       "в разводе                           5.6  \n",
       "вдовец / вдова                      4.5  "
      ]
     },
     "execution_count": 18,
     "metadata": {},
     "output_type": "execute_result"
    }
   ],
   "source": [
    "correlation('family_status')"
   ]
  },
  {
   "cell_type": "markdown",
   "metadata": {},
   "source": [
    "#### Вывод\n",
    "\n",
    "Чаще всего обращаются за кредитами семейные люди: 57.5% всех заемщиков – это женатые/замужние люди. Реже всего – люди ранее состоявшие в браке (разведенные и овдовевшие).\n",
    "\n",
    "При этом видна очевидная зависимость между семейным положением заемщика и его кредитной дисциплиной: чем дальше заемщик в своем брачном статусе от официального брака (холост <= гражданский брак <= официальный брак), тем менее надежным заемщикам он является, т.е. вероятность возврата кредита в срок снижается.\n",
    "\n",
    "Люди ранее состоявшие в браке (разведенные и овдовевшие) проявляют более высокий уровень дисциплины в вопросах погашения кредитов, чем люди в браке. При этом самые дисциплинированные – это овдовевшие клиенты."
   ]
  },
  {
   "cell_type": "markdown",
   "metadata": {},
   "source": [
    "<a id=\"children_cor\"></a>\n",
    "### Анализ зависимости между количеством детей и возвратом кредита в срок\n",
    "\n",
    "Применим созданную функцию correlation(metrics) к столбцу 'children'."
   ]
  },
  {
   "cell_type": "code",
   "execution_count": 19,
   "metadata": {},
   "outputs": [
    {
     "data": {
      "text/html": [
       "<div>\n",
       "<style scoped>\n",
       "    .dataframe tbody tr th:only-of-type {\n",
       "        vertical-align: middle;\n",
       "    }\n",
       "\n",
       "    .dataframe tbody tr th {\n",
       "        vertical-align: top;\n",
       "    }\n",
       "\n",
       "    .dataframe thead th {\n",
       "        text-align: right;\n",
       "    }\n",
       "</style>\n",
       "<table border=\"1\" class=\"dataframe\">\n",
       "  <thead>\n",
       "    <tr style=\"text-align: right;\">\n",
       "      <th></th>\n",
       "      <th>clients_qty</th>\n",
       "      <th>debts_qty</th>\n",
       "      <th>debts_ratio, %</th>\n",
       "      <th>clients_ratio, %</th>\n",
       "    </tr>\n",
       "    <tr>\n",
       "      <th>children</th>\n",
       "      <th></th>\n",
       "      <th></th>\n",
       "      <th></th>\n",
       "      <th></th>\n",
       "    </tr>\n",
       "  </thead>\n",
       "  <tbody>\n",
       "    <tr>\n",
       "      <th>4</th>\n",
       "      <td>41</td>\n",
       "      <td>4</td>\n",
       "      <td>9.8</td>\n",
       "      <td>0.2</td>\n",
       "    </tr>\n",
       "    <tr>\n",
       "      <th>2</th>\n",
       "      <td>2128</td>\n",
       "      <td>202</td>\n",
       "      <td>9.5</td>\n",
       "      <td>9.9</td>\n",
       "    </tr>\n",
       "    <tr>\n",
       "      <th>1</th>\n",
       "      <td>4855</td>\n",
       "      <td>445</td>\n",
       "      <td>9.2</td>\n",
       "      <td>22.6</td>\n",
       "    </tr>\n",
       "    <tr>\n",
       "      <th>3</th>\n",
       "      <td>330</td>\n",
       "      <td>27</td>\n",
       "      <td>8.2</td>\n",
       "      <td>1.5</td>\n",
       "    </tr>\n",
       "    <tr>\n",
       "      <th>0</th>\n",
       "      <td>14091</td>\n",
       "      <td>1063</td>\n",
       "      <td>7.5</td>\n",
       "      <td>65.7</td>\n",
       "    </tr>\n",
       "    <tr>\n",
       "      <th>5</th>\n",
       "      <td>9</td>\n",
       "      <td>0</td>\n",
       "      <td>0.0</td>\n",
       "      <td>0.0</td>\n",
       "    </tr>\n",
       "  </tbody>\n",
       "</table>\n",
       "</div>"
      ],
      "text/plain": [
       "          clients_qty  debts_qty  debts_ratio, %  clients_ratio, %\n",
       "children                                                          \n",
       "4                  41          4             9.8               0.2\n",
       "2                2128        202             9.5               9.9\n",
       "1                4855        445             9.2              22.6\n",
       "3                 330         27             8.2               1.5\n",
       "0               14091       1063             7.5              65.7\n",
       "5                   9          0             0.0               0.0"
      ]
     },
     "execution_count": 19,
     "metadata": {},
     "output_type": "execute_result"
    }
   ],
   "source": [
    "correlation('children')"
   ]
  },
  {
   "cell_type": "markdown",
   "metadata": {},
   "source": [
    "Из распределения заемщиков по кол-ву детей видно, что чаще всего за кредитами обращаются люди, не имеющие детей – 66% всех заемщиков. При этом у них самый низкий показатель наличия задолженности по возврату кредитов – 7.5%.\n",
    "Далее с увеличением количества детей число заемщиков уменьшается с каждым шагом в разы, а показатель наличия задолженности растет.\n",
    "\n",
    "Однако в данных присутствуют категории, представленные малым кол-вом данных – заемщикам с 5, 4, 3 детьми. По этой причине выводы по ним могут быть не объективными. Можно укрупнить категории клиентов:\n",
    "- нет детей,\n",
    "- 1 ребенок,\n",
    "- 2 ребенка и более.   \n",
    "\n",
    "Для этого напишем пользовательскую функцию children_category, которая на вход берет данные о кол-ве детей, и возвращает категорию клиента. К столбцу с полученными категориями применим функцию correlation(metrics)."
   ]
  },
  {
   "cell_type": "code",
   "execution_count": 20,
   "metadata": {},
   "outputs": [],
   "source": [
    "def children_category(children):\n",
    "    if children == 0:\n",
    "        return 0\n",
    "    if children == 1:\n",
    "        return 1\n",
    "    else: return '2 and more'"
   ]
  },
  {
   "cell_type": "code",
   "execution_count": 21,
   "metadata": {},
   "outputs": [
    {
     "data": {
      "text/html": [
       "<div>\n",
       "<style scoped>\n",
       "    .dataframe tbody tr th:only-of-type {\n",
       "        vertical-align: middle;\n",
       "    }\n",
       "\n",
       "    .dataframe tbody tr th {\n",
       "        vertical-align: top;\n",
       "    }\n",
       "\n",
       "    .dataframe thead th {\n",
       "        text-align: right;\n",
       "    }\n",
       "</style>\n",
       "<table border=\"1\" class=\"dataframe\">\n",
       "  <thead>\n",
       "    <tr style=\"text-align: right;\">\n",
       "      <th></th>\n",
       "      <th>clients_qty</th>\n",
       "      <th>debts_qty</th>\n",
       "      <th>debts_ratio, %</th>\n",
       "      <th>clients_ratio, %</th>\n",
       "    </tr>\n",
       "    <tr>\n",
       "      <th>children_category</th>\n",
       "      <th></th>\n",
       "      <th></th>\n",
       "      <th></th>\n",
       "      <th></th>\n",
       "    </tr>\n",
       "  </thead>\n",
       "  <tbody>\n",
       "    <tr>\n",
       "      <th>2 and more</th>\n",
       "      <td>2508</td>\n",
       "      <td>233</td>\n",
       "      <td>9.3</td>\n",
       "      <td>11.7</td>\n",
       "    </tr>\n",
       "    <tr>\n",
       "      <th>1</th>\n",
       "      <td>4855</td>\n",
       "      <td>445</td>\n",
       "      <td>9.2</td>\n",
       "      <td>22.6</td>\n",
       "    </tr>\n",
       "    <tr>\n",
       "      <th>0</th>\n",
       "      <td>14091</td>\n",
       "      <td>1063</td>\n",
       "      <td>7.5</td>\n",
       "      <td>65.7</td>\n",
       "    </tr>\n",
       "  </tbody>\n",
       "</table>\n",
       "</div>"
      ],
      "text/plain": [
       "                   clients_qty  debts_qty  debts_ratio, %  clients_ratio, %\n",
       "children_category                                                          \n",
       "2 and more                2508        233             9.3              11.7\n",
       "1                         4855        445             9.2              22.6\n",
       "0                        14091       1063             7.5              65.7"
      ]
     },
     "execution_count": 21,
     "metadata": {},
     "output_type": "execute_result"
    }
   ],
   "source": [
    "df['children_category'] = df['children'].apply(children_category)\n",
    "correlation('children_category')"
   ]
  },
  {
   "cell_type": "markdown",
   "metadata": {},
   "source": [
    "#### Вывод\n",
    "\n",
    "На укрупненных данных четко видны следующие зависимости:\n",
    "- с увеличением кол-ва детей кол-во обращений/или одобрений кредитов уменьшается:  66% кредитов приходится на заемщиков, у которых нет детей, 26% на заемщиков с 1 ребенком и 12% на заемщиков с 2 и более детьми;\n",
    "- с увеличением кол-ва детей вероятность появления задолженности по возврату кредита повышается: самый низкий уровень наличия задолженности демонстрируют клиенты без детей – 7.5%, самый высокий 9.3% – клиенты с 2 и более детьми."
   ]
  },
  {
   "cell_type": "markdown",
   "metadata": {},
   "source": [
    "<a id=\"income_cor\"></a>\n",
    "###  Анализ зависимости между уровнем дохода и возвратом кредита в срок\n",
    "\n",
    "Cоздадим столбец 'total_income_category' с категориями заемщиков по уровню дохода, взяв за основу категории, применяемые в России:\n",
    "- 0-50000 – 'F (<50)';\n",
    "- 50000-100000 – 'E (50-100)';\n",
    "- 100001-150000 – 'D (100-150)';\n",
    "- 150001-250000 – 'C (150-250)';\n",
    "- 250001-500000 – 'B (250-500)';\n",
    "- 500001 и выше – 'A (>500)'.\n",
    "\n",
    "Для распределения заемщиков по категориям напишем пользовательскую функци total_income_category, которая на вход берет величину дохода, и возвращает категорию клиента."
   ]
  },
  {
   "cell_type": "code",
   "execution_count": 22,
   "metadata": {},
   "outputs": [],
   "source": [
    "def total_income_category(income):\n",
    "    if income <= 50000:\n",
    "        return 'F (<50)'\n",
    "    if 50000 < income <= 100000:\n",
    "        return 'E (50-100)'\n",
    "    if 100000 < income <= 150000:\n",
    "        return 'D (100-150)'\n",
    "    if 150000 < income <= 250000:\n",
    "        return 'C (150-250)'\n",
    "    if 250000 < income <= 500000:\n",
    "        return 'B (250-500)'\n",
    "    else: return 'A (>500)'"
   ]
  },
  {
   "cell_type": "markdown",
   "metadata": {},
   "source": [
    "Создадим отдельный столбец 'total_income_category' с категориями по уровню дохода. Для этого воспользуемся методом apply(), который возмет значения столбца 'total_income' и применит к ним функцию total_income_category из своего аргумента."
   ]
  },
  {
   "cell_type": "code",
   "execution_count": 23,
   "metadata": {},
   "outputs": [],
   "source": [
    "df['total_income_category'] = df['total_income'].apply(total_income_category)  "
   ]
  },
  {
   "cell_type": "markdown",
   "metadata": {},
   "source": [
    "Применим созданную функцию correlation(metrics) к столбцу 'total_income_category'."
   ]
  },
  {
   "cell_type": "code",
   "execution_count": 24,
   "metadata": {},
   "outputs": [
    {
     "data": {
      "text/html": [
       "<div>\n",
       "<style scoped>\n",
       "    .dataframe tbody tr th:only-of-type {\n",
       "        vertical-align: middle;\n",
       "    }\n",
       "\n",
       "    .dataframe tbody tr th {\n",
       "        vertical-align: top;\n",
       "    }\n",
       "\n",
       "    .dataframe thead th {\n",
       "        text-align: right;\n",
       "    }\n",
       "</style>\n",
       "<table border=\"1\" class=\"dataframe\">\n",
       "  <thead>\n",
       "    <tr style=\"text-align: right;\">\n",
       "      <th></th>\n",
       "      <th>total_income_category</th>\n",
       "      <th>clients_qty</th>\n",
       "      <th>debts_qty</th>\n",
       "      <th>debts_ratio, %</th>\n",
       "      <th>clients_ratio, %</th>\n",
       "    </tr>\n",
       "  </thead>\n",
       "  <tbody>\n",
       "    <tr>\n",
       "      <th>5</th>\n",
       "      <td>F (&lt;50)</td>\n",
       "      <td>372</td>\n",
       "      <td>23</td>\n",
       "      <td>6.2</td>\n",
       "      <td>1.7</td>\n",
       "    </tr>\n",
       "    <tr>\n",
       "      <th>1</th>\n",
       "      <td>E (50-100)</td>\n",
       "      <td>4091</td>\n",
       "      <td>331</td>\n",
       "      <td>8.1</td>\n",
       "      <td>19.1</td>\n",
       "    </tr>\n",
       "    <tr>\n",
       "      <th>0</th>\n",
       "      <td>D (100-150)</td>\n",
       "      <td>6971</td>\n",
       "      <td>616</td>\n",
       "      <td>8.8</td>\n",
       "      <td>32.5</td>\n",
       "    </tr>\n",
       "    <tr>\n",
       "      <th>2</th>\n",
       "      <td>C (150-250)</td>\n",
       "      <td>7207</td>\n",
       "      <td>577</td>\n",
       "      <td>8.0</td>\n",
       "      <td>33.6</td>\n",
       "    </tr>\n",
       "    <tr>\n",
       "      <th>3</th>\n",
       "      <td>B (250-500)</td>\n",
       "      <td>2591</td>\n",
       "      <td>180</td>\n",
       "      <td>6.9</td>\n",
       "      <td>12.1</td>\n",
       "    </tr>\n",
       "    <tr>\n",
       "      <th>4</th>\n",
       "      <td>A (&gt;500)</td>\n",
       "      <td>222</td>\n",
       "      <td>14</td>\n",
       "      <td>6.3</td>\n",
       "      <td>1.0</td>\n",
       "    </tr>\n",
       "  </tbody>\n",
       "</table>\n",
       "</div>"
      ],
      "text/plain": [
       "  total_income_category  clients_qty  debts_qty  debts_ratio, %  \\\n",
       "5               F (<50)          372         23             6.2   \n",
       "1            E (50-100)         4091        331             8.1   \n",
       "0           D (100-150)         6971        616             8.8   \n",
       "2           C (150-250)         7207        577             8.0   \n",
       "3           B (250-500)         2591        180             6.9   \n",
       "4              A (>500)          222         14             6.3   \n",
       "\n",
       "   clients_ratio, %  \n",
       "5               1.7  \n",
       "1              19.1  \n",
       "0              32.5  \n",
       "2              33.6  \n",
       "3              12.1  \n",
       "4               1.0  "
      ]
     },
     "execution_count": 24,
     "metadata": {},
     "output_type": "execute_result"
    }
   ],
   "source": [
    "correlation('total_income_category').reset_index().sort_values(by='total_income_category', ascending=False)"
   ]
  },
  {
   "cell_type": "markdown",
   "metadata": {},
   "source": [
    "#### Вывод\n",
    "\n",
    "Полученные данные позволяют увидеть зависимость между уровнем дохода и возвратом кредита в срок, но она не является прямолинейной. \n",
    "\n",
    "Люди с низкими доходами (менее 50 тыс.) ограничены в доступе к кредитным ресурсам – их доля в общем количестве заемщиков всего 1.7%. Но их финансовая дисциплина на самом высоком уровне из всех выделенных категорий: доля задолженностей по возврату кредитов в срок только 6.2%. Можно предположить, что к данной категории изначально относятся более внимательно во время принятия решения о выдаче кредита, что может объяснять высокий уровень их кредитной дисциплины.\n",
    "\n",
    "Далее, когда доходы начинают превышать 50 тыс., возможности получения кредитных ресурсов расширяются и кол-во кредитов увеличивается, но одновременно увеличивается показатель задолженности по возврату кредита в срок. Можно предположить, что заемщики, имея возможность взять гораздо большие по сумме и сроку кредиты, не учитывают необходимость более тщательного планирования и распоряжения личными финансами, поэтому не справляются с дополнительной финансовой нагрузкой. Самые ненадежные заемщики имеют доход 100-150 тыс., доля заемщиков с задолженностью 8.8%, но при этом они одни из самых многочисленных – 32.5% выборки.\n",
    "\n",
    "Когда доходы начинают превышать 150 тыс. потребность в кредитных ресурсах остается на высоком уровне, но при этом кредитная дисциплины заемщиков начинает улучшаться. \n",
    "\n",
    "Когда доходы начинают превышать 250 тыс., видим снижение потребности в кредитах и дальнейшее улучшение кредитной дисциплины."
   ]
  },
  {
   "cell_type": "markdown",
   "metadata": {},
   "source": [
    "<a id=\"purpose_cor\"></a>\n",
    "### Анализ влияния цели кредитования на возврат кредита в срок\n",
    "\n",
    "Посмотрим, какие цели кредитования встречаются в данных."
   ]
  },
  {
   "cell_type": "code",
   "execution_count": 25,
   "metadata": {},
   "outputs": [
    {
     "data": {
      "text/plain": [
       "array(['покупка жилья', 'приобретение автомобиля',\n",
       "       'дополнительное образование', 'сыграть свадьбу',\n",
       "       'операции с жильем', 'образование', 'на проведение свадьбы',\n",
       "       'покупка жилья для семьи', 'покупка недвижимости',\n",
       "       'покупка коммерческой недвижимости', 'покупка жилой недвижимости',\n",
       "       'строительство собственной недвижимости', 'недвижимость',\n",
       "       'строительство недвижимости', 'на покупку подержанного автомобиля',\n",
       "       'на покупку своего автомобиля',\n",
       "       'операции с коммерческой недвижимостью',\n",
       "       'строительство жилой недвижимости', 'жилье',\n",
       "       'операции со своей недвижимостью', 'автомобили',\n",
       "       'заняться образованием', 'сделка с подержанным автомобилем',\n",
       "       'получение образования', 'автомобиль', 'свадьба',\n",
       "       'получение дополнительного образования', 'покупка своего жилья',\n",
       "       'операции с недвижимостью', 'получение высшего образования',\n",
       "       'свой автомобиль', 'сделка с автомобилем',\n",
       "       'профильное образование', 'высшее образование',\n",
       "       'покупка жилья для сдачи', 'на покупку автомобиля', 'ремонт жилью',\n",
       "       'заняться высшим образованием'], dtype=object)"
      ]
     },
     "execution_count": 25,
     "metadata": {},
     "output_type": "execute_result"
    }
   ],
   "source": [
    "df['purpose'].unique()"
   ]
  },
  {
   "cell_type": "markdown",
   "metadata": {},
   "source": [
    "Весь список целей можно распределить на 4 категории:\n",
    "- операции с автомобилем,\n",
    "- операции с недвижимостью,\n",
    "- проведение свадьбы,\n",
    "- получение образования.\n",
    "\n",
    "Напишем пользовательскую функцию purpose_category, которая проверяет цели кредитования на содержание в них ключевых слов, на основании которых каждую из целей можно отнести к одной из 4-х категорий, и возвращает категорию целей кредитования."
   ]
  },
  {
   "cell_type": "code",
   "execution_count": 26,
   "metadata": {},
   "outputs": [],
   "source": [
    "def purpose_category(row):\n",
    "    purpose = row['purpose']\n",
    "    if 'автомоб' in purpose:\n",
    "        return 'операции с автомобилем'\n",
    "    if 'жиль' in purpose:\n",
    "        return 'операции с недвижимостью'\n",
    "    if 'недвижимост' in purpose:\n",
    "        return 'операции с недвижимостью'\n",
    "    if 'образован' in purpose:\n",
    "        return 'получение образования'    \n",
    "    if 'свадьб' in purpose:\n",
    "        return 'проведение свадьбы'"
   ]
  },
  {
   "cell_type": "markdown",
   "metadata": {},
   "source": [
    "Создадим отдельный столбец 'purpose_category' с категориями целей кредитования, для этого воспользуемся методом apply()."
   ]
  },
  {
   "cell_type": "code",
   "execution_count": 27,
   "metadata": {},
   "outputs": [],
   "source": [
    "df['purpose_category'] = df.apply(purpose_category, axis=1)  "
   ]
  },
  {
   "cell_type": "markdown",
   "metadata": {},
   "source": [
    "Применим созданную функцию correlation(metrics) к столбцу 'purpose_category'."
   ]
  },
  {
   "cell_type": "code",
   "execution_count": 28,
   "metadata": {},
   "outputs": [
    {
     "data": {
      "text/html": [
       "<div>\n",
       "<style scoped>\n",
       "    .dataframe tbody tr th:only-of-type {\n",
       "        vertical-align: middle;\n",
       "    }\n",
       "\n",
       "    .dataframe tbody tr th {\n",
       "        vertical-align: top;\n",
       "    }\n",
       "\n",
       "    .dataframe thead th {\n",
       "        text-align: right;\n",
       "    }\n",
       "</style>\n",
       "<table border=\"1\" class=\"dataframe\">\n",
       "  <thead>\n",
       "    <tr style=\"text-align: right;\">\n",
       "      <th></th>\n",
       "      <th>clients_qty</th>\n",
       "      <th>debts_qty</th>\n",
       "      <th>debts_ratio, %</th>\n",
       "      <th>clients_ratio, %</th>\n",
       "    </tr>\n",
       "    <tr>\n",
       "      <th>purpose_category</th>\n",
       "      <th></th>\n",
       "      <th></th>\n",
       "      <th></th>\n",
       "      <th></th>\n",
       "    </tr>\n",
       "  </thead>\n",
       "  <tbody>\n",
       "    <tr>\n",
       "      <th>операции с автомобилем</th>\n",
       "      <td>4306</td>\n",
       "      <td>403</td>\n",
       "      <td>9.4</td>\n",
       "      <td>20.1</td>\n",
       "    </tr>\n",
       "    <tr>\n",
       "      <th>получение образования</th>\n",
       "      <td>4013</td>\n",
       "      <td>370</td>\n",
       "      <td>9.2</td>\n",
       "      <td>18.7</td>\n",
       "    </tr>\n",
       "    <tr>\n",
       "      <th>проведение свадьбы</th>\n",
       "      <td>2324</td>\n",
       "      <td>186</td>\n",
       "      <td>8.0</td>\n",
       "      <td>10.8</td>\n",
       "    </tr>\n",
       "    <tr>\n",
       "      <th>операции с недвижимостью</th>\n",
       "      <td>10811</td>\n",
       "      <td>782</td>\n",
       "      <td>7.2</td>\n",
       "      <td>50.4</td>\n",
       "    </tr>\n",
       "  </tbody>\n",
       "</table>\n",
       "</div>"
      ],
      "text/plain": [
       "                          clients_qty  debts_qty  debts_ratio, %  \\\n",
       "purpose_category                                                   \n",
       "операции с автомобилем           4306        403             9.4   \n",
       "получение образования            4013        370             9.2   \n",
       "проведение свадьбы               2324        186             8.0   \n",
       "операции с недвижимостью        10811        782             7.2   \n",
       "\n",
       "                          clients_ratio, %  \n",
       "purpose_category                            \n",
       "операции с автомобилем                20.1  \n",
       "получение образования                 18.7  \n",
       "проведение свадьбы                    10.8  \n",
       "операции с недвижимостью              50.4  "
      ]
     },
     "execution_count": 28,
     "metadata": {},
     "output_type": "execute_result"
    }
   ],
   "source": [
    "correlation('purpose_category')"
   ]
  },
  {
   "cell_type": "markdown",
   "metadata": {},
   "source": [
    "#### Вывод\n",
    "\n",
    "Самая популярная категория кредитов 50% – это кредиты на проведение операций с недвижимостью – имеет самый низкий показатель наличия задолженности по возврату кредитов в срок. Можно предположить, что условия предоставления кредита во многих случаях включают передачу недвижимости в залог банку до полного погашения кредита, что мотивирует заемщиков производить выплаты в срок. \n",
    "\n",
    "Самая малочисленная категория 11% – это проведение свадеб – также имеет довольно низкий уровень показателя просроченной задолженности – 8%. Можно предположить, что суммы кредитования на эти цели не очень большие. К тому же молодожены очень часто получают денежные подарки во время свадьбы, которыми впоследствии гасят большую часть кредита.\n",
    "\n",
    "Автомобили и образование находятся примерно на одном уровне по популярности среди заемщиков – около 20%, но при этом имеют самый высокий показатель просроченной задолженности – 9.2-9.4%. Вероятно в силу того, что проходят как потребительское беззалоговое кредитование, к которому заемщики чаще относятся менее ответственно, чем к залоговому, потому что последствия допущения просрочки не настолько серьезные. По кредитам на образование можно сделать дополнительное предположение, что клиенты их берущие не имеют стабильного дохода, что впоследствии становится причиной нарушения сроков погашения."
   ]
  },
  {
   "cell_type": "markdown",
   "metadata": {},
   "source": [
    "<a id=\"conclusion\"></a> \n",
    "## Общий вывод и рекомендации"
   ]
  },
  {
   "cell_type": "markdown",
   "metadata": {},
   "source": [
    "На этапе предобработки были выявлены следующие **ПРОБЛЕМЫ В ДАННЫХ:**\n",
    "- **симметричное отсутствие данных об общем трудовом стаже и ежемесячном доходе у 10% выборки.**   \n",
    " *Рекомендуем* обратить внимание на случаи одобрения и выдачи кредитов без предоставления данных о трудовом стаже и ежемесячном доходе.\n",
    "\n",
    "\n",
    "- **плохоинтепретируемые данные о трудовом стаже – отрицательные значения и положительные значения большой разрядности.** \n",
    " *Рекомендуем* обратить внимание на форму ввода данных, которая используется при оформлении кредитной заявки, и методики расчета дней трудового стажа на основе введенных данных, чтобы понять причину проблем с данными.\n",
    "\n",
    "\n",
    "- **дубликаты, вызванные написанием с использованием разных регистров.**    \n",
    " *Рекомендуем* проанализировать форму ввода данных на предмет возможности заполнения текстовых полей путем выбора необходимого варианта из ограниченного списка, а не путем ручного ввода данных.\n",
    "\n",
    "\n",
    "- **ошибки ручного ввода в данных по кол-ву детей и возрасту клиента.**   \n",
    " *Рекомендуем* проанализировать форму ввода данных на предмет возможности внедрения автоматической проверки данных, в частности:  \n",
    "кол-во детей – на отсутствие отрицательных значений,   \n",
    "возраст клиента – на полное отсутствие значения или на значение меньше 18.\n",
    "\n",
    "\n",
    "- **полные дубликаты строк.**  \n",
    " *Рекомендуем* дополнить выгрузку данными по id клиента для корректной оценки кол-во полных дубликатов.\n",
    "\n",
    "\n",
    "В ходе анализа платежеспособности клиентов были выявлены следующие **ЗАВИСИМОСТИ:**\n",
    "- **семейное подожеже:** чем дальше заемщик в своем брачном статусе от официального брака (холост <= гражданский брак <= официальный брак), тем менее надежным заемщикам он является, т.е. вероятность возврата кредита в срок снижается. Самые ненадежные заемщики – это холостые клиенты. Клиенты ранее состоявшие в браке, но вышедшие из него по причине развода или смерти супруга, демонстрируют самую высокую финансовую дисциплину, но они и реже всех обращаются за кредитными средствами. Клиенты, состоящие в официальном браке, – самая многочисленная категория с высоким уровнем финансовой дисциплины.\n",
    "\n",
    "\n",
    "- **количество детей:** с увеличением кол-ва детей кол-во обращений/или одобрений кредитов уменьшается, а вероятность появления задолженности по возврату кредита повышается.\n",
    "\n",
    "\n",
    "- **уровень дохода:** пока клиент имеет доход до 150 тыс., то с ростом дохода наблюдается рост потребности в кредитных ресурсах, но уровень кредитной дисциплины при этом падает. Самые ненадежные заемщики имеют доход 100-150 тыс. При доходе 150-250 тыс. рост потребности в кредитах сохраняется, но замедляется, а вот финансовая дисциплина начинает повышаться. При достижении дохода в 250 тыс. и выше, спрос на кредиты падает, а дисциплина заемщиков в части своевременного погашения кредитов продолжает улучшаться.\n",
    "\n",
    "\n",
    "- **цели кредитования:** самая популярная категория кредитов 50% – это кредиты на проведение операций с недвижимостью – имеет самый низкий показатель наличия задолженности по возврату кредитов в срок. Кредиты на цели, связанные с автомобями и образованием – суммарно около 40% выборки – имеют самый высокий показатель задолженности."
   ]
  },
  {
   "cell_type": "code",
   "execution_count": null,
   "metadata": {},
   "outputs": [],
   "source": []
  }
 ],
 "metadata": {
  "ExecuteTimeLog": [
   {
    "duration": 621,
    "start_time": "2021-09-23T16:16:15.376Z"
   },
   {
    "duration": 74,
    "start_time": "2021-09-23T17:04:17.717Z"
   },
   {
    "duration": 66,
    "start_time": "2021-09-23T17:04:36.083Z"
   },
   {
    "duration": 383,
    "start_time": "2021-09-23T17:18:30.124Z"
   },
   {
    "duration": 8,
    "start_time": "2021-09-23T17:22:24.856Z"
   },
   {
    "duration": 10,
    "start_time": "2021-09-23T17:24:47.080Z"
   },
   {
    "duration": 11,
    "start_time": "2021-09-23T17:35:32.382Z"
   },
   {
    "duration": 10,
    "start_time": "2021-09-23T17:35:44.102Z"
   },
   {
    "duration": 10,
    "start_time": "2021-09-23T17:41:42.783Z"
   },
   {
    "duration": 7,
    "start_time": "2021-09-23T17:54:28.406Z"
   },
   {
    "duration": 6,
    "start_time": "2021-09-23T17:55:14.976Z"
   },
   {
    "duration": 7,
    "start_time": "2021-09-23T17:59:49.291Z"
   },
   {
    "duration": 6,
    "start_time": "2021-09-23T18:00:37.617Z"
   },
   {
    "duration": 7,
    "start_time": "2021-09-23T18:01:27.975Z"
   },
   {
    "duration": 6,
    "start_time": "2021-09-23T18:01:54.339Z"
   },
   {
    "duration": 9,
    "start_time": "2021-09-23T18:07:47.348Z"
   },
   {
    "duration": 7,
    "start_time": "2021-09-23T18:11:36.995Z"
   },
   {
    "duration": 10,
    "start_time": "2021-09-23T18:22:50.061Z"
   },
   {
    "duration": 11,
    "start_time": "2021-09-23T18:23:38.705Z"
   },
   {
    "duration": 16,
    "start_time": "2021-09-23T18:30:16.772Z"
   },
   {
    "duration": 16,
    "start_time": "2021-09-23T18:31:34.702Z"
   },
   {
    "duration": 250,
    "start_time": "2021-09-23T18:35:26.411Z"
   },
   {
    "duration": 11,
    "start_time": "2021-09-23T18:35:56.086Z"
   },
   {
    "duration": 7,
    "start_time": "2021-09-23T18:36:18.104Z"
   },
   {
    "duration": 8,
    "start_time": "2021-09-23T18:36:54.526Z"
   },
   {
    "duration": 7,
    "start_time": "2021-09-23T18:37:07.871Z"
   },
   {
    "duration": 7,
    "start_time": "2021-09-23T18:38:29.027Z"
   },
   {
    "duration": 7,
    "start_time": "2021-09-23T18:38:54.016Z"
   },
   {
    "duration": 8,
    "start_time": "2021-09-23T18:39:05.375Z"
   },
   {
    "duration": 7,
    "start_time": "2021-09-23T18:39:06.415Z"
   },
   {
    "duration": 6,
    "start_time": "2021-09-23T18:39:08.777Z"
   },
   {
    "duration": 66,
    "start_time": "2021-09-23T18:39:32.632Z"
   },
   {
    "duration": 8,
    "start_time": "2021-09-23T18:39:32.700Z"
   },
   {
    "duration": 34,
    "start_time": "2021-09-23T18:39:32.730Z"
   },
   {
    "duration": 6,
    "start_time": "2021-09-23T18:39:32.766Z"
   },
   {
    "duration": 14,
    "start_time": "2021-09-23T18:39:32.776Z"
   },
   {
    "duration": 11,
    "start_time": "2021-09-24T04:53:34.534Z"
   },
   {
    "duration": 17,
    "start_time": "2021-09-24T05:03:50.766Z"
   },
   {
    "duration": 15,
    "start_time": "2021-09-24T05:04:42.696Z"
   },
   {
    "duration": 16,
    "start_time": "2021-09-24T05:05:18.852Z"
   },
   {
    "duration": 69,
    "start_time": "2021-09-24T05:05:35.358Z"
   },
   {
    "duration": 8,
    "start_time": "2021-09-24T05:05:35.429Z"
   },
   {
    "duration": 15,
    "start_time": "2021-09-24T05:05:35.440Z"
   },
   {
    "duration": 7,
    "start_time": "2021-09-24T05:05:35.457Z"
   },
   {
    "duration": 22,
    "start_time": "2021-09-24T05:05:35.466Z"
   },
   {
    "duration": 11,
    "start_time": "2021-09-24T05:05:35.490Z"
   },
   {
    "duration": 233,
    "start_time": "2021-09-24T05:08:53.736Z"
   },
   {
    "duration": 18,
    "start_time": "2021-09-24T05:09:12.595Z"
   },
   {
    "duration": 19,
    "start_time": "2021-09-24T05:09:30.893Z"
   },
   {
    "duration": 18,
    "start_time": "2021-09-24T05:09:42.734Z"
   },
   {
    "duration": 20,
    "start_time": "2021-09-24T05:10:17.492Z"
   },
   {
    "duration": 68,
    "start_time": "2021-09-24T05:10:22.690Z"
   },
   {
    "duration": 9,
    "start_time": "2021-09-24T05:10:22.760Z"
   },
   {
    "duration": 9,
    "start_time": "2021-09-24T05:10:22.771Z"
   },
   {
    "duration": 6,
    "start_time": "2021-09-24T05:10:22.781Z"
   },
   {
    "duration": 18,
    "start_time": "2021-09-24T05:10:22.789Z"
   },
   {
    "duration": 41,
    "start_time": "2021-09-24T05:10:22.808Z"
   },
   {
    "duration": 26,
    "start_time": "2021-09-24T05:11:57.746Z"
   },
   {
    "duration": 15,
    "start_time": "2021-09-24T05:12:10.427Z"
   },
   {
    "duration": 64,
    "start_time": "2021-09-24T05:12:18.300Z"
   },
   {
    "duration": 8,
    "start_time": "2021-09-24T05:12:18.366Z"
   },
   {
    "duration": 10,
    "start_time": "2021-09-24T05:12:18.376Z"
   },
   {
    "duration": 6,
    "start_time": "2021-09-24T05:12:18.387Z"
   },
   {
    "duration": 18,
    "start_time": "2021-09-24T05:12:18.394Z"
   },
   {
    "duration": 44,
    "start_time": "2021-09-24T05:12:18.413Z"
   },
   {
    "duration": 17,
    "start_time": "2021-09-24T05:12:48.808Z"
   },
   {
    "duration": 28,
    "start_time": "2021-09-24T05:12:59.113Z"
   },
   {
    "duration": 4,
    "start_time": "2021-09-24T05:14:33.534Z"
   },
   {
    "duration": 27,
    "start_time": "2021-09-24T05:15:52.888Z"
   },
   {
    "duration": 401,
    "start_time": "2021-09-24T05:17:17.012Z"
   },
   {
    "duration": 445,
    "start_time": "2021-09-24T05:17:18.405Z"
   },
   {
    "duration": 26,
    "start_time": "2021-09-24T05:17:29.119Z"
   },
   {
    "duration": 76,
    "start_time": "2021-09-24T05:18:54.408Z"
   },
   {
    "duration": 16,
    "start_time": "2021-09-24T05:19:06.115Z"
   },
   {
    "duration": 25,
    "start_time": "2021-09-24T05:19:34.359Z"
   },
   {
    "duration": 245,
    "start_time": "2021-09-24T05:22:14.172Z"
   },
   {
    "duration": 239,
    "start_time": "2021-09-24T05:22:25.956Z"
   },
   {
    "duration": 732,
    "start_time": "2021-09-24T05:22:33.910Z"
   },
   {
    "duration": 242,
    "start_time": "2021-09-24T05:23:24.629Z"
   },
   {
    "duration": 241,
    "start_time": "2021-09-24T05:24:11.308Z"
   },
   {
    "duration": 429,
    "start_time": "2021-09-24T05:24:36.558Z"
   },
   {
    "duration": 411,
    "start_time": "2021-09-24T05:24:38.128Z"
   },
   {
    "duration": 466,
    "start_time": "2021-09-24T05:25:13.508Z"
   },
   {
    "duration": 393,
    "start_time": "2021-09-24T05:25:59.756Z"
   },
   {
    "duration": 960,
    "start_time": "2021-09-24T05:26:01.404Z"
   },
   {
    "duration": 402,
    "start_time": "2021-09-24T05:26:03.467Z"
   },
   {
    "duration": 69,
    "start_time": "2021-09-24T05:26:08.117Z"
   },
   {
    "duration": 10,
    "start_time": "2021-09-24T05:26:08.188Z"
   },
   {
    "duration": 12,
    "start_time": "2021-09-24T05:26:08.200Z"
   },
   {
    "duration": 37,
    "start_time": "2021-09-24T05:26:08.214Z"
   },
   {
    "duration": 6,
    "start_time": "2021-09-24T05:26:08.253Z"
   },
   {
    "duration": 9,
    "start_time": "2021-09-24T05:26:08.261Z"
   },
   {
    "duration": 13,
    "start_time": "2021-09-24T05:26:08.272Z"
   },
   {
    "duration": 39,
    "start_time": "2021-09-24T05:27:15.324Z"
   },
   {
    "duration": 69,
    "start_time": "2021-09-24T05:27:24.011Z"
   },
   {
    "duration": 10,
    "start_time": "2021-09-24T05:27:24.082Z"
   },
   {
    "duration": 12,
    "start_time": "2021-09-24T05:27:24.095Z"
   },
   {
    "duration": 8,
    "start_time": "2021-09-24T05:27:24.109Z"
   },
   {
    "duration": 31,
    "start_time": "2021-09-24T05:27:24.119Z"
   },
   {
    "duration": 55,
    "start_time": "2021-09-24T05:27:24.152Z"
   },
   {
    "duration": 15,
    "start_time": "2021-09-24T05:27:24.209Z"
   },
   {
    "duration": 93,
    "start_time": "2021-09-24T05:28:07.637Z"
   },
   {
    "duration": 16,
    "start_time": "2021-09-24T05:28:07.733Z"
   },
   {
    "duration": 15,
    "start_time": "2021-09-24T05:28:07.751Z"
   },
   {
    "duration": 8,
    "start_time": "2021-09-24T05:28:07.768Z"
   },
   {
    "duration": 5,
    "start_time": "2021-09-24T05:28:07.778Z"
   },
   {
    "duration": 76,
    "start_time": "2021-09-24T05:28:07.785Z"
   },
   {
    "duration": 17,
    "start_time": "2021-09-24T05:28:07.863Z"
   },
   {
    "duration": 98,
    "start_time": "2021-09-24T05:30:21.292Z"
   },
   {
    "duration": 10,
    "start_time": "2021-09-24T05:30:21.392Z"
   },
   {
    "duration": 13,
    "start_time": "2021-09-24T05:30:21.403Z"
   },
   {
    "duration": 6,
    "start_time": "2021-09-24T05:30:21.418Z"
   },
   {
    "duration": 5,
    "start_time": "2021-09-24T05:30:21.448Z"
   },
   {
    "duration": 34,
    "start_time": "2021-09-24T05:30:21.454Z"
   },
   {
    "duration": 9,
    "start_time": "2021-09-24T05:30:21.490Z"
   },
   {
    "duration": 68,
    "start_time": "2021-09-24T05:31:15.952Z"
   },
   {
    "duration": 8,
    "start_time": "2021-09-24T05:31:16.023Z"
   },
   {
    "duration": 18,
    "start_time": "2021-09-24T05:31:16.033Z"
   },
   {
    "duration": 6,
    "start_time": "2021-09-24T05:31:16.053Z"
   },
   {
    "duration": 6,
    "start_time": "2021-09-24T05:31:16.061Z"
   },
   {
    "duration": 36,
    "start_time": "2021-09-24T05:31:16.068Z"
   },
   {
    "duration": 11,
    "start_time": "2021-09-24T05:31:16.106Z"
   },
   {
    "duration": 72,
    "start_time": "2021-09-24T05:34:02.250Z"
   },
   {
    "duration": 71,
    "start_time": "2021-09-24T05:35:18.145Z"
   },
   {
    "duration": 67,
    "start_time": "2021-09-24T05:36:11.393Z"
   },
   {
    "duration": 6,
    "start_time": "2021-09-24T05:37:49.844Z"
   },
   {
    "duration": 71,
    "start_time": "2021-09-24T05:37:53.435Z"
   },
   {
    "duration": 10,
    "start_time": "2021-09-24T05:37:53.509Z"
   },
   {
    "duration": 37,
    "start_time": "2021-09-24T05:37:53.521Z"
   },
   {
    "duration": 9,
    "start_time": "2021-09-24T05:37:53.560Z"
   },
   {
    "duration": 5,
    "start_time": "2021-09-24T05:37:53.571Z"
   },
   {
    "duration": 37,
    "start_time": "2021-09-24T05:37:53.578Z"
   },
   {
    "duration": 40,
    "start_time": "2021-09-24T05:37:53.617Z"
   },
   {
    "duration": 69,
    "start_time": "2021-09-24T05:38:12.253Z"
   },
   {
    "duration": 8,
    "start_time": "2021-09-24T05:38:12.324Z"
   },
   {
    "duration": 18,
    "start_time": "2021-09-24T05:38:12.334Z"
   },
   {
    "duration": 6,
    "start_time": "2021-09-24T05:38:12.354Z"
   },
   {
    "duration": 5,
    "start_time": "2021-09-24T05:38:12.361Z"
   },
   {
    "duration": 36,
    "start_time": "2021-09-24T05:38:12.368Z"
   },
   {
    "duration": 11,
    "start_time": "2021-09-24T05:38:12.406Z"
   },
   {
    "duration": 97,
    "start_time": "2021-09-24T06:50:38.844Z"
   },
   {
    "duration": 11,
    "start_time": "2021-09-24T06:50:38.943Z"
   },
   {
    "duration": 16,
    "start_time": "2021-09-24T06:50:38.957Z"
   },
   {
    "duration": 9,
    "start_time": "2021-09-24T06:50:38.975Z"
   },
   {
    "duration": 6,
    "start_time": "2021-09-24T06:50:38.986Z"
   },
   {
    "duration": 88,
    "start_time": "2021-09-24T06:50:38.994Z"
   },
   {
    "duration": 16,
    "start_time": "2021-09-24T06:50:39.084Z"
   },
   {
    "duration": 9,
    "start_time": "2021-09-24T06:51:50.761Z"
   },
   {
    "duration": 11,
    "start_time": "2021-09-24T06:52:44.772Z"
   },
   {
    "duration": 12,
    "start_time": "2021-09-24T06:53:50.975Z"
   },
   {
    "duration": 21,
    "start_time": "2021-09-24T07:33:15.999Z"
   },
   {
    "duration": 79,
    "start_time": "2021-09-24T07:35:11.106Z"
   },
   {
    "duration": 87,
    "start_time": "2021-09-24T07:35:14.797Z"
   },
   {
    "duration": 17,
    "start_time": "2021-09-24T07:38:04.591Z"
   },
   {
    "duration": 18,
    "start_time": "2021-09-24T07:38:18.300Z"
   },
   {
    "duration": 17,
    "start_time": "2021-09-24T07:38:28.676Z"
   },
   {
    "duration": 37,
    "start_time": "2021-09-24T07:39:16.661Z"
   },
   {
    "duration": 66,
    "start_time": "2021-09-24T07:39:24.697Z"
   },
   {
    "duration": 9,
    "start_time": "2021-09-24T07:39:24.766Z"
   },
   {
    "duration": 13,
    "start_time": "2021-09-24T07:39:24.777Z"
   },
   {
    "duration": 7,
    "start_time": "2021-09-24T07:39:24.792Z"
   },
   {
    "duration": 16,
    "start_time": "2021-09-24T07:39:24.801Z"
   },
   {
    "duration": 34,
    "start_time": "2021-09-24T07:39:24.819Z"
   },
   {
    "duration": 40,
    "start_time": "2021-09-24T07:39:24.855Z"
   },
   {
    "duration": 12,
    "start_time": "2021-09-24T07:39:24.898Z"
   },
   {
    "duration": 2,
    "start_time": "2021-09-24T07:40:15.078Z"
   },
   {
    "duration": 95,
    "start_time": "2021-09-24T07:40:19.241Z"
   },
   {
    "duration": 16,
    "start_time": "2021-09-24T07:40:19.338Z"
   },
   {
    "duration": 16,
    "start_time": "2021-09-24T07:40:19.357Z"
   },
   {
    "duration": 10,
    "start_time": "2021-09-24T07:40:19.375Z"
   },
   {
    "duration": 2,
    "start_time": "2021-09-24T07:40:19.387Z"
   },
   {
    "duration": 13,
    "start_time": "2021-09-24T07:40:19.391Z"
   },
   {
    "duration": 86,
    "start_time": "2021-09-24T07:40:19.406Z"
   },
   {
    "duration": 11,
    "start_time": "2021-09-24T07:40:19.494Z"
   },
   {
    "duration": 37,
    "start_time": "2021-09-24T07:40:52.341Z"
   },
   {
    "duration": 72,
    "start_time": "2021-09-24T07:41:56.261Z"
   },
   {
    "duration": 9,
    "start_time": "2021-09-24T07:41:56.335Z"
   },
   {
    "duration": 19,
    "start_time": "2021-09-24T07:41:56.347Z"
   },
   {
    "duration": 9,
    "start_time": "2021-09-24T07:41:56.368Z"
   },
   {
    "duration": 2,
    "start_time": "2021-09-24T07:41:56.379Z"
   },
   {
    "duration": 8,
    "start_time": "2021-09-24T07:41:56.383Z"
   },
   {
    "duration": 63,
    "start_time": "2021-09-24T07:41:56.392Z"
   },
   {
    "duration": 12,
    "start_time": "2021-09-24T07:41:56.457Z"
   },
   {
    "duration": 16,
    "start_time": "2021-09-24T07:43:36.061Z"
   },
   {
    "duration": 24,
    "start_time": "2021-09-24T07:44:22.130Z"
   },
   {
    "duration": 20,
    "start_time": "2021-09-24T07:45:00.829Z"
   },
   {
    "duration": 98,
    "start_time": "2021-09-24T07:48:48.360Z"
   },
   {
    "duration": 12,
    "start_time": "2021-09-24T07:48:48.460Z"
   },
   {
    "duration": 17,
    "start_time": "2021-09-24T07:48:48.475Z"
   },
   {
    "duration": 8,
    "start_time": "2021-09-24T07:48:48.495Z"
   },
   {
    "duration": 47,
    "start_time": "2021-09-24T07:48:48.505Z"
   },
   {
    "duration": 5,
    "start_time": "2021-09-24T07:48:48.554Z"
   },
   {
    "duration": 62,
    "start_time": "2021-09-24T07:48:48.561Z"
   },
   {
    "duration": 29,
    "start_time": "2021-09-24T07:48:48.626Z"
   },
   {
    "duration": 25,
    "start_time": "2021-09-24T07:54:28.937Z"
   },
   {
    "duration": 70,
    "start_time": "2021-09-24T07:54:41.525Z"
   },
   {
    "duration": 9,
    "start_time": "2021-09-24T07:54:41.596Z"
   },
   {
    "duration": 15,
    "start_time": "2021-09-24T07:54:41.608Z"
   },
   {
    "duration": 25,
    "start_time": "2021-09-24T07:54:41.626Z"
   },
   {
    "duration": 24,
    "start_time": "2021-09-24T07:54:41.653Z"
   },
   {
    "duration": 4,
    "start_time": "2021-09-24T07:54:41.679Z"
   },
   {
    "duration": 38,
    "start_time": "2021-09-24T07:54:41.685Z"
   },
   {
    "duration": 11,
    "start_time": "2021-09-24T07:54:41.751Z"
   },
   {
    "duration": 24,
    "start_time": "2021-09-24T07:55:34.333Z"
   },
   {
    "duration": 21,
    "start_time": "2021-09-24T08:00:37.157Z"
   },
   {
    "duration": 66,
    "start_time": "2021-09-24T08:05:38.613Z"
   },
   {
    "duration": 9,
    "start_time": "2021-09-24T08:05:38.681Z"
   },
   {
    "duration": 13,
    "start_time": "2021-09-24T08:05:38.692Z"
   },
   {
    "duration": 15,
    "start_time": "2021-09-24T08:05:38.707Z"
   },
   {
    "duration": 36,
    "start_time": "2021-09-24T08:05:38.725Z"
   },
   {
    "duration": 5,
    "start_time": "2021-09-24T08:05:38.763Z"
   },
   {
    "duration": 56,
    "start_time": "2021-09-24T08:05:38.770Z"
   },
   {
    "duration": 31,
    "start_time": "2021-09-24T08:05:38.829Z"
   },
   {
    "duration": 68,
    "start_time": "2021-09-24T08:10:40.678Z"
   },
   {
    "duration": 8,
    "start_time": "2021-09-24T08:10:40.748Z"
   },
   {
    "duration": 11,
    "start_time": "2021-09-24T08:10:40.758Z"
   },
   {
    "duration": 6,
    "start_time": "2021-09-24T08:10:40.770Z"
   },
   {
    "duration": 19,
    "start_time": "2021-09-24T08:10:40.778Z"
   },
   {
    "duration": 4,
    "start_time": "2021-09-24T08:10:40.799Z"
   },
   {
    "duration": 65,
    "start_time": "2021-09-24T08:10:40.804Z"
   },
   {
    "duration": 12,
    "start_time": "2021-09-24T08:10:40.871Z"
   },
   {
    "duration": 404,
    "start_time": "2021-09-24T08:11:52.536Z"
   },
   {
    "duration": 28,
    "start_time": "2021-09-24T08:12:01.692Z"
   },
   {
    "duration": 109,
    "start_time": "2021-09-24T08:14:04.873Z"
   },
   {
    "duration": 113,
    "start_time": "2021-09-24T08:15:22.493Z"
   },
   {
    "duration": 17,
    "start_time": "2021-09-24T08:17:06.737Z"
   },
   {
    "duration": 227,
    "start_time": "2021-09-24T08:17:42.497Z"
   },
   {
    "duration": 18,
    "start_time": "2021-09-24T08:17:55.495Z"
   },
   {
    "duration": 17,
    "start_time": "2021-09-24T08:18:13.138Z"
   },
   {
    "duration": 26,
    "start_time": "2021-09-24T08:19:21.643Z"
   },
   {
    "duration": 418,
    "start_time": "2021-09-24T08:20:04.370Z"
   },
   {
    "duration": 409,
    "start_time": "2021-09-24T08:20:43.363Z"
   },
   {
    "duration": 401,
    "start_time": "2021-09-24T08:20:52.900Z"
   },
   {
    "duration": 556,
    "start_time": "2021-09-24T08:21:24.818Z"
   },
   {
    "duration": 436,
    "start_time": "2021-09-24T08:21:46.284Z"
   },
   {
    "duration": 840,
    "start_time": "2021-09-24T08:22:36.291Z"
   },
   {
    "duration": 79,
    "start_time": "2021-09-24T08:24:18.633Z"
   },
   {
    "duration": 79,
    "start_time": "2021-09-24T08:24:58.623Z"
   },
   {
    "duration": 14,
    "start_time": "2021-09-24T08:25:31.450Z"
   },
   {
    "duration": 68,
    "start_time": "2021-09-24T08:32:15.574Z"
   },
   {
    "duration": 10,
    "start_time": "2021-09-24T08:32:15.643Z"
   },
   {
    "duration": 10,
    "start_time": "2021-09-24T08:32:15.655Z"
   },
   {
    "duration": 8,
    "start_time": "2021-09-24T08:32:15.667Z"
   },
   {
    "duration": 19,
    "start_time": "2021-09-24T08:32:15.676Z"
   },
   {
    "duration": 3,
    "start_time": "2021-09-24T08:32:15.697Z"
   },
   {
    "duration": 68,
    "start_time": "2021-09-24T08:32:15.702Z"
   },
   {
    "duration": 10,
    "start_time": "2021-09-24T08:32:15.773Z"
   },
   {
    "duration": 291,
    "start_time": "2021-09-24T08:40:27.639Z"
   },
   {
    "duration": 57,
    "start_time": "2021-09-24T08:54:36.165Z"
   },
   {
    "duration": 54,
    "start_time": "2021-09-24T08:55:47.770Z"
   },
   {
    "duration": 39,
    "start_time": "2021-09-24T08:56:24.023Z"
   },
   {
    "duration": 70,
    "start_time": "2021-09-24T08:57:22.708Z"
   },
   {
    "duration": 10,
    "start_time": "2021-09-24T08:57:22.780Z"
   },
   {
    "duration": 14,
    "start_time": "2021-09-24T08:57:22.793Z"
   },
   {
    "duration": 8,
    "start_time": "2021-09-24T08:57:22.809Z"
   },
   {
    "duration": 43,
    "start_time": "2021-09-24T08:57:22.849Z"
   },
   {
    "duration": 6,
    "start_time": "2021-09-24T08:57:22.895Z"
   },
   {
    "duration": 88,
    "start_time": "2021-09-24T08:57:22.903Z"
   },
   {
    "duration": 19,
    "start_time": "2021-09-24T08:57:22.994Z"
   },
   {
    "duration": 72,
    "start_time": "2021-09-24T08:58:06.112Z"
   },
   {
    "duration": 10,
    "start_time": "2021-09-24T08:58:06.186Z"
   },
   {
    "duration": 11,
    "start_time": "2021-09-24T08:58:06.199Z"
   },
   {
    "duration": 7,
    "start_time": "2021-09-24T08:58:06.212Z"
   },
   {
    "duration": 5,
    "start_time": "2021-09-24T08:58:06.250Z"
   },
   {
    "duration": 36,
    "start_time": "2021-09-24T08:58:06.257Z"
   },
   {
    "duration": 12,
    "start_time": "2021-09-24T08:58:06.295Z"
   },
   {
    "duration": 38,
    "start_time": "2021-09-24T08:58:32.474Z"
   },
   {
    "duration": 72,
    "start_time": "2021-09-24T08:58:40.978Z"
   },
   {
    "duration": 9,
    "start_time": "2021-09-24T08:58:41.053Z"
   },
   {
    "duration": 13,
    "start_time": "2021-09-24T08:58:41.065Z"
   },
   {
    "duration": 7,
    "start_time": "2021-09-24T08:58:41.080Z"
   },
   {
    "duration": 5,
    "start_time": "2021-09-24T08:58:41.089Z"
   },
   {
    "duration": 77,
    "start_time": "2021-09-24T08:58:41.095Z"
   },
   {
    "duration": 13,
    "start_time": "2021-09-24T08:58:41.174Z"
   },
   {
    "duration": 100,
    "start_time": "2021-09-24T08:59:13.262Z"
   },
   {
    "duration": 13,
    "start_time": "2021-09-24T08:59:13.365Z"
   },
   {
    "duration": 13,
    "start_time": "2021-09-24T08:59:13.380Z"
   },
   {
    "duration": 9,
    "start_time": "2021-09-24T08:59:13.395Z"
   },
   {
    "duration": 45,
    "start_time": "2021-09-24T08:59:13.406Z"
   },
   {
    "duration": 49,
    "start_time": "2021-09-24T08:59:13.454Z"
   },
   {
    "duration": 22,
    "start_time": "2021-09-24T08:59:13.505Z"
   },
   {
    "duration": 74,
    "start_time": "2021-09-24T08:59:58.549Z"
   },
   {
    "duration": 10,
    "start_time": "2021-09-24T08:59:58.625Z"
   },
   {
    "duration": 20,
    "start_time": "2021-09-24T08:59:58.637Z"
   },
   {
    "duration": 14,
    "start_time": "2021-09-24T08:59:58.660Z"
   },
   {
    "duration": 9,
    "start_time": "2021-09-24T08:59:58.676Z"
   },
   {
    "duration": 34,
    "start_time": "2021-09-24T08:59:58.687Z"
   },
   {
    "duration": 34,
    "start_time": "2021-09-24T08:59:58.723Z"
   },
   {
    "duration": 99,
    "start_time": "2021-09-24T09:05:00.702Z"
   },
   {
    "duration": 10,
    "start_time": "2021-09-24T09:05:00.803Z"
   },
   {
    "duration": 23,
    "start_time": "2021-09-24T09:05:00.816Z"
   },
   {
    "duration": 15,
    "start_time": "2021-09-24T09:05:00.851Z"
   },
   {
    "duration": 22,
    "start_time": "2021-09-24T09:05:00.869Z"
   },
   {
    "duration": 88,
    "start_time": "2021-09-24T09:05:00.895Z"
   },
   {
    "duration": 18,
    "start_time": "2021-09-24T09:05:00.986Z"
   },
   {
    "duration": 68,
    "start_time": "2021-09-24T09:08:31.313Z"
   },
   {
    "duration": 101,
    "start_time": "2021-09-24T09:08:46.853Z"
   },
   {
    "duration": 13,
    "start_time": "2021-09-24T09:08:46.957Z"
   },
   {
    "duration": 16,
    "start_time": "2021-09-24T09:08:46.973Z"
   },
   {
    "duration": 7,
    "start_time": "2021-09-24T09:08:46.991Z"
   },
   {
    "duration": 4,
    "start_time": "2021-09-24T09:08:47.000Z"
   },
   {
    "duration": 76,
    "start_time": "2021-09-24T09:08:47.006Z"
   },
   {
    "duration": 13,
    "start_time": "2021-09-24T09:08:47.084Z"
   },
   {
    "duration": 75,
    "start_time": "2021-09-24T09:09:32.769Z"
   },
   {
    "duration": 11,
    "start_time": "2021-09-24T09:09:32.846Z"
   },
   {
    "duration": 14,
    "start_time": "2021-09-24T09:09:32.859Z"
   },
   {
    "duration": 8,
    "start_time": "2021-09-24T09:09:32.875Z"
   },
   {
    "duration": 5,
    "start_time": "2021-09-24T09:09:32.885Z"
   },
   {
    "duration": 78,
    "start_time": "2021-09-24T09:09:32.892Z"
   },
   {
    "duration": 12,
    "start_time": "2021-09-24T09:09:32.972Z"
   },
   {
    "duration": 106,
    "start_time": "2021-09-24T09:10:51.161Z"
   },
   {
    "duration": 18,
    "start_time": "2021-09-24T09:31:18.426Z"
   },
   {
    "duration": 73,
    "start_time": "2021-09-24T09:31:39.294Z"
   },
   {
    "duration": 9,
    "start_time": "2021-09-24T09:31:39.368Z"
   },
   {
    "duration": 19,
    "start_time": "2021-09-24T09:31:39.379Z"
   },
   {
    "duration": 6,
    "start_time": "2021-09-24T09:31:39.400Z"
   },
   {
    "duration": 4,
    "start_time": "2021-09-24T09:31:39.408Z"
   },
   {
    "duration": 50,
    "start_time": "2021-09-24T09:31:39.414Z"
   },
   {
    "duration": 16,
    "start_time": "2021-09-24T09:31:39.466Z"
   },
   {
    "duration": 75,
    "start_time": "2021-09-24T09:31:55.599Z"
   },
   {
    "duration": 9,
    "start_time": "2021-09-24T09:31:55.676Z"
   },
   {
    "duration": 12,
    "start_time": "2021-09-24T09:31:55.688Z"
   },
   {
    "duration": 48,
    "start_time": "2021-09-24T09:31:55.704Z"
   },
   {
    "duration": 5,
    "start_time": "2021-09-24T09:31:55.754Z"
   },
   {
    "duration": 27,
    "start_time": "2021-09-24T09:31:55.761Z"
   },
   {
    "duration": 16,
    "start_time": "2021-09-24T09:31:55.790Z"
   },
   {
    "duration": 8,
    "start_time": "2021-09-24T09:38:39.908Z"
   },
   {
    "duration": 68,
    "start_time": "2021-09-24T09:38:53.545Z"
   },
   {
    "duration": 13,
    "start_time": "2021-09-24T09:38:53.615Z"
   },
   {
    "duration": 20,
    "start_time": "2021-09-24T09:38:53.630Z"
   },
   {
    "duration": 7,
    "start_time": "2021-09-24T09:38:53.651Z"
   },
   {
    "duration": 17,
    "start_time": "2021-09-24T09:38:53.660Z"
   },
   {
    "duration": 10,
    "start_time": "2021-09-24T09:38:53.679Z"
   },
   {
    "duration": 6,
    "start_time": "2021-09-24T09:39:20.365Z"
   },
   {
    "duration": 64,
    "start_time": "2021-09-24T09:39:23.250Z"
   },
   {
    "duration": 10,
    "start_time": "2021-09-24T09:39:23.316Z"
   },
   {
    "duration": 23,
    "start_time": "2021-09-24T09:39:23.328Z"
   },
   {
    "duration": 7,
    "start_time": "2021-09-24T09:39:23.352Z"
   },
   {
    "duration": 15,
    "start_time": "2021-09-24T09:39:23.360Z"
   },
   {
    "duration": 11,
    "start_time": "2021-09-24T09:39:23.377Z"
   },
   {
    "duration": 13,
    "start_time": "2021-09-24T09:39:59.058Z"
   },
   {
    "duration": 394,
    "start_time": "2021-09-24T09:40:25.501Z"
   },
   {
    "duration": 117,
    "start_time": "2021-09-24T09:40:38.252Z"
   },
   {
    "duration": 12,
    "start_time": "2021-09-24T09:40:38.372Z"
   },
   {
    "duration": 30,
    "start_time": "2021-09-24T09:40:38.386Z"
   },
   {
    "duration": 13,
    "start_time": "2021-09-24T09:40:38.418Z"
   },
   {
    "duration": 29,
    "start_time": "2021-09-24T09:40:38.433Z"
   },
   {
    "duration": 12,
    "start_time": "2021-09-24T09:40:38.464Z"
   },
   {
    "duration": 71,
    "start_time": "2021-09-24T09:40:52.791Z"
   },
   {
    "duration": 8,
    "start_time": "2021-09-24T09:40:52.864Z"
   },
   {
    "duration": 21,
    "start_time": "2021-09-24T09:40:52.874Z"
   },
   {
    "duration": 7,
    "start_time": "2021-09-24T09:40:52.897Z"
   },
   {
    "duration": 39,
    "start_time": "2021-09-24T09:40:52.905Z"
   },
   {
    "duration": 17,
    "start_time": "2021-09-24T09:40:52.945Z"
   },
   {
    "duration": 96,
    "start_time": "2021-09-24T09:42:14.479Z"
   },
   {
    "duration": 8,
    "start_time": "2021-09-24T09:42:14.577Z"
   },
   {
    "duration": 11,
    "start_time": "2021-09-24T09:42:14.587Z"
   },
   {
    "duration": 5,
    "start_time": "2021-09-24T09:42:14.600Z"
   },
   {
    "duration": 16,
    "start_time": "2021-09-24T09:42:14.607Z"
   },
   {
    "duration": 12,
    "start_time": "2021-09-24T09:42:14.649Z"
   },
   {
    "duration": 66,
    "start_time": "2021-09-24T09:42:52.030Z"
   },
   {
    "duration": 9,
    "start_time": "2021-09-24T09:42:52.099Z"
   },
   {
    "duration": 14,
    "start_time": "2021-09-24T09:42:52.111Z"
   },
   {
    "duration": 26,
    "start_time": "2021-09-24T09:42:52.127Z"
   },
   {
    "duration": 16,
    "start_time": "2021-09-24T09:42:52.154Z"
   },
   {
    "duration": 11,
    "start_time": "2021-09-24T09:42:52.172Z"
   },
   {
    "duration": 19,
    "start_time": "2021-09-24T09:56:39.161Z"
   },
   {
    "duration": 24,
    "start_time": "2021-09-24T09:57:10.328Z"
   },
   {
    "duration": 7,
    "start_time": "2021-09-24T09:58:23.741Z"
   },
   {
    "duration": 72,
    "start_time": "2021-09-24T09:59:29.644Z"
   },
   {
    "duration": 10,
    "start_time": "2021-09-24T09:59:29.718Z"
   },
   {
    "duration": 24,
    "start_time": "2021-09-24T09:59:29.730Z"
   },
   {
    "duration": 12,
    "start_time": "2021-09-24T09:59:29.756Z"
   },
   {
    "duration": 16,
    "start_time": "2021-09-24T09:59:29.770Z"
   },
   {
    "duration": 11,
    "start_time": "2021-09-24T09:59:29.788Z"
   },
   {
    "duration": 16,
    "start_time": "2021-09-24T09:59:29.801Z"
   },
   {
    "duration": 16,
    "start_time": "2021-09-24T09:59:29.819Z"
   },
   {
    "duration": 70,
    "start_time": "2021-09-24T10:00:20.287Z"
   },
   {
    "duration": 12,
    "start_time": "2021-09-24T10:00:20.359Z"
   },
   {
    "duration": 23,
    "start_time": "2021-09-24T10:00:20.374Z"
   },
   {
    "duration": 22,
    "start_time": "2021-09-24T10:00:20.399Z"
   },
   {
    "duration": 26,
    "start_time": "2021-09-24T10:00:20.423Z"
   },
   {
    "duration": 14,
    "start_time": "2021-09-24T10:00:20.451Z"
   },
   {
    "duration": 4,
    "start_time": "2021-09-24T10:00:20.467Z"
   },
   {
    "duration": 23,
    "start_time": "2021-09-24T10:00:20.474Z"
   },
   {
    "duration": 29,
    "start_time": "2021-09-24T10:00:20.499Z"
   },
   {
    "duration": 71,
    "start_time": "2021-09-24T10:00:55.413Z"
   },
   {
    "duration": 10,
    "start_time": "2021-09-24T10:00:55.486Z"
   },
   {
    "duration": 14,
    "start_time": "2021-09-24T10:00:55.498Z"
   },
   {
    "duration": 7,
    "start_time": "2021-09-24T10:00:55.514Z"
   },
   {
    "duration": 39,
    "start_time": "2021-09-24T10:00:55.523Z"
   },
   {
    "duration": 12,
    "start_time": "2021-09-24T10:00:55.564Z"
   },
   {
    "duration": 28,
    "start_time": "2021-09-24T10:00:55.579Z"
   },
   {
    "duration": 9,
    "start_time": "2021-09-24T10:00:55.609Z"
   },
   {
    "duration": 25,
    "start_time": "2021-09-24T10:03:34.165Z"
   },
   {
    "duration": 240,
    "start_time": "2021-09-24T10:05:08.086Z"
   },
   {
    "duration": 6,
    "start_time": "2021-09-24T10:05:13.287Z"
   },
   {
    "duration": 6,
    "start_time": "2021-09-24T10:06:15.917Z"
   },
   {
    "duration": 7,
    "start_time": "2021-09-24T10:07:53.364Z"
   },
   {
    "duration": 6,
    "start_time": "2021-09-24T10:08:05.873Z"
   },
   {
    "duration": 6,
    "start_time": "2021-09-24T10:13:40.309Z"
   },
   {
    "duration": 252,
    "start_time": "2021-09-24T10:19:53.540Z"
   },
   {
    "duration": 924,
    "start_time": "2021-09-24T10:21:01.095Z"
   },
   {
    "duration": 1015,
    "start_time": "2021-09-24T10:21:41.275Z"
   },
   {
    "duration": 694,
    "start_time": "2021-09-24T10:21:44.218Z"
   },
   {
    "duration": 100,
    "start_time": "2021-09-24T10:21:45.754Z"
   },
   {
    "duration": 12,
    "start_time": "2021-09-24T10:21:45.856Z"
   },
   {
    "duration": 11,
    "start_time": "2021-09-24T10:21:45.870Z"
   },
   {
    "duration": 8,
    "start_time": "2021-09-24T10:21:45.883Z"
   },
   {
    "duration": 56,
    "start_time": "2021-09-24T10:21:45.893Z"
   },
   {
    "duration": 17,
    "start_time": "2021-09-24T10:21:45.952Z"
   },
   {
    "duration": 26,
    "start_time": "2021-09-24T10:21:45.972Z"
   },
   {
    "duration": 12,
    "start_time": "2021-09-24T10:21:46.001Z"
   },
   {
    "duration": 37,
    "start_time": "2021-09-24T10:21:46.016Z"
   },
   {
    "duration": 968,
    "start_time": "2021-09-24T10:21:46.054Z"
   },
   {
    "duration": 298,
    "start_time": "2021-09-24T10:21:57.929Z"
   },
   {
    "duration": 935,
    "start_time": "2021-09-24T10:22:09.405Z"
   },
   {
    "duration": 75,
    "start_time": "2021-09-24T10:22:12.539Z"
   },
   {
    "duration": 10,
    "start_time": "2021-09-24T10:22:12.617Z"
   },
   {
    "duration": 14,
    "start_time": "2021-09-24T10:22:12.649Z"
   },
   {
    "duration": 13,
    "start_time": "2021-09-24T10:22:12.667Z"
   },
   {
    "duration": 32,
    "start_time": "2021-09-24T10:22:12.683Z"
   },
   {
    "duration": 46,
    "start_time": "2021-09-24T10:22:12.718Z"
   },
   {
    "duration": 33,
    "start_time": "2021-09-24T10:22:12.767Z"
   },
   {
    "duration": 12,
    "start_time": "2021-09-24T10:22:12.803Z"
   },
   {
    "duration": 34,
    "start_time": "2021-09-24T10:22:12.818Z"
   },
   {
    "duration": 967,
    "start_time": "2021-09-24T10:22:12.854Z"
   },
   {
    "duration": 966,
    "start_time": "2021-09-24T10:31:51.018Z"
   },
   {
    "duration": 1207,
    "start_time": "2021-09-24T10:34:30.190Z"
   },
   {
    "duration": 193,
    "start_time": "2021-09-24T10:35:35.278Z"
   },
   {
    "duration": 239,
    "start_time": "2021-09-24T10:35:47.628Z"
   },
   {
    "duration": 27,
    "start_time": "2021-09-24T10:37:11.303Z"
   },
   {
    "duration": 27,
    "start_time": "2021-09-24T10:37:21.407Z"
   },
   {
    "duration": 107,
    "start_time": "2021-09-24T10:38:34.739Z"
   },
   {
    "duration": 291,
    "start_time": "2021-09-24T10:38:46.944Z"
   },
   {
    "duration": -1343,
    "start_time": "2021-09-24T10:39:40.514Z"
   },
   {
    "duration": 96,
    "start_time": "2021-09-24T10:39:39.864Z"
   },
   {
    "duration": 13,
    "start_time": "2021-09-24T10:39:39.962Z"
   },
   {
    "duration": 10,
    "start_time": "2021-09-24T10:39:39.978Z"
   },
   {
    "duration": 21,
    "start_time": "2021-09-24T10:39:39.990Z"
   },
   {
    "duration": 23,
    "start_time": "2021-09-24T10:39:40.013Z"
   },
   {
    "duration": 12,
    "start_time": "2021-09-24T10:39:40.049Z"
   },
   {
    "duration": 31,
    "start_time": "2021-09-24T10:39:40.062Z"
   },
   {
    "duration": 8,
    "start_time": "2021-09-24T10:39:40.095Z"
   },
   {
    "duration": 12,
    "start_time": "2021-09-24T10:39:40.106Z"
   },
   {
    "duration": 3268,
    "start_time": "2021-09-24T10:39:40.120Z"
   },
   {
    "duration": -1348,
    "start_time": "2021-09-24T10:40:10.193Z"
   },
   {
    "duration": -1360,
    "start_time": "2021-09-24T10:40:10.207Z"
   },
   {
    "duration": -1368,
    "start_time": "2021-09-24T10:40:10.217Z"
   },
   {
    "duration": -1375,
    "start_time": "2021-09-24T10:40:10.226Z"
   },
   {
    "duration": -1380,
    "start_time": "2021-09-24T10:40:10.233Z"
   },
   {
    "duration": -1382,
    "start_time": "2021-09-24T10:40:10.237Z"
   },
   {
    "duration": -1392,
    "start_time": "2021-09-24T10:40:10.249Z"
   },
   {
    "duration": -1395,
    "start_time": "2021-09-24T10:40:10.254Z"
   },
   {
    "duration": -1397,
    "start_time": "2021-09-24T10:40:10.257Z"
   },
   {
    "duration": -1399,
    "start_time": "2021-09-24T10:40:10.260Z"
   },
   {
    "duration": 129,
    "start_time": "2021-09-24T10:40:18.321Z"
   },
   {
    "duration": 11,
    "start_time": "2021-09-24T10:40:18.453Z"
   },
   {
    "duration": 13,
    "start_time": "2021-09-24T10:40:18.466Z"
   },
   {
    "duration": 7,
    "start_time": "2021-09-24T10:40:18.482Z"
   },
   {
    "duration": 17,
    "start_time": "2021-09-24T10:40:18.491Z"
   },
   {
    "duration": 49,
    "start_time": "2021-09-24T10:40:18.510Z"
   },
   {
    "duration": 23,
    "start_time": "2021-09-24T10:40:18.561Z"
   },
   {
    "duration": 9,
    "start_time": "2021-09-24T10:40:18.586Z"
   },
   {
    "duration": 8,
    "start_time": "2021-09-24T10:40:18.597Z"
   },
   {
    "duration": 3177,
    "start_time": "2021-09-24T10:40:18.607Z"
   },
   {
    "duration": 1024,
    "start_time": "2021-09-24T10:43:02.433Z"
   },
   {
    "duration": 699,
    "start_time": "2021-09-24T10:43:03.697Z"
   },
   {
    "duration": 986,
    "start_time": "2021-09-24T10:43:05.564Z"
   },
   {
    "duration": 75,
    "start_time": "2021-09-24T10:43:07.953Z"
   },
   {
    "duration": 17,
    "start_time": "2021-09-24T10:43:08.031Z"
   },
   {
    "duration": 13,
    "start_time": "2021-09-24T10:43:08.051Z"
   },
   {
    "duration": 12,
    "start_time": "2021-09-24T10:43:08.067Z"
   },
   {
    "duration": 29,
    "start_time": "2021-09-24T10:43:08.081Z"
   },
   {
    "duration": 12,
    "start_time": "2021-09-24T10:43:08.112Z"
   },
   {
    "duration": 38,
    "start_time": "2021-09-24T10:43:08.125Z"
   },
   {
    "duration": 27,
    "start_time": "2021-09-24T10:43:08.165Z"
   },
   {
    "duration": 23,
    "start_time": "2021-09-24T10:43:08.194Z"
   },
   {
    "duration": 986,
    "start_time": "2021-09-24T10:43:08.219Z"
   },
   {
    "duration": 964,
    "start_time": "2021-09-24T10:49:42.914Z"
   },
   {
    "duration": 75,
    "start_time": "2021-09-24T10:50:24.468Z"
   },
   {
    "duration": 11,
    "start_time": "2021-09-24T10:50:24.545Z"
   },
   {
    "duration": 11,
    "start_time": "2021-09-24T10:50:24.558Z"
   },
   {
    "duration": 7,
    "start_time": "2021-09-24T10:50:24.571Z"
   },
   {
    "duration": 16,
    "start_time": "2021-09-24T10:50:24.580Z"
   },
   {
    "duration": 10,
    "start_time": "2021-09-24T10:50:24.598Z"
   },
   {
    "duration": 54,
    "start_time": "2021-09-24T10:50:24.610Z"
   },
   {
    "duration": 7,
    "start_time": "2021-09-24T10:50:24.666Z"
   },
   {
    "duration": 8,
    "start_time": "2021-09-24T10:50:24.675Z"
   },
   {
    "duration": 4114,
    "start_time": "2021-09-24T10:50:24.684Z"
   },
   {
    "duration": 101,
    "start_time": "2021-09-24T10:53:55.640Z"
   },
   {
    "duration": -1357,
    "start_time": "2021-09-24T10:54:23.785Z"
   },
   {
    "duration": -1371,
    "start_time": "2021-09-24T10:54:23.801Z"
   },
   {
    "duration": -1379,
    "start_time": "2021-09-24T10:54:23.811Z"
   },
   {
    "duration": -1387,
    "start_time": "2021-09-24T10:54:23.820Z"
   },
   {
    "duration": -1391,
    "start_time": "2021-09-24T10:54:23.826Z"
   },
   {
    "duration": -1397,
    "start_time": "2021-09-24T10:54:23.833Z"
   },
   {
    "duration": -1399,
    "start_time": "2021-09-24T10:54:23.836Z"
   },
   {
    "duration": -1401,
    "start_time": "2021-09-24T10:54:23.840Z"
   },
   {
    "duration": -1403,
    "start_time": "2021-09-24T10:54:23.843Z"
   },
   {
    "duration": -1405,
    "start_time": "2021-09-24T10:54:23.846Z"
   },
   {
    "duration": -1345,
    "start_time": "2021-09-24T10:54:34.550Z"
   },
   {
    "duration": -1371,
    "start_time": "2021-09-24T10:54:34.578Z"
   },
   {
    "duration": -1397,
    "start_time": "2021-09-24T10:54:34.605Z"
   },
   {
    "duration": -1428,
    "start_time": "2021-09-24T10:54:34.637Z"
   },
   {
    "duration": -1449,
    "start_time": "2021-09-24T10:54:34.660Z"
   },
   {
    "duration": -1455,
    "start_time": "2021-09-24T10:54:34.667Z"
   },
   {
    "duration": -1459,
    "start_time": "2021-09-24T10:54:34.673Z"
   },
   {
    "duration": -1477,
    "start_time": "2021-09-24T10:54:34.692Z"
   },
   {
    "duration": -1487,
    "start_time": "2021-09-24T10:54:34.703Z"
   },
   {
    "duration": -1503,
    "start_time": "2021-09-24T10:54:34.721Z"
   },
   {
    "duration": 75,
    "start_time": "2021-09-24T10:55:06.491Z"
   },
   {
    "duration": 10,
    "start_time": "2021-09-24T10:55:06.568Z"
   },
   {
    "duration": 19,
    "start_time": "2021-09-24T10:55:06.580Z"
   },
   {
    "duration": 8,
    "start_time": "2021-09-24T10:55:06.601Z"
   },
   {
    "duration": 44,
    "start_time": "2021-09-24T10:55:06.611Z"
   },
   {
    "duration": 12,
    "start_time": "2021-09-24T10:55:06.657Z"
   },
   {
    "duration": 32,
    "start_time": "2021-09-24T10:55:06.671Z"
   },
   {
    "duration": 16,
    "start_time": "2021-09-24T10:55:06.705Z"
   },
   {
    "duration": 27,
    "start_time": "2021-09-24T10:55:06.723Z"
   },
   {
    "duration": 4771,
    "start_time": "2021-09-24T10:55:06.752Z"
   },
   {
    "duration": 1239,
    "start_time": "2021-09-24T10:56:36.470Z"
   },
   {
    "duration": 81,
    "start_time": "2021-09-24T11:00:35.790Z"
   },
   {
    "duration": -1314,
    "start_time": "2021-09-24T11:00:55.123Z"
   },
   {
    "duration": 1078,
    "start_time": "2021-09-24T12:57:38.218Z"
   },
   {
    "duration": 29,
    "start_time": "2021-09-24T12:57:39.298Z"
   },
   {
    "duration": 14,
    "start_time": "2021-09-24T12:57:39.330Z"
   },
   {
    "duration": 9,
    "start_time": "2021-09-24T12:57:39.347Z"
   },
   {
    "duration": 59,
    "start_time": "2021-09-24T12:57:39.358Z"
   },
   {
    "duration": 19,
    "start_time": "2021-09-24T12:57:39.420Z"
   },
   {
    "duration": 38,
    "start_time": "2021-09-24T12:57:39.442Z"
   },
   {
    "duration": 33,
    "start_time": "2021-09-24T12:57:39.484Z"
   },
   {
    "duration": 9,
    "start_time": "2021-09-24T12:57:39.520Z"
   },
   {
    "duration": -1416,
    "start_time": "2021-09-24T12:57:54.853Z"
   },
   {
    "duration": -1447,
    "start_time": "2021-09-24T12:57:54.888Z"
   },
   {
    "duration": -1459,
    "start_time": "2021-09-24T12:57:54.902Z"
   },
   {
    "duration": -1474,
    "start_time": "2021-09-24T12:57:54.919Z"
   },
   {
    "duration": -1478,
    "start_time": "2021-09-24T12:57:54.925Z"
   },
   {
    "duration": -1479,
    "start_time": "2021-09-24T12:57:54.928Z"
   },
   {
    "duration": -1482,
    "start_time": "2021-09-24T12:57:54.933Z"
   },
   {
    "duration": -1484,
    "start_time": "2021-09-24T12:57:54.937Z"
   },
   {
    "duration": -1486,
    "start_time": "2021-09-24T12:57:54.941Z"
   },
   {
    "duration": -1502,
    "start_time": "2021-09-24T12:57:54.959Z"
   },
   {
    "duration": 95,
    "start_time": "2021-09-24T12:58:26.904Z"
   },
   {
    "duration": 27,
    "start_time": "2021-09-24T12:58:27.003Z"
   },
   {
    "duration": 21,
    "start_time": "2021-09-24T12:58:27.034Z"
   },
   {
    "duration": 20,
    "start_time": "2021-09-24T12:58:27.059Z"
   },
   {
    "duration": 45,
    "start_time": "2021-09-24T12:58:27.082Z"
   },
   {
    "duration": 17,
    "start_time": "2021-09-24T12:58:27.130Z"
   },
   {
    "duration": 59,
    "start_time": "2021-09-24T12:58:27.149Z"
   },
   {
    "duration": 15,
    "start_time": "2021-09-24T12:58:27.212Z"
   },
   {
    "duration": 22,
    "start_time": "2021-09-24T12:58:27.230Z"
   },
   {
    "duration": -1406,
    "start_time": "2021-09-24T12:58:42.746Z"
   },
   {
    "duration": -1408,
    "start_time": "2021-09-24T12:58:54.520Z"
   },
   {
    "duration": 4620,
    "start_time": "2021-09-24T12:59:02.697Z"
   },
   {
    "duration": -1437,
    "start_time": "2021-09-24T12:59:08.757Z"
   },
   {
    "duration": -1408,
    "start_time": "2021-09-24T13:01:46.856Z"
   },
   {
    "duration": 93,
    "start_time": "2021-09-24T13:01:46.095Z"
   },
   {
    "duration": 30,
    "start_time": "2021-09-24T13:01:46.191Z"
   },
   {
    "duration": 15,
    "start_time": "2021-09-24T13:01:46.224Z"
   },
   {
    "duration": 9,
    "start_time": "2021-09-24T13:01:46.242Z"
   },
   {
    "duration": 25,
    "start_time": "2021-09-24T13:01:46.254Z"
   },
   {
    "duration": 48,
    "start_time": "2021-09-24T13:01:46.282Z"
   },
   {
    "duration": 33,
    "start_time": "2021-09-24T13:01:46.333Z"
   },
   {
    "duration": 10,
    "start_time": "2021-09-24T13:01:46.370Z"
   },
   {
    "duration": 8,
    "start_time": "2021-09-24T13:01:46.417Z"
   },
   {
    "duration": -1405,
    "start_time": "2021-09-24T13:02:00.090Z"
   },
   {
    "duration": -1408,
    "start_time": "2021-09-24T13:02:05.255Z"
   },
   {
    "duration": 4530,
    "start_time": "2021-09-24T13:02:15.128Z"
   },
   {
    "duration": 3,
    "start_time": "2021-09-24T13:06:34.638Z"
   },
   {
    "duration": 3,
    "start_time": "2021-09-24T13:06:35.816Z"
   },
   {
    "duration": 9,
    "start_time": "2021-09-24T13:06:57.480Z"
   },
   {
    "duration": 196,
    "start_time": "2021-09-24T13:08:58.599Z"
   },
   {
    "duration": 134,
    "start_time": "2021-09-24T13:09:22.994Z"
   },
   {
    "duration": 143,
    "start_time": "2021-09-24T13:09:57.655Z"
   },
   {
    "duration": 124,
    "start_time": "2021-09-24T13:09:59.183Z"
   },
   {
    "duration": 169,
    "start_time": "2021-09-24T13:10:29.837Z"
   },
   {
    "duration": 32,
    "start_time": "2021-09-24T13:11:12.025Z"
   },
   {
    "duration": 11,
    "start_time": "2021-09-24T13:11:27.469Z"
   },
   {
    "duration": 11,
    "start_time": "2021-09-24T13:11:39.486Z"
   },
   {
    "duration": 18,
    "start_time": "2021-09-24T13:11:46.534Z"
   },
   {
    "duration": 5,
    "start_time": "2021-09-24T13:12:49.270Z"
   },
   {
    "duration": 7,
    "start_time": "2021-09-24T13:13:29.188Z"
   },
   {
    "duration": 4,
    "start_time": "2021-09-24T13:13:39.493Z"
   },
   {
    "duration": 8,
    "start_time": "2021-09-24T13:13:46.309Z"
   },
   {
    "duration": 18,
    "start_time": "2021-09-24T13:14:44.941Z"
   },
   {
    "duration": 14,
    "start_time": "2021-09-24T13:15:24.882Z"
   },
   {
    "duration": 8,
    "start_time": "2021-09-24T13:16:34.899Z"
   },
   {
    "duration": 14,
    "start_time": "2021-09-24T13:18:18.347Z"
   },
   {
    "duration": 13,
    "start_time": "2021-09-24T13:18:18.606Z"
   },
   {
    "duration": 6,
    "start_time": "2021-09-24T13:30:56.136Z"
   },
   {
    "duration": 17,
    "start_time": "2021-09-24T13:31:06.845Z"
   },
   {
    "duration": 9,
    "start_time": "2021-09-24T13:31:49.268Z"
   },
   {
    "duration": 8,
    "start_time": "2021-09-24T13:34:52.685Z"
   },
   {
    "duration": 138,
    "start_time": "2021-09-24T13:35:27.585Z"
   },
   {
    "duration": 9,
    "start_time": "2021-09-24T13:35:32.241Z"
   },
   {
    "duration": 91,
    "start_time": "2021-09-24T13:49:35.625Z"
   },
   {
    "duration": 16,
    "start_time": "2021-09-24T13:49:35.719Z"
   },
   {
    "duration": 19,
    "start_time": "2021-09-24T13:49:35.739Z"
   },
   {
    "duration": 11,
    "start_time": "2021-09-24T13:49:35.761Z"
   },
   {
    "duration": 64,
    "start_time": "2021-09-24T13:49:35.775Z"
   },
   {
    "duration": 22,
    "start_time": "2021-09-24T13:49:35.842Z"
   },
   {
    "duration": 70,
    "start_time": "2021-09-24T13:49:35.867Z"
   },
   {
    "duration": 13,
    "start_time": "2021-09-24T13:49:35.942Z"
   },
   {
    "duration": 16,
    "start_time": "2021-09-24T13:49:35.959Z"
   },
   {
    "duration": 3,
    "start_time": "2021-09-24T13:49:35.979Z"
   },
   {
    "duration": 37,
    "start_time": "2021-09-24T13:49:35.985Z"
   },
   {
    "duration": 17,
    "start_time": "2021-09-24T13:49:36.025Z"
   },
   {
    "duration": 9,
    "start_time": "2021-09-24T13:49:36.044Z"
   },
   {
    "duration": 11,
    "start_time": "2021-09-24T13:49:36.056Z"
   },
   {
    "duration": 8,
    "start_time": "2021-09-24T13:53:20.150Z"
   },
   {
    "duration": 9,
    "start_time": "2021-09-24T13:53:38.498Z"
   },
   {
    "duration": 12,
    "start_time": "2021-09-24T13:54:25.872Z"
   },
   {
    "duration": 10,
    "start_time": "2021-09-24T13:55:24.366Z"
   },
   {
    "duration": 9,
    "start_time": "2021-09-24T13:56:47.223Z"
   },
   {
    "duration": 9,
    "start_time": "2021-09-24T13:59:09.485Z"
   },
   {
    "duration": 9,
    "start_time": "2021-09-24T14:01:41.132Z"
   },
   {
    "duration": 10,
    "start_time": "2021-09-24T14:10:07.759Z"
   },
   {
    "duration": 525,
    "start_time": "2021-09-24T14:24:52.872Z"
   },
   {
    "duration": 47,
    "start_time": "2021-09-24T14:25:52.297Z"
   },
   {
    "duration": 46,
    "start_time": "2021-09-24T14:26:05.633Z"
   },
   {
    "duration": 508,
    "start_time": "2021-09-24T14:26:41.743Z"
   },
   {
    "duration": 420,
    "start_time": "2021-09-24T14:27:23.572Z"
   },
   {
    "duration": 438,
    "start_time": "2021-09-24T14:30:02.350Z"
   },
   {
    "duration": 21,
    "start_time": "2021-09-24T14:30:53.128Z"
   },
   {
    "duration": 19,
    "start_time": "2021-09-24T14:31:54.266Z"
   },
   {
    "duration": 131,
    "start_time": "2021-09-24T14:37:13.638Z"
   },
   {
    "duration": 136,
    "start_time": "2021-09-24T14:37:27.393Z"
   },
   {
    "duration": 143,
    "start_time": "2021-09-24T14:37:40.987Z"
   },
   {
    "duration": 29,
    "start_time": "2021-09-24T14:38:08.503Z"
   },
   {
    "duration": 26,
    "start_time": "2021-09-24T14:39:01.416Z"
   },
   {
    "duration": 28,
    "start_time": "2021-09-24T14:39:33.183Z"
   },
   {
    "duration": 35,
    "start_time": "2021-09-24T14:43:06.243Z"
   },
   {
    "duration": 33,
    "start_time": "2021-09-24T14:44:34.142Z"
   },
   {
    "duration": 32,
    "start_time": "2021-09-24T14:44:46.140Z"
   },
   {
    "duration": 36,
    "start_time": "2021-09-24T14:45:00.383Z"
   },
   {
    "duration": 51,
    "start_time": "2021-09-24T14:45:58.391Z"
   },
   {
    "duration": 34,
    "start_time": "2021-09-24T14:46:09.840Z"
   },
   {
    "duration": 485,
    "start_time": "2021-09-24T17:50:38.667Z"
   },
   {
    "duration": 911,
    "start_time": "2021-09-24T17:50:47.501Z"
   },
   {
    "duration": 13,
    "start_time": "2021-09-24T17:50:48.415Z"
   },
   {
    "duration": 15,
    "start_time": "2021-09-24T17:50:48.431Z"
   },
   {
    "duration": 8,
    "start_time": "2021-09-24T17:50:48.449Z"
   },
   {
    "duration": 25,
    "start_time": "2021-09-24T17:50:48.460Z"
   },
   {
    "duration": 43,
    "start_time": "2021-09-24T17:50:48.487Z"
   },
   {
    "duration": 37,
    "start_time": "2021-09-24T17:50:48.533Z"
   },
   {
    "duration": 9,
    "start_time": "2021-09-24T17:50:48.573Z"
   },
   {
    "duration": 8,
    "start_time": "2021-09-24T17:50:48.617Z"
   },
   {
    "duration": 3,
    "start_time": "2021-09-24T17:50:48.628Z"
   },
   {
    "duration": 8,
    "start_time": "2021-09-24T17:50:48.634Z"
   },
   {
    "duration": 13,
    "start_time": "2021-09-24T17:50:48.645Z"
   },
   {
    "duration": 7,
    "start_time": "2021-09-24T17:50:48.661Z"
   },
   {
    "duration": 40,
    "start_time": "2021-09-24T17:50:48.717Z"
   },
   {
    "duration": 14,
    "start_time": "2021-09-24T17:50:48.759Z"
   },
   {
    "duration": 21,
    "start_time": "2021-09-24T17:50:48.776Z"
   },
   {
    "duration": 9,
    "start_time": "2021-09-24T17:50:48.817Z"
   },
   {
    "duration": 37,
    "start_time": "2021-09-24T17:57:06.368Z"
   },
   {
    "duration": 89,
    "start_time": "2021-09-24T18:06:57.784Z"
   },
   {
    "duration": 13,
    "start_time": "2021-09-24T18:06:57.876Z"
   },
   {
    "duration": 35,
    "start_time": "2021-09-24T18:06:57.892Z"
   },
   {
    "duration": 8,
    "start_time": "2021-09-24T18:06:57.930Z"
   },
   {
    "duration": 22,
    "start_time": "2021-09-24T18:06:57.940Z"
   },
   {
    "duration": 51,
    "start_time": "2021-09-24T18:06:57.964Z"
   },
   {
    "duration": 32,
    "start_time": "2021-09-24T18:06:58.018Z"
   },
   {
    "duration": 11,
    "start_time": "2021-09-24T18:06:58.053Z"
   },
   {
    "duration": 7,
    "start_time": "2021-09-24T18:06:58.067Z"
   },
   {
    "duration": 3,
    "start_time": "2021-09-24T18:06:58.077Z"
   },
   {
    "duration": 7,
    "start_time": "2021-09-24T18:06:58.117Z"
   },
   {
    "duration": 16,
    "start_time": "2021-09-24T18:06:58.126Z"
   },
   {
    "duration": 10,
    "start_time": "2021-09-24T18:06:58.144Z"
   },
   {
    "duration": 71,
    "start_time": "2021-09-24T18:06:58.156Z"
   },
   {
    "duration": 37,
    "start_time": "2021-09-24T18:06:58.229Z"
   },
   {
    "duration": 131,
    "start_time": "2021-09-24T18:07:27.584Z"
   },
   {
    "duration": 5,
    "start_time": "2021-09-24T18:12:45.903Z"
   },
   {
    "duration": 7,
    "start_time": "2021-09-24T18:12:55.439Z"
   },
   {
    "duration": 10,
    "start_time": "2021-09-24T18:14:23.895Z"
   },
   {
    "duration": 10,
    "start_time": "2021-09-24T18:14:24.951Z"
   },
   {
    "duration": 10,
    "start_time": "2021-09-24T18:14:25.880Z"
   },
   {
    "duration": 11,
    "start_time": "2021-09-24T18:15:53.301Z"
   },
   {
    "duration": 9,
    "start_time": "2021-09-24T18:18:15.231Z"
   },
   {
    "duration": 10,
    "start_time": "2021-09-24T18:20:23.538Z"
   },
   {
    "duration": 8,
    "start_time": "2021-09-24T18:21:02.153Z"
   },
   {
    "duration": 10,
    "start_time": "2021-09-24T18:26:08.218Z"
   },
   {
    "duration": 10,
    "start_time": "2021-09-24T18:30:38.804Z"
   },
   {
    "duration": 8,
    "start_time": "2021-09-24T18:33:10.475Z"
   },
   {
    "duration": 5,
    "start_time": "2021-09-24T18:56:33.962Z"
   },
   {
    "duration": 5,
    "start_time": "2021-09-24T18:59:27.258Z"
   },
   {
    "duration": 40,
    "start_time": "2021-09-24T19:01:06.499Z"
   },
   {
    "duration": 46,
    "start_time": "2021-09-24T19:01:56.013Z"
   },
   {
    "duration": 25,
    "start_time": "2021-09-24T19:02:11.429Z"
   },
   {
    "duration": 6,
    "start_time": "2021-09-24T19:03:41.921Z"
   },
   {
    "duration": 24,
    "start_time": "2021-09-24T19:03:44.217Z"
   },
   {
    "duration": 93,
    "start_time": "2021-09-24T19:06:33.947Z"
   },
   {
    "duration": 11,
    "start_time": "2021-09-24T19:06:34.043Z"
   },
   {
    "duration": 15,
    "start_time": "2021-09-24T19:06:34.057Z"
   },
   {
    "duration": 47,
    "start_time": "2021-09-24T19:06:34.075Z"
   },
   {
    "duration": 22,
    "start_time": "2021-09-24T19:06:34.125Z"
   },
   {
    "duration": 15,
    "start_time": "2021-09-24T19:06:34.149Z"
   },
   {
    "duration": 64,
    "start_time": "2021-09-24T19:06:34.167Z"
   },
   {
    "duration": 14,
    "start_time": "2021-09-24T19:06:34.235Z"
   },
   {
    "duration": 8,
    "start_time": "2021-09-24T19:06:34.252Z"
   },
   {
    "duration": 4,
    "start_time": "2021-09-24T19:06:34.262Z"
   },
   {
    "duration": 12,
    "start_time": "2021-09-24T19:06:34.269Z"
   },
   {
    "duration": 14,
    "start_time": "2021-09-24T19:06:34.317Z"
   },
   {
    "duration": 12,
    "start_time": "2021-09-24T19:06:34.334Z"
   },
   {
    "duration": 6,
    "start_time": "2021-09-24T19:06:34.349Z"
   },
   {
    "duration": 9,
    "start_time": "2021-09-24T19:06:34.357Z"
   },
   {
    "duration": 52,
    "start_time": "2021-09-24T19:06:34.369Z"
   },
   {
    "duration": 20,
    "start_time": "2021-09-24T19:06:34.424Z"
   },
   {
    "duration": 13,
    "start_time": "2021-09-24T19:06:34.446Z"
   },
   {
    "duration": 67,
    "start_time": "2021-09-24T19:06:34.462Z"
   },
   {
    "duration": 51,
    "start_time": "2021-09-24T19:06:34.531Z"
   },
   {
    "duration": 72,
    "start_time": "2021-09-24T19:06:34.585Z"
   },
   {
    "duration": 95,
    "start_time": "2021-09-24T19:10:07.825Z"
   },
   {
    "duration": 13,
    "start_time": "2021-09-24T19:10:07.923Z"
   },
   {
    "duration": 33,
    "start_time": "2021-09-24T19:10:07.939Z"
   },
   {
    "duration": 15,
    "start_time": "2021-09-24T19:10:07.975Z"
   },
   {
    "duration": 50,
    "start_time": "2021-09-24T19:10:07.993Z"
   },
   {
    "duration": 18,
    "start_time": "2021-09-24T19:10:08.046Z"
   },
   {
    "duration": 37,
    "start_time": "2021-09-24T19:10:08.067Z"
   },
   {
    "duration": 9,
    "start_time": "2021-09-24T19:10:08.116Z"
   },
   {
    "duration": 20,
    "start_time": "2021-09-24T19:10:08.128Z"
   },
   {
    "duration": 16,
    "start_time": "2021-09-24T19:10:08.150Z"
   },
   {
    "duration": 25,
    "start_time": "2021-09-24T19:10:08.169Z"
   },
   {
    "duration": 30,
    "start_time": "2021-09-24T19:10:08.197Z"
   },
   {
    "duration": 18,
    "start_time": "2021-09-24T19:10:08.230Z"
   },
   {
    "duration": 16,
    "start_time": "2021-09-24T19:10:08.250Z"
   },
   {
    "duration": 21,
    "start_time": "2021-09-24T19:10:08.269Z"
   },
   {
    "duration": 17,
    "start_time": "2021-09-24T19:10:08.293Z"
   },
   {
    "duration": 21,
    "start_time": "2021-09-24T19:10:08.316Z"
   },
   {
    "duration": 24,
    "start_time": "2021-09-24T19:10:08.339Z"
   },
   {
    "duration": 47,
    "start_time": "2021-09-24T19:10:08.366Z"
   },
   {
    "duration": 38,
    "start_time": "2021-09-24T19:10:08.415Z"
   },
   {
    "duration": 62,
    "start_time": "2021-09-24T19:10:08.456Z"
   },
   {
    "duration": 88,
    "start_time": "2021-09-24T19:11:34.311Z"
   },
   {
    "duration": 12,
    "start_time": "2021-09-24T19:11:34.417Z"
   },
   {
    "duration": 17,
    "start_time": "2021-09-24T19:11:34.432Z"
   },
   {
    "duration": 9,
    "start_time": "2021-09-24T19:11:34.451Z"
   },
   {
    "duration": 26,
    "start_time": "2021-09-24T19:11:34.462Z"
   },
   {
    "duration": 15,
    "start_time": "2021-09-24T19:11:34.517Z"
   },
   {
    "duration": 46,
    "start_time": "2021-09-24T19:11:34.536Z"
   },
   {
    "duration": 13,
    "start_time": "2021-09-24T19:11:34.616Z"
   },
   {
    "duration": 10,
    "start_time": "2021-09-24T19:11:34.633Z"
   },
   {
    "duration": 10,
    "start_time": "2021-09-24T19:11:34.647Z"
   },
   {
    "duration": 10,
    "start_time": "2021-09-24T19:11:34.660Z"
   },
   {
    "duration": 53,
    "start_time": "2021-09-24T19:11:34.674Z"
   },
   {
    "duration": 11,
    "start_time": "2021-09-24T19:11:34.730Z"
   },
   {
    "duration": 8,
    "start_time": "2021-09-24T19:11:34.744Z"
   },
   {
    "duration": 16,
    "start_time": "2021-09-24T19:11:34.755Z"
   },
   {
    "duration": 42,
    "start_time": "2021-09-24T19:11:34.774Z"
   },
   {
    "duration": 23,
    "start_time": "2021-09-24T19:11:34.819Z"
   },
   {
    "duration": 22,
    "start_time": "2021-09-24T19:11:34.844Z"
   },
   {
    "duration": 63,
    "start_time": "2021-09-24T19:11:34.869Z"
   },
   {
    "duration": 35,
    "start_time": "2021-09-24T19:11:34.934Z"
   },
   {
    "duration": 55,
    "start_time": "2021-09-24T19:11:34.971Z"
   },
   {
    "duration": 96,
    "start_time": "2021-09-24T19:14:08.420Z"
   },
   {
    "duration": 13,
    "start_time": "2021-09-24T19:14:08.519Z"
   },
   {
    "duration": 13,
    "start_time": "2021-09-24T19:14:08.535Z"
   },
   {
    "duration": 9,
    "start_time": "2021-09-24T19:14:08.551Z"
   },
   {
    "duration": 69,
    "start_time": "2021-09-24T19:14:08.562Z"
   },
   {
    "duration": 16,
    "start_time": "2021-09-24T19:14:08.633Z"
   },
   {
    "duration": 64,
    "start_time": "2021-09-24T19:14:08.652Z"
   },
   {
    "duration": 10,
    "start_time": "2021-09-24T19:14:08.720Z"
   },
   {
    "duration": 9,
    "start_time": "2021-09-24T19:14:08.733Z"
   },
   {
    "duration": 3,
    "start_time": "2021-09-24T19:14:08.745Z"
   },
   {
    "duration": 10,
    "start_time": "2021-09-24T19:14:08.750Z"
   },
   {
    "duration": 55,
    "start_time": "2021-09-24T19:14:08.762Z"
   },
   {
    "duration": 8,
    "start_time": "2021-09-24T19:14:08.819Z"
   },
   {
    "duration": 6,
    "start_time": "2021-09-24T19:14:08.830Z"
   },
   {
    "duration": 13,
    "start_time": "2021-09-24T19:14:08.838Z"
   },
   {
    "duration": 8,
    "start_time": "2021-09-24T19:14:08.854Z"
   },
   {
    "duration": 61,
    "start_time": "2021-09-24T19:14:08.865Z"
   },
   {
    "duration": 17,
    "start_time": "2021-09-24T19:14:08.928Z"
   },
   {
    "duration": 33,
    "start_time": "2021-09-24T19:14:08.948Z"
   },
   {
    "duration": 64,
    "start_time": "2021-09-24T19:14:08.984Z"
   },
   {
    "duration": 35,
    "start_time": "2021-09-24T19:14:09.051Z"
   },
   {
    "duration": 99,
    "start_time": "2021-09-24T19:15:57.767Z"
   },
   {
    "duration": 14,
    "start_time": "2021-09-24T19:15:57.870Z"
   },
   {
    "duration": 40,
    "start_time": "2021-09-24T19:15:57.887Z"
   },
   {
    "duration": 8,
    "start_time": "2021-09-24T19:15:57.930Z"
   },
   {
    "duration": 21,
    "start_time": "2021-09-24T19:15:57.941Z"
   },
   {
    "duration": 13,
    "start_time": "2021-09-24T19:15:57.964Z"
   },
   {
    "duration": 30,
    "start_time": "2021-09-24T19:15:58.017Z"
   },
   {
    "duration": 10,
    "start_time": "2021-09-24T19:15:58.051Z"
   },
   {
    "duration": 8,
    "start_time": "2021-09-24T19:15:58.064Z"
   },
   {
    "duration": 2,
    "start_time": "2021-09-24T19:15:58.075Z"
   },
   {
    "duration": 39,
    "start_time": "2021-09-24T19:15:58.079Z"
   },
   {
    "duration": 13,
    "start_time": "2021-09-24T19:15:58.120Z"
   },
   {
    "duration": 12,
    "start_time": "2021-09-24T19:15:58.135Z"
   },
   {
    "duration": 7,
    "start_time": "2021-09-24T19:15:58.150Z"
   },
   {
    "duration": 12,
    "start_time": "2021-09-24T19:15:58.159Z"
   },
   {
    "duration": 9,
    "start_time": "2021-09-24T19:15:58.217Z"
   },
   {
    "duration": 17,
    "start_time": "2021-09-24T19:15:58.228Z"
   },
   {
    "duration": 17,
    "start_time": "2021-09-24T19:15:58.247Z"
   },
   {
    "duration": 62,
    "start_time": "2021-09-24T19:15:58.267Z"
   },
   {
    "duration": 34,
    "start_time": "2021-09-24T19:15:58.332Z"
   },
   {
    "duration": 56,
    "start_time": "2021-09-24T19:15:58.369Z"
   },
   {
    "duration": 101,
    "start_time": "2021-09-24T19:16:45.116Z"
   },
   {
    "duration": 12,
    "start_time": "2021-09-24T19:16:45.220Z"
   },
   {
    "duration": 14,
    "start_time": "2021-09-24T19:16:45.235Z"
   },
   {
    "duration": 8,
    "start_time": "2021-09-24T19:16:45.252Z"
   },
   {
    "duration": 63,
    "start_time": "2021-09-24T19:16:45.263Z"
   },
   {
    "duration": 14,
    "start_time": "2021-09-24T19:16:45.329Z"
   },
   {
    "duration": 31,
    "start_time": "2021-09-24T19:16:45.346Z"
   },
   {
    "duration": 37,
    "start_time": "2021-09-24T19:16:45.381Z"
   },
   {
    "duration": 8,
    "start_time": "2021-09-24T19:16:45.421Z"
   },
   {
    "duration": 3,
    "start_time": "2021-09-24T19:16:45.432Z"
   },
   {
    "duration": 8,
    "start_time": "2021-09-24T19:16:45.437Z"
   },
   {
    "duration": 13,
    "start_time": "2021-09-24T19:16:45.448Z"
   },
   {
    "duration": 53,
    "start_time": "2021-09-24T19:16:45.463Z"
   },
   {
    "duration": 6,
    "start_time": "2021-09-24T19:16:45.519Z"
   },
   {
    "duration": 11,
    "start_time": "2021-09-24T19:16:45.527Z"
   },
   {
    "duration": 10,
    "start_time": "2021-09-24T19:16:45.540Z"
   },
   {
    "duration": 17,
    "start_time": "2021-09-24T19:16:45.552Z"
   },
   {
    "duration": 53,
    "start_time": "2021-09-24T19:16:45.571Z"
   },
   {
    "duration": 35,
    "start_time": "2021-09-24T19:16:45.627Z"
   },
   {
    "duration": 60,
    "start_time": "2021-09-24T19:16:45.664Z"
   },
   {
    "duration": 37,
    "start_time": "2021-09-24T19:16:45.727Z"
   },
   {
    "duration": 458,
    "start_time": "2021-09-24T19:58:42.265Z"
   },
   {
    "duration": 11,
    "start_time": "2021-09-24T19:59:21.591Z"
   },
   {
    "duration": 10,
    "start_time": "2021-09-24T19:59:57.420Z"
   },
   {
    "duration": 92,
    "start_time": "2021-09-24T20:00:05.457Z"
   },
   {
    "duration": 14,
    "start_time": "2021-09-24T20:00:05.551Z"
   },
   {
    "duration": 19,
    "start_time": "2021-09-24T20:00:05.568Z"
   },
   {
    "duration": 9,
    "start_time": "2021-09-24T20:00:05.618Z"
   },
   {
    "duration": 26,
    "start_time": "2021-09-24T20:00:05.629Z"
   },
   {
    "duration": 15,
    "start_time": "2021-09-24T20:00:05.657Z"
   },
   {
    "duration": 64,
    "start_time": "2021-09-24T20:00:05.674Z"
   },
   {
    "duration": 14,
    "start_time": "2021-09-24T20:00:05.741Z"
   },
   {
    "duration": 8,
    "start_time": "2021-09-24T20:00:05.758Z"
   },
   {
    "duration": 3,
    "start_time": "2021-09-24T20:00:05.769Z"
   },
   {
    "duration": 42,
    "start_time": "2021-09-24T20:00:05.774Z"
   },
   {
    "duration": 12,
    "start_time": "2021-09-24T20:00:05.819Z"
   },
   {
    "duration": 21,
    "start_time": "2021-09-24T20:00:05.834Z"
   },
   {
    "duration": 16,
    "start_time": "2021-09-24T20:00:05.858Z"
   },
   {
    "duration": 21,
    "start_time": "2021-09-24T20:00:05.877Z"
   },
   {
    "duration": 43,
    "start_time": "2021-09-24T20:00:05.900Z"
   },
   {
    "duration": 38,
    "start_time": "2021-09-24T20:00:05.946Z"
   },
   {
    "duration": 45,
    "start_time": "2021-09-24T20:00:05.986Z"
   },
   {
    "duration": 37,
    "start_time": "2021-09-24T20:00:06.034Z"
   },
   {
    "duration": 91,
    "start_time": "2021-09-24T20:00:35.715Z"
   },
   {
    "duration": 13,
    "start_time": "2021-09-24T20:00:35.816Z"
   },
   {
    "duration": 24,
    "start_time": "2021-09-24T20:00:35.832Z"
   },
   {
    "duration": 9,
    "start_time": "2021-09-24T20:00:35.859Z"
   },
   {
    "duration": 48,
    "start_time": "2021-09-24T20:00:35.870Z"
   },
   {
    "duration": 14,
    "start_time": "2021-09-24T20:00:35.921Z"
   },
   {
    "duration": 35,
    "start_time": "2021-09-24T20:00:35.937Z"
   },
   {
    "duration": 8,
    "start_time": "2021-09-24T20:00:35.975Z"
   },
   {
    "duration": 8,
    "start_time": "2021-09-24T20:00:36.017Z"
   },
   {
    "duration": 13,
    "start_time": "2021-09-24T20:00:36.027Z"
   },
   {
    "duration": 27,
    "start_time": "2021-09-24T20:00:36.042Z"
   },
   {
    "duration": 24,
    "start_time": "2021-09-24T20:00:36.071Z"
   },
   {
    "duration": 19,
    "start_time": "2021-09-24T20:00:36.097Z"
   },
   {
    "duration": 6,
    "start_time": "2021-09-24T20:00:36.118Z"
   },
   {
    "duration": 33,
    "start_time": "2021-09-24T20:00:36.126Z"
   },
   {
    "duration": 21,
    "start_time": "2021-09-24T20:00:36.161Z"
   },
   {
    "duration": 46,
    "start_time": "2021-09-24T20:00:36.184Z"
   },
   {
    "duration": 35,
    "start_time": "2021-09-24T20:00:36.232Z"
   },
   {
    "duration": 56,
    "start_time": "2021-09-24T20:00:36.270Z"
   },
   {
    "duration": 410,
    "start_time": "2021-09-24T20:19:36.057Z"
   },
   {
    "duration": 97,
    "start_time": "2021-09-24T20:19:50.397Z"
   },
   {
    "duration": 30,
    "start_time": "2021-09-24T20:19:50.498Z"
   },
   {
    "duration": 17,
    "start_time": "2021-09-24T20:19:50.531Z"
   },
   {
    "duration": 11,
    "start_time": "2021-09-24T20:19:50.551Z"
   },
   {
    "duration": 69,
    "start_time": "2021-09-24T20:19:50.564Z"
   },
   {
    "duration": 16,
    "start_time": "2021-09-24T20:19:50.635Z"
   },
   {
    "duration": 32,
    "start_time": "2021-09-24T20:19:50.655Z"
   },
   {
    "duration": 10,
    "start_time": "2021-09-24T20:19:50.717Z"
   },
   {
    "duration": 9,
    "start_time": "2021-09-24T20:19:50.729Z"
   },
   {
    "duration": 4621,
    "start_time": "2021-09-24T20:19:50.740Z"
   },
   {
    "duration": 12,
    "start_time": "2021-09-24T20:19:55.364Z"
   },
   {
    "duration": 14,
    "start_time": "2021-09-24T20:19:55.378Z"
   },
   {
    "duration": 8,
    "start_time": "2021-09-24T20:19:55.417Z"
   },
   {
    "duration": 6,
    "start_time": "2021-09-24T20:19:55.427Z"
   },
   {
    "duration": 19,
    "start_time": "2021-09-24T20:19:55.436Z"
   },
   {
    "duration": 32,
    "start_time": "2021-09-24T20:19:55.457Z"
   },
   {
    "duration": 54,
    "start_time": "2021-09-24T20:19:55.492Z"
   },
   {
    "duration": 36,
    "start_time": "2021-09-24T20:19:55.549Z"
   },
   {
    "duration": 63,
    "start_time": "2021-09-24T20:19:55.588Z"
   },
   {
    "duration": 93,
    "start_time": "2021-09-24T20:21:03.599Z"
   },
   {
    "duration": 14,
    "start_time": "2021-09-24T20:21:03.717Z"
   },
   {
    "duration": 22,
    "start_time": "2021-09-24T20:21:03.734Z"
   },
   {
    "duration": 9,
    "start_time": "2021-09-24T20:21:03.760Z"
   },
   {
    "duration": 54,
    "start_time": "2021-09-24T20:21:03.771Z"
   },
   {
    "duration": 24,
    "start_time": "2021-09-24T20:21:03.829Z"
   },
   {
    "duration": 34,
    "start_time": "2021-09-24T20:21:03.856Z"
   },
   {
    "duration": 11,
    "start_time": "2021-09-24T20:21:03.921Z"
   },
   {
    "duration": 11,
    "start_time": "2021-09-24T20:21:03.935Z"
   },
   {
    "duration": 4771,
    "start_time": "2021-09-24T20:21:03.949Z"
   },
   {
    "duration": 11,
    "start_time": "2021-09-24T20:21:08.723Z"
   },
   {
    "duration": 15,
    "start_time": "2021-09-24T20:21:08.736Z"
   },
   {
    "duration": 8,
    "start_time": "2021-09-24T20:21:08.754Z"
   },
   {
    "duration": 6,
    "start_time": "2021-09-24T20:21:08.765Z"
   },
   {
    "duration": 57,
    "start_time": "2021-09-24T20:21:08.773Z"
   },
   {
    "duration": 20,
    "start_time": "2021-09-24T20:21:08.832Z"
   },
   {
    "duration": 34,
    "start_time": "2021-09-24T20:21:08.854Z"
   },
   {
    "duration": 37,
    "start_time": "2021-09-24T20:21:08.917Z"
   },
   {
    "duration": 60,
    "start_time": "2021-09-24T20:21:08.956Z"
   },
   {
    "duration": 1841,
    "start_time": "2021-09-24T21:03:46.818Z"
   },
   {
    "duration": 104,
    "start_time": "2021-09-24T21:04:14.412Z"
   },
   {
    "duration": 13,
    "start_time": "2021-09-24T21:04:14.518Z"
   },
   {
    "duration": 20,
    "start_time": "2021-09-24T21:04:14.535Z"
   },
   {
    "duration": 11,
    "start_time": "2021-09-24T21:04:14.559Z"
   },
   {
    "duration": 69,
    "start_time": "2021-09-24T21:04:14.573Z"
   },
   {
    "duration": 20,
    "start_time": "2021-09-24T21:04:14.645Z"
   },
   {
    "duration": 52,
    "start_time": "2021-09-24T21:04:14.668Z"
   },
   {
    "duration": 12,
    "start_time": "2021-09-24T21:04:14.723Z"
   },
   {
    "duration": 5637,
    "start_time": "2021-09-24T21:04:14.737Z"
   },
   {
    "duration": 13,
    "start_time": "2021-09-24T21:04:20.377Z"
   },
   {
    "duration": 33,
    "start_time": "2021-09-24T21:04:20.393Z"
   },
   {
    "duration": 26,
    "start_time": "2021-09-24T21:04:20.429Z"
   },
   {
    "duration": 19,
    "start_time": "2021-09-24T21:04:20.458Z"
   },
   {
    "duration": 29,
    "start_time": "2021-09-24T21:04:20.480Z"
   },
   {
    "duration": 22,
    "start_time": "2021-09-24T21:04:20.512Z"
   },
   {
    "duration": 7,
    "start_time": "2021-09-24T21:04:20.537Z"
   },
   {
    "duration": 3,
    "start_time": "2021-09-24T21:04:20.547Z"
   },
   {
    "duration": 2001,
    "start_time": "2021-09-24T21:04:20.552Z"
   },
   {
    "duration": -1656,
    "start_time": "2021-09-24T21:04:24.212Z"
   },
   {
    "duration": -1659,
    "start_time": "2021-09-24T21:04:24.218Z"
   },
   {
    "duration": -1661,
    "start_time": "2021-09-24T21:04:24.222Z"
   },
   {
    "duration": 97,
    "start_time": "2021-09-24T21:05:19.682Z"
   },
   {
    "duration": 35,
    "start_time": "2021-09-24T21:05:19.783Z"
   },
   {
    "duration": 15,
    "start_time": "2021-09-24T21:05:19.822Z"
   },
   {
    "duration": 10,
    "start_time": "2021-09-24T21:05:19.841Z"
   },
   {
    "duration": 71,
    "start_time": "2021-09-24T21:05:19.854Z"
   },
   {
    "duration": 17,
    "start_time": "2021-09-24T21:05:19.928Z"
   },
   {
    "duration": 35,
    "start_time": "2021-09-24T21:05:19.948Z"
   },
   {
    "duration": 10,
    "start_time": "2021-09-24T21:05:20.020Z"
   },
   {
    "duration": 4543,
    "start_time": "2021-09-24T21:05:20.034Z"
   },
   {
    "duration": 19,
    "start_time": "2021-09-24T21:05:24.580Z"
   },
   {
    "duration": 20,
    "start_time": "2021-09-24T21:05:24.617Z"
   },
   {
    "duration": 16,
    "start_time": "2021-09-24T21:05:24.640Z"
   },
   {
    "duration": 21,
    "start_time": "2021-09-24T21:05:24.659Z"
   },
   {
    "duration": 35,
    "start_time": "2021-09-24T21:05:24.682Z"
   },
   {
    "duration": 20,
    "start_time": "2021-09-24T21:05:24.719Z"
   },
   {
    "duration": 9,
    "start_time": "2021-09-24T21:05:24.742Z"
   },
   {
    "duration": 8,
    "start_time": "2021-09-24T21:05:24.753Z"
   },
   {
    "duration": 1996,
    "start_time": "2021-09-24T21:05:24.763Z"
   },
   {
    "duration": -1626,
    "start_time": "2021-09-24T21:05:28.388Z"
   },
   {
    "duration": -1628,
    "start_time": "2021-09-24T21:05:28.392Z"
   },
   {
    "duration": -1633,
    "start_time": "2021-09-24T21:05:28.398Z"
   },
   {
    "duration": 1824,
    "start_time": "2021-09-24T21:08:39.047Z"
   },
   {
    "duration": 1835,
    "start_time": "2021-09-24T21:09:48.854Z"
   },
   {
    "duration": 3228,
    "start_time": "2021-09-24T21:10:05.142Z"
   },
   {
    "duration": 93,
    "start_time": "2021-09-24T21:10:22.937Z"
   },
   {
    "duration": 13,
    "start_time": "2021-09-24T21:10:23.033Z"
   },
   {
    "duration": 14,
    "start_time": "2021-09-24T21:10:23.049Z"
   },
   {
    "duration": 10,
    "start_time": "2021-09-24T21:10:23.066Z"
   },
   {
    "duration": 23,
    "start_time": "2021-09-24T21:10:23.117Z"
   },
   {
    "duration": 14,
    "start_time": "2021-09-24T21:10:23.143Z"
   },
   {
    "duration": 59,
    "start_time": "2021-09-24T21:10:23.160Z"
   },
   {
    "duration": 20,
    "start_time": "2021-09-24T21:10:23.223Z"
   },
   {
    "duration": 4507,
    "start_time": "2021-09-24T21:10:23.245Z"
   },
   {
    "duration": 16,
    "start_time": "2021-09-24T21:10:27.754Z"
   },
   {
    "duration": 26,
    "start_time": "2021-09-24T21:10:27.772Z"
   },
   {
    "duration": 8,
    "start_time": "2021-09-24T21:10:27.817Z"
   },
   {
    "duration": 12,
    "start_time": "2021-09-24T21:10:27.828Z"
   },
   {
    "duration": 26,
    "start_time": "2021-09-24T21:10:27.843Z"
   },
   {
    "duration": 26,
    "start_time": "2021-09-24T21:10:27.872Z"
   },
   {
    "duration": 20,
    "start_time": "2021-09-24T21:10:27.900Z"
   },
   {
    "duration": 11,
    "start_time": "2021-09-24T21:10:27.922Z"
   },
   {
    "duration": 2393,
    "start_time": "2021-09-24T21:10:27.935Z"
   },
   {
    "duration": -1609,
    "start_time": "2021-09-24T21:10:31.940Z"
   },
   {
    "duration": -1617,
    "start_time": "2021-09-24T21:10:31.949Z"
   },
   {
    "duration": -1619,
    "start_time": "2021-09-24T21:10:31.953Z"
   },
   {
    "duration": 1599,
    "start_time": "2021-09-24T21:11:57.290Z"
   },
   {
    "duration": 93,
    "start_time": "2021-09-24T21:12:07.813Z"
   },
   {
    "duration": 13,
    "start_time": "2021-09-24T21:12:07.908Z"
   },
   {
    "duration": 20,
    "start_time": "2021-09-24T21:12:07.925Z"
   },
   {
    "duration": 9,
    "start_time": "2021-09-24T21:12:07.947Z"
   },
   {
    "duration": 64,
    "start_time": "2021-09-24T21:12:07.958Z"
   },
   {
    "duration": 15,
    "start_time": "2021-09-24T21:12:08.024Z"
   },
   {
    "duration": 33,
    "start_time": "2021-09-24T21:12:08.041Z"
   },
   {
    "duration": 39,
    "start_time": "2021-09-24T21:12:08.078Z"
   },
   {
    "duration": 4707,
    "start_time": "2021-09-24T21:12:08.120Z"
   },
   {
    "duration": 12,
    "start_time": "2021-09-24T21:12:12.830Z"
   },
   {
    "duration": 15,
    "start_time": "2021-09-24T21:12:12.844Z"
   },
   {
    "duration": 9,
    "start_time": "2021-09-24T21:12:12.862Z"
   },
   {
    "duration": 45,
    "start_time": "2021-09-24T21:12:12.873Z"
   },
   {
    "duration": 16,
    "start_time": "2021-09-24T21:12:12.920Z"
   },
   {
    "duration": 19,
    "start_time": "2021-09-24T21:12:12.939Z"
   },
   {
    "duration": 7,
    "start_time": "2021-09-24T21:12:12.960Z"
   },
   {
    "duration": 3,
    "start_time": "2021-09-24T21:12:12.970Z"
   },
   {
    "duration": 1575,
    "start_time": "2021-09-24T21:12:12.975Z"
   },
   {
    "duration": -1613,
    "start_time": "2021-09-24T21:12:16.166Z"
   },
   {
    "duration": -1615,
    "start_time": "2021-09-24T21:12:16.169Z"
   },
   {
    "duration": -1615,
    "start_time": "2021-09-24T21:12:16.171Z"
   },
   {
    "duration": 2786,
    "start_time": "2021-09-24T21:12:29.495Z"
   },
   {
    "duration": 96,
    "start_time": "2021-09-24T21:12:46.338Z"
   },
   {
    "duration": 13,
    "start_time": "2021-09-24T21:12:46.436Z"
   },
   {
    "duration": 14,
    "start_time": "2021-09-24T21:12:46.453Z"
   },
   {
    "duration": 9,
    "start_time": "2021-09-24T21:12:46.469Z"
   },
   {
    "duration": 22,
    "start_time": "2021-09-24T21:12:46.516Z"
   },
   {
    "duration": 14,
    "start_time": "2021-09-24T21:12:46.541Z"
   },
   {
    "duration": 58,
    "start_time": "2021-09-24T21:12:46.558Z"
   },
   {
    "duration": 9,
    "start_time": "2021-09-24T21:12:46.620Z"
   },
   {
    "duration": 4495,
    "start_time": "2021-09-24T21:12:46.632Z"
   },
   {
    "duration": 13,
    "start_time": "2021-09-24T21:12:51.129Z"
   },
   {
    "duration": 16,
    "start_time": "2021-09-24T21:12:51.145Z"
   },
   {
    "duration": 15,
    "start_time": "2021-09-24T21:12:51.164Z"
   },
   {
    "duration": 37,
    "start_time": "2021-09-24T21:12:51.182Z"
   },
   {
    "duration": 16,
    "start_time": "2021-09-24T21:12:51.222Z"
   },
   {
    "duration": 26,
    "start_time": "2021-09-24T21:12:51.241Z"
   },
   {
    "duration": 8,
    "start_time": "2021-09-24T21:12:51.270Z"
   },
   {
    "duration": 3,
    "start_time": "2021-09-24T21:12:51.281Z"
   },
   {
    "duration": 1805,
    "start_time": "2021-09-24T21:12:51.287Z"
   },
   {
    "duration": -1718,
    "start_time": "2021-09-24T21:12:54.813Z"
   },
   {
    "duration": -1721,
    "start_time": "2021-09-24T21:12:54.817Z"
   },
   {
    "duration": -1722,
    "start_time": "2021-09-24T21:12:54.819Z"
   },
   {
    "duration": 5719,
    "start_time": "2021-09-24T21:18:32.938Z"
   },
   {
    "duration": 91,
    "start_time": "2021-09-24T21:19:33.049Z"
   },
   {
    "duration": 12,
    "start_time": "2021-09-24T21:19:33.143Z"
   },
   {
    "duration": 13,
    "start_time": "2021-09-24T21:19:33.158Z"
   },
   {
    "duration": 13,
    "start_time": "2021-09-24T21:19:33.174Z"
   },
   {
    "duration": 23,
    "start_time": "2021-09-24T21:19:33.215Z"
   },
   {
    "duration": 14,
    "start_time": "2021-09-24T21:19:33.240Z"
   },
   {
    "duration": 60,
    "start_time": "2021-09-24T21:19:33.256Z"
   },
   {
    "duration": 8,
    "start_time": "2021-09-24T21:19:33.320Z"
   },
   {
    "duration": 4595,
    "start_time": "2021-09-24T21:19:33.331Z"
   },
   {
    "duration": 14,
    "start_time": "2021-09-24T21:19:37.929Z"
   },
   {
    "duration": 23,
    "start_time": "2021-09-24T21:19:37.945Z"
   },
   {
    "duration": 17,
    "start_time": "2021-09-24T21:19:37.971Z"
   },
   {
    "duration": 27,
    "start_time": "2021-09-24T21:19:37.990Z"
   },
   {
    "duration": 16,
    "start_time": "2021-09-24T21:19:38.019Z"
   },
   {
    "duration": 31,
    "start_time": "2021-09-24T21:19:38.037Z"
   },
   {
    "duration": 9,
    "start_time": "2021-09-24T21:19:38.070Z"
   },
   {
    "duration": 8,
    "start_time": "2021-09-24T21:19:38.082Z"
   },
   {
    "duration": 2020,
    "start_time": "2021-09-24T21:19:38.092Z"
   },
   {
    "duration": -1597,
    "start_time": "2021-09-24T21:19:41.713Z"
   },
   {
    "duration": -1599,
    "start_time": "2021-09-24T21:19:41.717Z"
   },
   {
    "duration": -1601,
    "start_time": "2021-09-24T21:19:41.720Z"
   },
   {
    "duration": 90,
    "start_time": "2021-09-24T21:24:24.127Z"
   },
   {
    "duration": 13,
    "start_time": "2021-09-24T21:24:24.220Z"
   },
   {
    "duration": 23,
    "start_time": "2021-09-24T21:24:24.236Z"
   },
   {
    "duration": 10,
    "start_time": "2021-09-24T21:24:24.261Z"
   },
   {
    "duration": 52,
    "start_time": "2021-09-24T21:24:24.273Z"
   },
   {
    "duration": 16,
    "start_time": "2021-09-24T21:24:24.327Z"
   },
   {
    "duration": 34,
    "start_time": "2021-09-24T21:24:24.346Z"
   },
   {
    "duration": 38,
    "start_time": "2021-09-24T21:24:24.384Z"
   },
   {
    "duration": 4530,
    "start_time": "2021-09-24T21:24:24.425Z"
   },
   {
    "duration": 13,
    "start_time": "2021-09-24T21:24:28.958Z"
   },
   {
    "duration": 15,
    "start_time": "2021-09-24T21:24:28.973Z"
   },
   {
    "duration": 8,
    "start_time": "2021-09-24T21:24:29.017Z"
   },
   {
    "duration": 6,
    "start_time": "2021-09-24T21:24:29.027Z"
   },
   {
    "duration": 19,
    "start_time": "2021-09-24T21:24:29.035Z"
   },
   {
    "duration": 14,
    "start_time": "2021-09-24T21:24:29.056Z"
   },
   {
    "duration": 8,
    "start_time": "2021-09-24T21:24:29.072Z"
   },
   {
    "duration": 822,
    "start_time": "2021-09-24T21:24:29.117Z"
   },
   {
    "duration": -1600,
    "start_time": "2021-09-24T21:24:31.542Z"
   },
   {
    "duration": -1603,
    "start_time": "2021-09-24T21:24:31.546Z"
   },
   {
    "duration": -1603,
    "start_time": "2021-09-24T21:24:31.548Z"
   },
   {
    "duration": -1606,
    "start_time": "2021-09-24T21:24:31.553Z"
   },
   {
    "duration": 98,
    "start_time": "2021-09-24T21:24:46.349Z"
   },
   {
    "duration": 13,
    "start_time": "2021-09-24T21:24:46.450Z"
   },
   {
    "duration": 19,
    "start_time": "2021-09-24T21:24:46.466Z"
   },
   {
    "duration": 35,
    "start_time": "2021-09-24T21:24:46.487Z"
   },
   {
    "duration": 24,
    "start_time": "2021-09-24T21:24:46.524Z"
   },
   {
    "duration": 17,
    "start_time": "2021-09-24T21:24:46.550Z"
   },
   {
    "duration": 69,
    "start_time": "2021-09-24T21:24:46.570Z"
   },
   {
    "duration": 10,
    "start_time": "2021-09-24T21:24:46.645Z"
   },
   {
    "duration": 4632,
    "start_time": "2021-09-24T21:24:46.659Z"
   },
   {
    "duration": 28,
    "start_time": "2021-09-24T21:24:51.293Z"
   },
   {
    "duration": 13,
    "start_time": "2021-09-24T21:24:51.324Z"
   },
   {
    "duration": 10,
    "start_time": "2021-09-24T21:24:51.340Z"
   },
   {
    "duration": 6,
    "start_time": "2021-09-24T21:24:51.352Z"
   },
   {
    "duration": 17,
    "start_time": "2021-09-24T21:24:51.360Z"
   },
   {
    "duration": 48,
    "start_time": "2021-09-24T21:24:51.380Z"
   },
   {
    "duration": 8,
    "start_time": "2021-09-24T21:24:51.431Z"
   },
   {
    "duration": 3,
    "start_time": "2021-09-24T21:24:51.442Z"
   },
   {
    "duration": 2215,
    "start_time": "2021-09-24T21:24:51.448Z"
   },
   {
    "duration": -1613,
    "start_time": "2021-09-24T21:24:55.279Z"
   },
   {
    "duration": -1617,
    "start_time": "2021-09-24T21:24:55.284Z"
   },
   {
    "duration": -1618,
    "start_time": "2021-09-24T21:24:55.287Z"
   },
   {
    "duration": 4,
    "start_time": "2021-09-24T21:26:54.333Z"
   },
   {
    "duration": 1762,
    "start_time": "2021-09-24T21:26:56.064Z"
   },
   {
    "duration": 144,
    "start_time": "2021-09-24T21:28:20.660Z"
   },
   {
    "duration": 637,
    "start_time": "2021-09-24T21:28:28.676Z"
   },
   {
    "duration": 721,
    "start_time": "2021-09-24T21:28:52.119Z"
   },
   {
    "duration": 646,
    "start_time": "2021-09-24T21:29:17.658Z"
   },
   {
    "duration": 1179,
    "start_time": "2021-09-24T21:30:00.009Z"
   },
   {
    "duration": 4,
    "start_time": "2021-09-24T21:33:24.488Z"
   },
   {
    "duration": 187,
    "start_time": "2021-09-24T21:35:04.489Z"
   },
   {
    "duration": 138,
    "start_time": "2021-09-24T21:35:24.973Z"
   },
   {
    "duration": 3593,
    "start_time": "2021-09-24T21:35:29.564Z"
   },
   {
    "duration": 6,
    "start_time": "2021-09-24T21:39:13.348Z"
   },
   {
    "duration": 6,
    "start_time": "2021-09-24T21:39:37.847Z"
   },
   {
    "duration": 417,
    "start_time": "2021-09-24T21:40:08.138Z"
   },
   {
    "duration": 393,
    "start_time": "2021-09-24T21:41:31.438Z"
   },
   {
    "duration": 5,
    "start_time": "2021-09-24T21:41:58.435Z"
   },
   {
    "duration": 106,
    "start_time": "2021-09-24T21:42:04.010Z"
   },
   {
    "duration": 13,
    "start_time": "2021-09-24T21:42:04.119Z"
   },
   {
    "duration": 17,
    "start_time": "2021-09-24T21:42:04.135Z"
   },
   {
    "duration": 8,
    "start_time": "2021-09-24T21:42:04.155Z"
   },
   {
    "duration": 62,
    "start_time": "2021-09-24T21:42:04.165Z"
   },
   {
    "duration": 19,
    "start_time": "2021-09-24T21:42:04.230Z"
   },
   {
    "duration": 35,
    "start_time": "2021-09-24T21:42:04.251Z"
   },
   {
    "duration": 34,
    "start_time": "2021-09-24T21:42:04.290Z"
   },
   {
    "duration": 4603,
    "start_time": "2021-09-24T21:42:04.327Z"
   },
   {
    "duration": 13,
    "start_time": "2021-09-24T21:42:08.933Z"
   },
   {
    "duration": 14,
    "start_time": "2021-09-24T21:42:08.949Z"
   },
   {
    "duration": 16,
    "start_time": "2021-09-24T21:42:08.966Z"
   },
   {
    "duration": 36,
    "start_time": "2021-09-24T21:42:08.985Z"
   },
   {
    "duration": 20,
    "start_time": "2021-09-24T21:42:09.024Z"
   },
   {
    "duration": 23,
    "start_time": "2021-09-24T21:42:09.046Z"
   },
   {
    "duration": 12,
    "start_time": "2021-09-24T21:42:09.072Z"
   },
   {
    "duration": 7,
    "start_time": "2021-09-24T21:42:09.117Z"
   },
   {
    "duration": 10,
    "start_time": "2021-09-24T21:42:09.127Z"
   },
   {
    "duration": 9,
    "start_time": "2021-09-24T21:42:09.140Z"
   },
   {
    "duration": 42,
    "start_time": "2021-09-24T21:42:09.152Z"
   },
   {
    "duration": 37,
    "start_time": "2021-09-24T21:42:09.216Z"
   },
   {
    "duration": 59,
    "start_time": "2021-09-24T21:42:09.256Z"
   },
   {
    "duration": 6,
    "start_time": "2021-09-24T21:43:20.124Z"
   },
   {
    "duration": 1195,
    "start_time": "2021-09-24T21:45:09.627Z"
   },
   {
    "duration": 1106,
    "start_time": "2021-09-24T21:45:33.688Z"
   },
   {
    "duration": 1120,
    "start_time": "2021-09-24T21:47:53.761Z"
   },
   {
    "duration": 102,
    "start_time": "2021-09-24T21:48:14.960Z"
   },
   {
    "duration": 13,
    "start_time": "2021-09-24T21:48:15.065Z"
   },
   {
    "duration": 37,
    "start_time": "2021-09-24T21:48:15.081Z"
   },
   {
    "duration": 9,
    "start_time": "2021-09-24T21:48:15.121Z"
   },
   {
    "duration": 28,
    "start_time": "2021-09-24T21:48:15.133Z"
   },
   {
    "duration": 14,
    "start_time": "2021-09-24T21:48:15.163Z"
   },
   {
    "duration": 62,
    "start_time": "2021-09-24T21:48:15.180Z"
   },
   {
    "duration": 8,
    "start_time": "2021-09-24T21:48:15.247Z"
   },
   {
    "duration": 4662,
    "start_time": "2021-09-24T21:48:15.258Z"
   },
   {
    "duration": 12,
    "start_time": "2021-09-24T21:48:19.923Z"
   },
   {
    "duration": 13,
    "start_time": "2021-09-24T21:48:19.937Z"
   },
   {
    "duration": 10,
    "start_time": "2021-09-24T21:48:19.953Z"
   },
   {
    "duration": 6,
    "start_time": "2021-09-24T21:48:19.966Z"
   },
   {
    "duration": 16,
    "start_time": "2021-09-24T21:48:20.016Z"
   },
   {
    "duration": 24,
    "start_time": "2021-09-24T21:48:20.035Z"
   },
   {
    "duration": 8,
    "start_time": "2021-09-24T21:48:20.062Z"
   },
   {
    "duration": 4,
    "start_time": "2021-09-24T21:48:20.073Z"
   },
   {
    "duration": 1210,
    "start_time": "2021-09-24T21:48:20.080Z"
   },
   {
    "duration": 69,
    "start_time": "2021-09-24T21:48:21.293Z"
   },
   {
    "duration": 57,
    "start_time": "2021-09-24T21:48:21.365Z"
   },
   {
    "duration": 37,
    "start_time": "2021-09-24T21:48:21.424Z"
   },
   {
    "duration": 1117,
    "start_time": "2021-09-24T21:48:39.416Z"
   },
   {
    "duration": 102,
    "start_time": "2021-09-24T21:48:57.170Z"
   },
   {
    "duration": 13,
    "start_time": "2021-09-24T21:48:57.275Z"
   },
   {
    "duration": 32,
    "start_time": "2021-09-24T21:48:57.291Z"
   },
   {
    "duration": 11,
    "start_time": "2021-09-24T21:48:57.325Z"
   },
   {
    "duration": 28,
    "start_time": "2021-09-24T21:48:57.339Z"
   },
   {
    "duration": 14,
    "start_time": "2021-09-24T21:48:57.369Z"
   },
   {
    "duration": 60,
    "start_time": "2021-09-24T21:48:57.385Z"
   },
   {
    "duration": 8,
    "start_time": "2021-09-24T21:48:57.449Z"
   },
   {
    "duration": 4516,
    "start_time": "2021-09-24T21:48:57.460Z"
   },
   {
    "duration": 11,
    "start_time": "2021-09-24T21:49:01.979Z"
   },
   {
    "duration": 33,
    "start_time": "2021-09-24T21:49:01.992Z"
   },
   {
    "duration": 15,
    "start_time": "2021-09-24T21:49:02.027Z"
   },
   {
    "duration": 12,
    "start_time": "2021-09-24T21:49:02.045Z"
   },
   {
    "duration": 21,
    "start_time": "2021-09-24T21:49:02.059Z"
   },
   {
    "duration": 37,
    "start_time": "2021-09-24T21:49:02.083Z"
   },
   {
    "duration": 7,
    "start_time": "2021-09-24T21:49:02.123Z"
   },
   {
    "duration": 15,
    "start_time": "2021-09-24T21:49:02.132Z"
   },
   {
    "duration": 1083,
    "start_time": "2021-09-24T21:49:02.150Z"
   },
   {
    "duration": 35,
    "start_time": "2021-09-24T21:49:03.236Z"
   },
   {
    "duration": 60,
    "start_time": "2021-09-24T21:49:03.273Z"
   },
   {
    "duration": 36,
    "start_time": "2021-09-24T21:49:03.335Z"
   },
   {
    "duration": 110,
    "start_time": "2021-09-24T22:00:01.731Z"
   },
   {
    "duration": 13,
    "start_time": "2021-09-24T22:00:01.844Z"
   },
   {
    "duration": 53,
    "start_time": "2021-09-24T22:00:01.860Z"
   },
   {
    "duration": 19,
    "start_time": "2021-09-24T22:00:01.916Z"
   },
   {
    "duration": 34,
    "start_time": "2021-09-24T22:00:01.937Z"
   },
   {
    "duration": 23,
    "start_time": "2021-09-24T22:00:01.974Z"
   },
   {
    "duration": 46,
    "start_time": "2021-09-24T22:00:01.999Z"
   },
   {
    "duration": 52,
    "start_time": "2021-09-24T22:00:02.050Z"
   },
   {
    "duration": 4655,
    "start_time": "2021-09-24T22:00:02.106Z"
   },
   {
    "duration": 12,
    "start_time": "2021-09-24T22:00:06.764Z"
   },
   {
    "duration": 38,
    "start_time": "2021-09-24T22:00:06.778Z"
   },
   {
    "duration": 8,
    "start_time": "2021-09-24T22:00:06.819Z"
   },
   {
    "duration": 15,
    "start_time": "2021-09-24T22:00:06.829Z"
   },
   {
    "duration": 19,
    "start_time": "2021-09-24T22:00:06.847Z"
   },
   {
    "duration": 20,
    "start_time": "2021-09-24T22:00:06.869Z"
   },
   {
    "duration": 31,
    "start_time": "2021-09-24T22:00:06.891Z"
   },
   {
    "duration": 16,
    "start_time": "2021-09-24T22:00:06.925Z"
   },
   {
    "duration": 18,
    "start_time": "2021-09-24T22:00:06.943Z"
   },
   {
    "duration": 1078,
    "start_time": "2021-09-24T22:00:06.963Z"
   },
   {
    "duration": 37,
    "start_time": "2021-09-24T22:00:08.044Z"
   },
   {
    "duration": 55,
    "start_time": "2021-09-24T22:00:08.084Z"
   },
   {
    "duration": 36,
    "start_time": "2021-09-24T22:00:08.141Z"
   },
   {
    "duration": 9,
    "start_time": "2021-09-24T22:01:27.920Z"
   },
   {
    "duration": 10,
    "start_time": "2021-09-24T22:02:34.687Z"
   },
   {
    "duration": 381,
    "start_time": "2021-09-24T22:02:43.908Z"
   },
   {
    "duration": 11,
    "start_time": "2021-09-24T22:03:02.976Z"
   },
   {
    "duration": 36,
    "start_time": "2021-09-24T22:09:57.902Z"
   },
   {
    "duration": 36,
    "start_time": "2021-09-24T22:10:14.422Z"
   },
   {
    "duration": 36,
    "start_time": "2021-09-24T22:10:54.151Z"
   },
   {
    "duration": 42,
    "start_time": "2021-09-24T22:15:43.446Z"
   },
   {
    "duration": 40,
    "start_time": "2021-09-24T22:15:53.783Z"
   },
   {
    "duration": 58,
    "start_time": "2021-09-24T22:16:04.011Z"
   },
   {
    "duration": 38,
    "start_time": "2021-09-24T22:16:12.281Z"
   },
   {
    "duration": 11,
    "start_time": "2021-09-24T22:16:21.243Z"
   },
   {
    "duration": 10,
    "start_time": "2021-09-24T22:16:52.897Z"
   },
   {
    "duration": 7,
    "start_time": "2021-09-24T22:17:05.337Z"
   },
   {
    "duration": 6,
    "start_time": "2021-09-24T22:17:14.490Z"
   },
   {
    "duration": 9,
    "start_time": "2021-09-24T22:17:28.852Z"
   },
   {
    "duration": 9,
    "start_time": "2021-09-24T22:17:41.448Z"
   },
   {
    "duration": 12,
    "start_time": "2021-09-24T22:18:01.938Z"
   },
   {
    "duration": 16,
    "start_time": "2021-09-24T22:27:46.695Z"
   },
   {
    "duration": 107,
    "start_time": "2021-09-24T22:28:05.948Z"
   },
   {
    "duration": 13,
    "start_time": "2021-09-24T22:28:06.057Z"
   },
   {
    "duration": 46,
    "start_time": "2021-09-24T22:28:06.073Z"
   },
   {
    "duration": 10,
    "start_time": "2021-09-24T22:28:06.121Z"
   },
   {
    "duration": 22,
    "start_time": "2021-09-24T22:28:06.134Z"
   },
   {
    "duration": 14,
    "start_time": "2021-09-24T22:28:06.159Z"
   },
   {
    "duration": 66,
    "start_time": "2021-09-24T22:28:06.175Z"
   },
   {
    "duration": 7,
    "start_time": "2021-09-24T22:28:06.245Z"
   },
   {
    "duration": 4544,
    "start_time": "2021-09-24T22:28:06.255Z"
   },
   {
    "duration": 21,
    "start_time": "2021-09-24T22:28:10.802Z"
   },
   {
    "duration": 14,
    "start_time": "2021-09-24T22:28:10.825Z"
   },
   {
    "duration": 12,
    "start_time": "2021-09-24T22:28:10.842Z"
   },
   {
    "duration": 6,
    "start_time": "2021-09-24T22:28:10.856Z"
   },
   {
    "duration": 62,
    "start_time": "2021-09-24T22:28:10.865Z"
   },
   {
    "duration": 17,
    "start_time": "2021-09-24T22:28:10.930Z"
   },
   {
    "duration": 8,
    "start_time": "2021-09-24T22:28:10.949Z"
   },
   {
    "duration": 4,
    "start_time": "2021-09-24T22:28:10.959Z"
   },
   {
    "duration": 11,
    "start_time": "2021-09-24T22:28:10.966Z"
   },
   {
    "duration": 1202,
    "start_time": "2021-09-24T22:28:11.016Z"
   },
   {
    "duration": 16,
    "start_time": "2021-09-24T22:28:12.221Z"
   },
   {
    "duration": 14,
    "start_time": "2021-09-24T22:28:12.239Z"
   },
   {
    "duration": 73,
    "start_time": "2021-09-24T22:28:12.255Z"
   },
   {
    "duration": 38,
    "start_time": "2021-09-24T22:28:12.333Z"
   },
   {
    "duration": 60,
    "start_time": "2021-09-24T22:28:12.374Z"
   },
   {
    "duration": 38,
    "start_time": "2021-09-24T22:28:12.437Z"
   },
   {
    "duration": 103,
    "start_time": "2021-09-24T22:29:54.069Z"
   },
   {
    "duration": 13,
    "start_time": "2021-09-24T22:29:54.174Z"
   },
   {
    "duration": 37,
    "start_time": "2021-09-24T22:29:54.190Z"
   },
   {
    "duration": 10,
    "start_time": "2021-09-24T22:29:54.230Z"
   },
   {
    "duration": 35,
    "start_time": "2021-09-24T22:29:54.242Z"
   },
   {
    "duration": 43,
    "start_time": "2021-09-24T22:29:54.280Z"
   },
   {
    "duration": 31,
    "start_time": "2021-09-24T22:29:54.326Z"
   },
   {
    "duration": 22,
    "start_time": "2021-09-24T22:29:54.361Z"
   },
   {
    "duration": 4567,
    "start_time": "2021-09-24T22:29:54.386Z"
   },
   {
    "duration": 18,
    "start_time": "2021-09-24T22:29:58.956Z"
   },
   {
    "duration": 45,
    "start_time": "2021-09-24T22:29:58.977Z"
   },
   {
    "duration": 12,
    "start_time": "2021-09-24T22:29:59.025Z"
   },
   {
    "duration": 7,
    "start_time": "2021-09-24T22:29:59.040Z"
   },
   {
    "duration": 20,
    "start_time": "2021-09-24T22:29:59.050Z"
   },
   {
    "duration": 59,
    "start_time": "2021-09-24T22:29:59.072Z"
   },
   {
    "duration": 7,
    "start_time": "2021-09-24T22:29:59.134Z"
   },
   {
    "duration": 3,
    "start_time": "2021-09-24T22:29:59.144Z"
   },
   {
    "duration": 6,
    "start_time": "2021-09-24T22:29:59.150Z"
   },
   {
    "duration": 1084,
    "start_time": "2021-09-24T22:29:59.158Z"
   },
   {
    "duration": 16,
    "start_time": "2021-09-24T22:30:00.244Z"
   },
   {
    "duration": 17,
    "start_time": "2021-09-24T22:30:00.262Z"
   },
   {
    "duration": 67,
    "start_time": "2021-09-24T22:30:00.281Z"
   },
   {
    "duration": 41,
    "start_time": "2021-09-24T22:30:00.352Z"
   },
   {
    "duration": 55,
    "start_time": "2021-09-24T22:30:00.396Z"
   },
   {
    "duration": 38,
    "start_time": "2021-09-24T22:30:00.454Z"
   },
   {
    "duration": 110,
    "start_time": "2021-09-24T22:45:15.118Z"
   },
   {
    "duration": 13,
    "start_time": "2021-09-24T22:45:15.230Z"
   },
   {
    "duration": 16,
    "start_time": "2021-09-24T22:45:15.245Z"
   },
   {
    "duration": 9,
    "start_time": "2021-09-24T22:45:15.264Z"
   },
   {
    "duration": 57,
    "start_time": "2021-09-24T22:45:15.275Z"
   },
   {
    "duration": 14,
    "start_time": "2021-09-24T22:45:15.335Z"
   },
   {
    "duration": 33,
    "start_time": "2021-09-24T22:45:15.351Z"
   },
   {
    "duration": 9,
    "start_time": "2021-09-24T22:45:15.418Z"
   },
   {
    "duration": 4552,
    "start_time": "2021-09-24T22:45:15.429Z"
   },
   {
    "duration": 14,
    "start_time": "2021-09-24T22:45:19.984Z"
   },
   {
    "duration": 15,
    "start_time": "2021-09-24T22:45:20.017Z"
   },
   {
    "duration": 16,
    "start_time": "2021-09-24T22:45:20.034Z"
   },
   {
    "duration": 7,
    "start_time": "2021-09-24T22:45:20.052Z"
   },
   {
    "duration": 16,
    "start_time": "2021-09-24T22:45:20.061Z"
   },
   {
    "duration": 46,
    "start_time": "2021-09-24T22:45:20.080Z"
   },
   {
    "duration": 7,
    "start_time": "2021-09-24T22:45:20.128Z"
   },
   {
    "duration": 3,
    "start_time": "2021-09-24T22:45:20.138Z"
   },
   {
    "duration": 8,
    "start_time": "2021-09-24T22:45:20.143Z"
   },
   {
    "duration": 1092,
    "start_time": "2021-09-24T22:45:20.153Z"
   },
   {
    "duration": 17,
    "start_time": "2021-09-24T22:45:21.247Z"
   },
   {
    "duration": 13,
    "start_time": "2021-09-24T22:45:21.266Z"
   },
   {
    "duration": 69,
    "start_time": "2021-09-24T22:45:21.282Z"
   },
   {
    "duration": 39,
    "start_time": "2021-09-24T22:45:21.356Z"
   },
   {
    "duration": 56,
    "start_time": "2021-09-24T22:45:21.398Z"
   },
   {
    "duration": 61,
    "start_time": "2021-09-24T22:45:21.457Z"
   },
   {
    "duration": 626,
    "start_time": "2021-09-27T19:28:25.508Z"
   },
   {
    "duration": 9,
    "start_time": "2021-09-27T19:28:26.135Z"
   },
   {
    "duration": 9,
    "start_time": "2021-09-27T19:28:26.146Z"
   },
   {
    "duration": 6,
    "start_time": "2021-09-27T19:28:26.157Z"
   },
   {
    "duration": 18,
    "start_time": "2021-09-27T19:28:26.164Z"
   },
   {
    "duration": 10,
    "start_time": "2021-09-27T19:28:26.184Z"
   },
   {
    "duration": 26,
    "start_time": "2021-09-27T19:28:26.195Z"
   },
   {
    "duration": 28,
    "start_time": "2021-09-27T19:28:26.223Z"
   },
   {
    "duration": 3546,
    "start_time": "2021-09-27T19:28:26.253Z"
   },
   {
    "duration": 10,
    "start_time": "2021-09-27T19:28:29.801Z"
   },
   {
    "duration": 8,
    "start_time": "2021-09-27T19:28:29.813Z"
   },
   {
    "duration": 31,
    "start_time": "2021-09-27T19:28:29.822Z"
   },
   {
    "duration": 5,
    "start_time": "2021-09-27T19:28:29.854Z"
   },
   {
    "duration": 22,
    "start_time": "2021-09-27T19:28:29.860Z"
   },
   {
    "duration": 14,
    "start_time": "2021-09-27T19:28:29.884Z"
   },
   {
    "duration": 5,
    "start_time": "2021-09-27T19:28:29.900Z"
   },
   {
    "duration": 3,
    "start_time": "2021-09-27T19:28:29.906Z"
   },
   {
    "duration": 6,
    "start_time": "2021-09-27T19:28:29.910Z"
   },
   {
    "duration": 609,
    "start_time": "2021-09-27T19:28:29.918Z"
   },
   {
    "duration": 22,
    "start_time": "2021-09-27T19:28:30.529Z"
   },
   {
    "duration": 9,
    "start_time": "2021-09-27T19:28:30.553Z"
   },
   {
    "duration": 32,
    "start_time": "2021-09-27T19:28:30.564Z"
   },
   {
    "duration": 49,
    "start_time": "2021-09-27T19:28:30.600Z"
   },
   {
    "duration": 28,
    "start_time": "2021-09-27T19:28:30.651Z"
   },
   {
    "duration": 24,
    "start_time": "2021-09-27T19:28:30.681Z"
   },
   {
    "duration": 722,
    "start_time": "2021-09-28T17:12:54.511Z"
   },
   {
    "duration": 3,
    "start_time": "2021-09-28T17:12:56.645Z"
   },
   {
    "duration": 110,
    "start_time": "2021-09-28T17:16:08.642Z"
   },
   {
    "duration": 3,
    "start_time": "2021-09-28T17:16:18.390Z"
   },
   {
    "duration": 448,
    "start_time": "2021-09-28T17:16:57.078Z"
   },
   {
    "duration": 3,
    "start_time": "2021-09-28T17:17:22.172Z"
   },
   {
    "duration": 113,
    "start_time": "2021-09-28T17:17:22.178Z"
   },
   {
    "duration": 19,
    "start_time": "2021-09-28T17:17:22.294Z"
   },
   {
    "duration": 18,
    "start_time": "2021-09-28T17:17:22.316Z"
   },
   {
    "duration": 39,
    "start_time": "2021-09-28T17:17:22.336Z"
   },
   {
    "duration": 23,
    "start_time": "2021-09-28T17:17:22.377Z"
   },
   {
    "duration": 16,
    "start_time": "2021-09-28T17:17:22.403Z"
   },
   {
    "duration": 70,
    "start_time": "2021-09-28T17:17:22.421Z"
   },
   {
    "duration": 8,
    "start_time": "2021-09-28T17:17:22.493Z"
   },
   {
    "duration": 4518,
    "start_time": "2021-09-28T17:17:22.503Z"
   },
   {
    "duration": 13,
    "start_time": "2021-09-28T17:17:27.024Z"
   },
   {
    "duration": 30,
    "start_time": "2021-09-28T17:17:27.040Z"
   },
   {
    "duration": 11,
    "start_time": "2021-09-28T17:17:27.073Z"
   },
   {
    "duration": 6,
    "start_time": "2021-09-28T17:17:27.087Z"
   },
   {
    "duration": 31,
    "start_time": "2021-09-28T17:17:27.096Z"
   },
   {
    "duration": 39,
    "start_time": "2021-09-28T17:17:27.130Z"
   },
   {
    "duration": 7,
    "start_time": "2021-09-28T17:17:27.172Z"
   },
   {
    "duration": 13,
    "start_time": "2021-09-28T17:17:27.182Z"
   },
   {
    "duration": 5,
    "start_time": "2021-09-28T17:17:27.200Z"
   },
   {
    "duration": 1115,
    "start_time": "2021-09-28T17:17:27.207Z"
   },
   {
    "duration": 17,
    "start_time": "2021-09-28T17:17:28.324Z"
   },
   {
    "duration": 35,
    "start_time": "2021-09-28T17:17:28.344Z"
   },
   {
    "duration": 44,
    "start_time": "2021-09-28T17:17:28.381Z"
   },
   {
    "duration": 58,
    "start_time": "2021-09-28T17:17:28.428Z"
   },
   {
    "duration": 39,
    "start_time": "2021-09-28T17:17:28.488Z"
   },
   {
    "duration": 60,
    "start_time": "2021-09-28T17:17:28.529Z"
   },
   {
    "duration": 8,
    "start_time": "2021-09-28T17:18:00.198Z"
   },
   {
    "duration": 3,
    "start_time": "2021-09-28T17:18:11.639Z"
   },
   {
    "duration": 725,
    "start_time": "2021-09-28T17:18:11.645Z"
   },
   {
    "duration": 18,
    "start_time": "2021-09-28T17:18:12.374Z"
   },
   {
    "duration": 27,
    "start_time": "2021-09-28T17:18:12.395Z"
   },
   {
    "duration": 26,
    "start_time": "2021-09-28T17:18:12.425Z"
   },
   {
    "duration": 55,
    "start_time": "2021-09-28T17:18:12.454Z"
   },
   {
    "duration": 15,
    "start_time": "2021-09-28T17:18:12.513Z"
   },
   {
    "duration": 49,
    "start_time": "2021-09-28T17:18:12.531Z"
   },
   {
    "duration": 8,
    "start_time": "2021-09-28T17:18:12.583Z"
   },
   {
    "duration": 4950,
    "start_time": "2021-09-28T17:18:12.593Z"
   },
   {
    "duration": 26,
    "start_time": "2021-09-28T17:18:17.546Z"
   },
   {
    "duration": 15,
    "start_time": "2021-09-28T17:18:17.574Z"
   },
   {
    "duration": 14,
    "start_time": "2021-09-28T17:18:17.592Z"
   },
   {
    "duration": 8,
    "start_time": "2021-09-28T17:18:17.609Z"
   },
   {
    "duration": 59,
    "start_time": "2021-09-28T17:18:17.619Z"
   },
   {
    "duration": 16,
    "start_time": "2021-09-28T17:18:17.681Z"
   },
   {
    "duration": 8,
    "start_time": "2021-09-28T17:18:17.699Z"
   },
   {
    "duration": 4,
    "start_time": "2021-09-28T17:18:17.709Z"
   },
   {
    "duration": 8,
    "start_time": "2021-09-28T17:18:17.716Z"
   },
   {
    "duration": 1157,
    "start_time": "2021-09-28T17:18:17.726Z"
   },
   {
    "duration": 17,
    "start_time": "2021-09-28T17:18:18.885Z"
   },
   {
    "duration": 13,
    "start_time": "2021-09-28T17:18:18.904Z"
   },
   {
    "duration": 69,
    "start_time": "2021-09-28T17:18:18.919Z"
   },
   {
    "duration": 40,
    "start_time": "2021-09-28T17:18:18.990Z"
   },
   {
    "duration": 61,
    "start_time": "2021-09-28T17:18:19.032Z"
   },
   {
    "duration": 39,
    "start_time": "2021-09-28T17:18:19.095Z"
   },
   {
    "duration": 4733,
    "start_time": "2021-09-28T17:31:09.649Z"
   },
   {
    "duration": 318,
    "start_time": "2021-09-28T18:09:22.036Z"
   },
   {
    "duration": 360,
    "start_time": "2021-09-28T18:09:30.340Z"
   },
   {
    "duration": 46,
    "start_time": "2021-09-28T18:09:54.141Z"
   },
   {
    "duration": 352,
    "start_time": "2021-09-28T18:10:51.071Z"
   },
   {
    "duration": 50,
    "start_time": "2021-09-28T18:11:07.344Z"
   },
   {
    "duration": 47,
    "start_time": "2021-09-28T18:13:12.639Z"
   },
   {
    "duration": 3,
    "start_time": "2021-09-28T18:19:23.296Z"
   },
   {
    "duration": 99,
    "start_time": "2021-09-28T18:19:23.302Z"
   },
   {
    "duration": 20,
    "start_time": "2021-09-28T18:19:23.435Z"
   },
   {
    "duration": 20,
    "start_time": "2021-09-28T18:19:23.458Z"
   },
   {
    "duration": 14,
    "start_time": "2021-09-28T18:19:23.483Z"
   },
   {
    "duration": 66,
    "start_time": "2021-09-28T18:19:23.501Z"
   },
   {
    "duration": 24,
    "start_time": "2021-09-28T18:19:23.571Z"
   },
   {
    "duration": 75,
    "start_time": "2021-09-28T18:19:23.598Z"
   },
   {
    "duration": 12,
    "start_time": "2021-09-28T18:19:23.676Z"
   },
   {
    "duration": 4624,
    "start_time": "2021-09-28T18:19:23.693Z"
   },
   {
    "duration": 15,
    "start_time": "2021-09-28T18:19:28.320Z"
   },
   {
    "duration": 43,
    "start_time": "2021-09-28T18:19:28.337Z"
   },
   {
    "duration": 28,
    "start_time": "2021-09-28T18:19:28.383Z"
   },
   {
    "duration": 12,
    "start_time": "2021-09-28T18:19:28.413Z"
   },
   {
    "duration": 6,
    "start_time": "2021-09-28T18:19:28.428Z"
   },
   {
    "duration": 19,
    "start_time": "2021-09-28T18:19:28.468Z"
   },
   {
    "duration": 20,
    "start_time": "2021-09-28T18:19:28.490Z"
   },
   {
    "duration": 7,
    "start_time": "2021-09-28T18:19:28.513Z"
   },
   {
    "duration": 4,
    "start_time": "2021-09-28T18:19:28.523Z"
   },
   {
    "duration": 37,
    "start_time": "2021-09-28T18:19:28.530Z"
   },
   {
    "duration": 1133,
    "start_time": "2021-09-28T18:19:28.570Z"
   },
   {
    "duration": 17,
    "start_time": "2021-09-28T18:19:29.706Z"
   },
   {
    "duration": 48,
    "start_time": "2021-09-28T18:19:29.726Z"
   },
   {
    "duration": 43,
    "start_time": "2021-09-28T18:19:29.777Z"
   },
   {
    "duration": 73,
    "start_time": "2021-09-28T18:19:29.823Z"
   },
   {
    "duration": 69,
    "start_time": "2021-09-28T18:19:29.900Z"
   },
   {
    "duration": 57,
    "start_time": "2021-09-28T18:19:29.971Z"
   },
   {
    "duration": 71,
    "start_time": "2021-09-28T18:19:30.030Z"
   },
   {
    "duration": 52,
    "start_time": "2021-09-28T18:46:02.947Z"
   },
   {
    "duration": 15,
    "start_time": "2021-09-28T18:57:40.344Z"
   },
   {
    "duration": 15,
    "start_time": "2021-09-28T18:57:41.991Z"
   },
   {
    "duration": 16,
    "start_time": "2021-09-28T18:57:43.344Z"
   },
   {
    "duration": 3,
    "start_time": "2021-09-28T18:57:47.924Z"
   },
   {
    "duration": 96,
    "start_time": "2021-09-28T18:57:47.935Z"
   },
   {
    "duration": 44,
    "start_time": "2021-09-28T18:57:48.033Z"
   },
   {
    "duration": 14,
    "start_time": "2021-09-28T18:57:48.080Z"
   },
   {
    "duration": 11,
    "start_time": "2021-09-28T18:57:48.097Z"
   },
   {
    "duration": 59,
    "start_time": "2021-09-28T18:57:48.111Z"
   },
   {
    "duration": 19,
    "start_time": "2021-09-28T18:57:48.172Z"
   },
   {
    "duration": 80,
    "start_time": "2021-09-28T18:57:48.194Z"
   },
   {
    "duration": 13,
    "start_time": "2021-09-28T18:57:48.278Z"
   },
   {
    "duration": 4705,
    "start_time": "2021-09-28T18:57:48.294Z"
   },
   {
    "duration": 14,
    "start_time": "2021-09-28T18:57:53.003Z"
   },
   {
    "duration": 47,
    "start_time": "2021-09-28T18:57:53.020Z"
   },
   {
    "duration": 25,
    "start_time": "2021-09-28T18:57:53.070Z"
   },
   {
    "duration": 11,
    "start_time": "2021-09-28T18:57:53.098Z"
   },
   {
    "duration": 85,
    "start_time": "2021-09-28T18:57:53.112Z"
   },
   {
    "duration": 6,
    "start_time": "2021-09-28T18:57:53.199Z"
   },
   {
    "duration": 17,
    "start_time": "2021-09-28T18:57:53.207Z"
   },
   {
    "duration": 46,
    "start_time": "2021-09-28T18:57:53.226Z"
   },
   {
    "duration": 15,
    "start_time": "2021-09-28T18:57:53.274Z"
   },
   {
    "duration": 17,
    "start_time": "2021-09-28T18:57:53.293Z"
   },
   {
    "duration": 10,
    "start_time": "2021-09-28T18:57:53.313Z"
   },
   {
    "duration": 41,
    "start_time": "2021-09-28T18:57:53.326Z"
   },
   {
    "duration": 5,
    "start_time": "2021-09-28T18:57:53.371Z"
   },
   {
    "duration": 1112,
    "start_time": "2021-09-28T18:57:53.383Z"
   },
   {
    "duration": 19,
    "start_time": "2021-09-28T18:57:54.499Z"
   },
   {
    "duration": 13,
    "start_time": "2021-09-28T18:57:54.520Z"
   },
   {
    "duration": 70,
    "start_time": "2021-09-28T18:57:54.535Z"
   },
   {
    "duration": 66,
    "start_time": "2021-09-28T18:57:54.607Z"
   },
   {
    "duration": 49,
    "start_time": "2021-09-28T18:57:54.675Z"
   },
   {
    "duration": 65,
    "start_time": "2021-09-28T18:57:54.727Z"
   },
   {
    "duration": 47,
    "start_time": "2021-09-28T18:59:15.613Z"
   },
   {
    "duration": 4,
    "start_time": "2021-09-28T19:26:16.779Z"
   },
   {
    "duration": 97,
    "start_time": "2021-09-28T19:26:16.786Z"
   },
   {
    "duration": 18,
    "start_time": "2021-09-28T19:26:16.886Z"
   },
   {
    "duration": 14,
    "start_time": "2021-09-28T19:26:16.907Z"
   },
   {
    "duration": 43,
    "start_time": "2021-09-28T19:26:16.924Z"
   },
   {
    "duration": 23,
    "start_time": "2021-09-28T19:26:16.970Z"
   },
   {
    "duration": 16,
    "start_time": "2021-09-28T19:26:16.996Z"
   },
   {
    "duration": 62,
    "start_time": "2021-09-28T19:26:17.015Z"
   },
   {
    "duration": 9,
    "start_time": "2021-09-28T19:26:17.080Z"
   },
   {
    "duration": 4649,
    "start_time": "2021-09-28T19:26:17.091Z"
   },
   {
    "duration": 30,
    "start_time": "2021-09-28T19:26:21.742Z"
   },
   {
    "duration": 22,
    "start_time": "2021-09-28T19:26:21.774Z"
   },
   {
    "duration": 23,
    "start_time": "2021-09-28T19:26:21.798Z"
   },
   {
    "duration": 10,
    "start_time": "2021-09-28T19:26:21.824Z"
   },
   {
    "duration": 49,
    "start_time": "2021-09-28T19:26:21.869Z"
   },
   {
    "duration": 18,
    "start_time": "2021-09-28T19:26:21.920Z"
   },
   {
    "duration": 19,
    "start_time": "2021-09-28T19:26:21.968Z"
   },
   {
    "duration": 15,
    "start_time": "2021-09-28T19:26:21.989Z"
   },
   {
    "duration": 17,
    "start_time": "2021-09-28T19:26:22.007Z"
   },
   {
    "duration": 42,
    "start_time": "2021-09-28T19:26:22.026Z"
   },
   {
    "duration": 3,
    "start_time": "2021-09-28T19:26:22.071Z"
   },
   {
    "duration": 11,
    "start_time": "2021-09-28T19:26:22.076Z"
   },
   {
    "duration": 1099,
    "start_time": "2021-09-28T19:26:22.089Z"
   },
   {
    "duration": 20,
    "start_time": "2021-09-28T19:26:23.190Z"
   },
   {
    "duration": 12,
    "start_time": "2021-09-28T19:26:23.213Z"
   },
   {
    "duration": 75,
    "start_time": "2021-09-28T19:26:23.227Z"
   },
   {
    "duration": 46,
    "start_time": "2021-09-28T19:26:23.305Z"
   },
   {
    "duration": 47,
    "start_time": "2021-09-28T19:26:23.369Z"
   },
   {
    "duration": 66,
    "start_time": "2021-09-28T19:26:23.419Z"
   },
   {
    "duration": 46,
    "start_time": "2021-09-28T19:26:23.488Z"
   },
   {
    "duration": 1124,
    "start_time": "2021-09-28T19:38:54.629Z"
   },
   {
    "duration": 158,
    "start_time": "2021-09-28T19:38:55.757Z"
   },
   {
    "duration": 32,
    "start_time": "2021-09-28T19:38:55.919Z"
   },
   {
    "duration": 15,
    "start_time": "2021-09-28T19:38:55.969Z"
   },
   {
    "duration": 10,
    "start_time": "2021-09-28T19:38:55.986Z"
   },
   {
    "duration": 24,
    "start_time": "2021-09-28T19:38:55.999Z"
   },
   {
    "duration": 56,
    "start_time": "2021-09-28T19:38:56.025Z"
   },
   {
    "duration": 32,
    "start_time": "2021-09-28T19:38:56.086Z"
   },
   {
    "duration": 12,
    "start_time": "2021-09-28T19:38:56.121Z"
   },
   {
    "duration": 4805,
    "start_time": "2021-09-28T19:38:56.167Z"
   },
   {
    "duration": 15,
    "start_time": "2021-09-28T19:39:00.975Z"
   },
   {
    "duration": 25,
    "start_time": "2021-09-28T19:39:00.992Z"
   },
   {
    "duration": 52,
    "start_time": "2021-09-28T19:39:01.019Z"
   },
   {
    "duration": 19,
    "start_time": "2021-09-28T19:39:01.074Z"
   },
   {
    "duration": 72,
    "start_time": "2021-09-28T19:39:01.095Z"
   },
   {
    "duration": 20,
    "start_time": "2021-09-28T19:39:01.171Z"
   },
   {
    "duration": 60,
    "start_time": "2021-09-28T19:39:01.193Z"
   },
   {
    "duration": 40,
    "start_time": "2021-09-28T19:39:01.257Z"
   },
   {
    "duration": 50,
    "start_time": "2021-09-28T19:39:01.300Z"
   },
   {
    "duration": 37,
    "start_time": "2021-09-28T19:39:01.353Z"
   },
   {
    "duration": 10,
    "start_time": "2021-09-28T19:39:01.393Z"
   },
   {
    "duration": 24,
    "start_time": "2021-09-28T19:39:01.406Z"
   },
   {
    "duration": 1177,
    "start_time": "2021-09-28T19:39:01.434Z"
   },
   {
    "duration": 19,
    "start_time": "2021-09-28T19:39:02.613Z"
   },
   {
    "duration": 34,
    "start_time": "2021-09-28T19:39:02.635Z"
   },
   {
    "duration": 44,
    "start_time": "2021-09-28T19:39:02.672Z"
   },
   {
    "duration": 68,
    "start_time": "2021-09-28T19:39:02.718Z"
   },
   {
    "duration": 50,
    "start_time": "2021-09-28T19:39:02.789Z"
   },
   {
    "duration": 47,
    "start_time": "2021-09-28T19:39:02.867Z"
   },
   {
    "duration": 69,
    "start_time": "2021-09-28T19:39:02.917Z"
   },
   {
    "duration": 16,
    "start_time": "2021-09-28T20:18:09.383Z"
   },
   {
    "duration": 4,
    "start_time": "2021-09-28T20:18:11.854Z"
   },
   {
    "duration": 114,
    "start_time": "2021-09-28T20:18:11.861Z"
   },
   {
    "duration": 20,
    "start_time": "2021-09-28T20:18:11.978Z"
   },
   {
    "duration": 13,
    "start_time": "2021-09-28T20:18:12.001Z"
   },
   {
    "duration": 55,
    "start_time": "2021-09-28T20:18:12.017Z"
   },
   {
    "duration": 24,
    "start_time": "2021-09-28T20:18:12.074Z"
   },
   {
    "duration": 15,
    "start_time": "2021-09-28T20:18:12.102Z"
   },
   {
    "duration": 64,
    "start_time": "2021-09-28T20:18:12.120Z"
   },
   {
    "duration": 9,
    "start_time": "2021-09-28T20:18:12.187Z"
   },
   {
    "duration": 5135,
    "start_time": "2021-09-28T20:18:12.199Z"
   },
   {
    "duration": 34,
    "start_time": "2021-09-28T20:18:17.337Z"
   },
   {
    "duration": 24,
    "start_time": "2021-09-28T20:18:17.374Z"
   },
   {
    "duration": 29,
    "start_time": "2021-09-28T20:18:17.400Z"
   },
   {
    "duration": 46,
    "start_time": "2021-09-28T20:18:17.432Z"
   },
   {
    "duration": 49,
    "start_time": "2021-09-28T20:18:17.481Z"
   },
   {
    "duration": 56,
    "start_time": "2021-09-28T20:18:17.534Z"
   },
   {
    "duration": 21,
    "start_time": "2021-09-28T20:18:17.593Z"
   },
   {
    "duration": 23,
    "start_time": "2021-09-28T20:18:17.617Z"
   },
   {
    "duration": 21,
    "start_time": "2021-09-28T20:18:17.673Z"
   },
   {
    "duration": 10,
    "start_time": "2021-09-28T20:18:17.698Z"
   },
   {
    "duration": 4,
    "start_time": "2021-09-28T20:18:17.712Z"
   },
   {
    "duration": 6,
    "start_time": "2021-09-28T20:18:17.719Z"
   },
   {
    "duration": 2174,
    "start_time": "2021-09-28T20:18:17.769Z"
   },
   {
    "duration": 33,
    "start_time": "2021-09-28T20:18:19.946Z"
   },
   {
    "duration": 13,
    "start_time": "2021-09-28T20:18:19.982Z"
   },
   {
    "duration": 71,
    "start_time": "2021-09-28T20:18:19.998Z"
   },
   {
    "duration": 53,
    "start_time": "2021-09-28T20:18:20.071Z"
   },
   {
    "duration": 72,
    "start_time": "2021-09-28T20:18:20.126Z"
   },
   {
    "duration": 26,
    "start_time": "2021-09-28T20:18:20.201Z"
   },
   {
    "duration": 69,
    "start_time": "2021-09-28T20:18:20.229Z"
   },
   {
    "duration": 46,
    "start_time": "2021-09-28T20:18:20.301Z"
   },
   {
    "duration": 28,
    "start_time": "2021-09-28T20:20:30.950Z"
   },
   {
    "duration": 13,
    "start_time": "2021-09-28T20:22:37.176Z"
   },
   {
    "duration": 98,
    "start_time": "2021-09-28T20:23:55.210Z"
   },
   {
    "duration": 109,
    "start_time": "2021-09-28T20:24:08.596Z"
   },
   {
    "duration": 1288,
    "start_time": "2021-09-28T20:24:42.063Z"
   },
   {
    "duration": 737,
    "start_time": "2021-09-28T20:24:49.248Z"
   },
   {
    "duration": 14,
    "start_time": "2021-09-28T20:25:58.057Z"
   },
   {
    "duration": 272,
    "start_time": "2021-09-28T20:26:00.769Z"
   },
   {
    "duration": 16,
    "start_time": "2021-09-28T20:26:21.946Z"
   },
   {
    "duration": 854,
    "start_time": "2021-09-28T20:54:01.084Z"
   },
   {
    "duration": 126,
    "start_time": "2021-09-28T20:54:01.941Z"
   },
   {
    "duration": 21,
    "start_time": "2021-09-28T20:54:02.070Z"
   },
   {
    "duration": 21,
    "start_time": "2021-09-28T20:54:02.094Z"
   },
   {
    "duration": 18,
    "start_time": "2021-09-28T20:54:02.117Z"
   },
   {
    "duration": 49,
    "start_time": "2021-09-28T20:54:02.137Z"
   },
   {
    "duration": 15,
    "start_time": "2021-09-28T20:54:02.188Z"
   },
   {
    "duration": 62,
    "start_time": "2021-09-28T20:54:02.207Z"
   },
   {
    "duration": 11,
    "start_time": "2021-09-28T20:54:02.272Z"
   },
   {
    "duration": 4611,
    "start_time": "2021-09-28T20:54:02.286Z"
   },
   {
    "duration": 16,
    "start_time": "2021-09-28T20:54:06.901Z"
   },
   {
    "duration": 47,
    "start_time": "2021-09-28T20:54:06.920Z"
   },
   {
    "duration": 24,
    "start_time": "2021-09-28T20:54:06.971Z"
   },
   {
    "duration": 11,
    "start_time": "2021-09-28T20:54:06.997Z"
   },
   {
    "duration": 87,
    "start_time": "2021-09-28T20:54:07.010Z"
   },
   {
    "duration": 18,
    "start_time": "2021-09-28T20:54:07.099Z"
   },
   {
    "duration": 30,
    "start_time": "2021-09-28T20:54:07.120Z"
   },
   {
    "duration": 17,
    "start_time": "2021-09-28T20:54:07.168Z"
   },
   {
    "duration": 26,
    "start_time": "2021-09-28T20:54:07.188Z"
   },
   {
    "duration": 22,
    "start_time": "2021-09-28T20:54:07.217Z"
   },
   {
    "duration": 14,
    "start_time": "2021-09-28T20:54:07.242Z"
   },
   {
    "duration": 28,
    "start_time": "2021-09-28T20:54:07.259Z"
   },
   {
    "duration": 1112,
    "start_time": "2021-09-28T20:54:07.292Z"
   },
   {
    "duration": 17,
    "start_time": "2021-09-28T20:54:08.407Z"
   },
   {
    "duration": 28,
    "start_time": "2021-09-28T20:54:08.427Z"
   },
   {
    "duration": 57,
    "start_time": "2021-09-28T20:54:08.468Z"
   },
   {
    "duration": 61,
    "start_time": "2021-09-28T20:54:08.528Z"
   },
   {
    "duration": 48,
    "start_time": "2021-09-28T20:54:08.592Z"
   },
   {
    "duration": 65,
    "start_time": "2021-09-28T20:54:08.643Z"
   },
   {
    "duration": 68,
    "start_time": "2021-09-28T20:54:08.711Z"
   },
   {
    "duration": 66,
    "start_time": "2021-09-29T16:35:24.785Z"
   }
  ],
  "kernelspec": {
   "display_name": "Python 3 (ipykernel)",
   "language": "python",
   "name": "python3"
  },
  "language_info": {
   "codemirror_mode": {
    "name": "ipython",
    "version": 3
   },
   "file_extension": ".py",
   "mimetype": "text/x-python",
   "name": "python",
   "nbconvert_exporter": "python",
   "pygments_lexer": "ipython3",
   "version": "3.9.7"
  },
  "toc": {
   "base_numbering": 1,
   "nav_menu": {},
   "number_sections": true,
   "sideBar": true,
   "skip_h1_title": true,
   "title_cell": "Table of Contents",
   "title_sidebar": "Contents",
   "toc_cell": false,
   "toc_position": {
    "height": "calc(100% - 180px)",
    "left": "10px",
    "top": "150px",
    "width": "253.625px"
   },
   "toc_section_display": true,
   "toc_window_display": true
  }
 },
 "nbformat": 4,
 "nbformat_minor": 2
}
